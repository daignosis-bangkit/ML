{
  "nbformat": 4,
  "nbformat_minor": 0,
  "metadata": {
    "colab": {
      "provenance": []
    },
    "kernelspec": {
      "name": "python3",
      "display_name": "Python 3"
    },
    "language_info": {
      "name": "python"
    }
  },
  "cells": [
    {
      "cell_type": "markdown",
      "source": [
        "Describe"
      ],
      "metadata": {
        "id": "7Ko-JqJIDM1-"
      }
    },
    {
      "cell_type": "code",
      "execution_count": null,
      "metadata": {
        "colab": {
          "base_uri": "https://localhost:8080/"
        },
        "id": "etoIhhxaCikZ",
        "outputId": "5653c999-b01c-4632-d984-ec1fff208de2"
      },
      "outputs": [
        {
          "output_type": "stream",
          "name": "stdout",
          "text": [
            "Mounted at /content/drive\n"
          ]
        }
      ],
      "source": [
        "from google.colab import drive\n",
        "drive.mount('/content/drive')"
      ]
    },
    {
      "cell_type": "code",
      "source": [
        "import pandas as pd\n",
        "path_des = \"/content/drive/MyDrive/capstone/ml code (celia iseng)/describe/Symptom2Disease.csv\"\n",
        "df_des = pd.read_csv(path_des)"
      ],
      "metadata": {
        "id": "9EkKquPdDK4y"
      },
      "execution_count": null,
      "outputs": []
    },
    {
      "cell_type": "code",
      "source": [
        "!pip install rake-nltk\n",
        "import nltk\n",
        "from rake_nltk import Rake\n",
        "nltk.download('stopwords')\n",
        "nltk.download('punkt')"
      ],
      "metadata": {
        "colab": {
          "base_uri": "https://localhost:8080/"
        },
        "id": "KO6nnydfDRM4",
        "outputId": "3a1665b7-6519-4d0d-f5c4-f69e02d6e323"
      },
      "execution_count": null,
      "outputs": [
        {
          "output_type": "stream",
          "name": "stdout",
          "text": [
            "Looking in indexes: https://pypi.org/simple, https://us-python.pkg.dev/colab-wheels/public/simple/\n",
            "Collecting rake-nltk\n",
            "  Downloading rake_nltk-1.0.6-py3-none-any.whl (9.1 kB)\n",
            "Requirement already satisfied: nltk<4.0.0,>=3.6.2 in /usr/local/lib/python3.10/dist-packages (from rake-nltk) (3.8.1)\n",
            "Requirement already satisfied: click in /usr/local/lib/python3.10/dist-packages (from nltk<4.0.0,>=3.6.2->rake-nltk) (8.1.3)\n",
            "Requirement already satisfied: joblib in /usr/local/lib/python3.10/dist-packages (from nltk<4.0.0,>=3.6.2->rake-nltk) (1.2.0)\n",
            "Requirement already satisfied: regex>=2021.8.3 in /usr/local/lib/python3.10/dist-packages (from nltk<4.0.0,>=3.6.2->rake-nltk) (2022.10.31)\n",
            "Requirement already satisfied: tqdm in /usr/local/lib/python3.10/dist-packages (from nltk<4.0.0,>=3.6.2->rake-nltk) (4.65.0)\n",
            "Installing collected packages: rake-nltk\n",
            "Successfully installed rake-nltk-1.0.6\n"
          ]
        },
        {
          "output_type": "stream",
          "name": "stderr",
          "text": [
            "[nltk_data] Downloading package stopwords to /root/nltk_data...\n",
            "[nltk_data]   Unzipping corpora/stopwords.zip.\n",
            "[nltk_data] Downloading package punkt to /root/nltk_data...\n",
            "[nltk_data]   Unzipping tokenizers/punkt.zip.\n"
          ]
        },
        {
          "output_type": "execute_result",
          "data": {
            "text/plain": [
              "True"
            ]
          },
          "metadata": {},
          "execution_count": 3
        }
      ]
    },
    {
      "cell_type": "code",
      "source": [
        "#remove function\n",
        "def keywords(text):\n",
        "  key_arr = []\n",
        "  r = Rake()\n",
        "  r.extract_keywords_from_text(text)\n",
        "  for rating, keyword in r.get_ranked_phrases_with_scores():\n",
        "    key_arr.append(keyword)\n",
        "  return key_arr\n",
        "\n",
        "def sen(arr):\n",
        "  s = \" \".join([str(item) for item in arr])\n",
        "  return s"
      ],
      "metadata": {
        "id": "Jw3MtMREDhxg"
      },
      "execution_count": null,
      "outputs": []
    },
    {
      "cell_type": "code",
      "source": [
        "sentences_des = []\n",
        "for i in df_des['text'].values.tolist():\n",
        "  sentences_des.append(sen(keywords(i)))"
      ],
      "metadata": {
        "id": "h_xCdHXhDj8u"
      },
      "execution_count": null,
      "outputs": []
    },
    {
      "cell_type": "code",
      "source": [
        "des_diseases = df_des['label']"
      ],
      "metadata": {
        "id": "eWAQWmWnDprK"
      },
      "execution_count": null,
      "outputs": []
    },
    {
      "cell_type": "markdown",
      "source": [
        "Ceklis"
      ],
      "metadata": {
        "id": "Ad7vC3NKEF5O"
      }
    },
    {
      "cell_type": "code",
      "source": [
        "path_check = \"/content/drive/MyDrive/capstone/ml code (celia iseng)/checklist/dataset.csv\"\n",
        "df_check = pd.read_csv(path_check)"
      ],
      "metadata": {
        "id": "WIx0cnnADrr_"
      },
      "execution_count": null,
      "outputs": []
    },
    {
      "cell_type": "code",
      "source": [
        "symptoms_check = df_check.drop(columns=['Disease'])"
      ],
      "metadata": {
        "id": "F88qrOByEKNB"
      },
      "execution_count": null,
      "outputs": []
    },
    {
      "cell_type": "code",
      "source": [
        "import numpy as np\n",
        "symptoms_check = symptoms_check.to_numpy()\n",
        "sentences_check = []\n",
        "for i in symptoms_check:\n",
        "  #print(i)\n",
        "  s = \" \".join([str(item).replace(\"_\", \" \") for item in i if str(item) != \"nan\"])\n",
        "  sentences_check = np.append(sentences_check,s)"
      ],
      "metadata": {
        "id": "tltF-ekxENIB"
      },
      "execution_count": null,
      "outputs": []
    },
    {
      "cell_type": "code",
      "source": [
        "sentences_check = sentences_check.tolist()"
      ],
      "metadata": {
        "id": "uQlBQrtMEYWE"
      },
      "execution_count": null,
      "outputs": []
    },
    {
      "cell_type": "code",
      "source": [
        "check_diseases = df_check['Disease']"
      ],
      "metadata": {
        "id": "24rqlJ5lEY2v"
      },
      "execution_count": null,
      "outputs": []
    },
    {
      "cell_type": "code",
      "source": [
        "des_diseases = des_diseases.values.tolist()\n",
        "check_diseases = check_diseases.values.tolist()"
      ],
      "metadata": {
        "id": "Z4lSgbhmEbsW"
      },
      "execution_count": null,
      "outputs": []
    },
    {
      "cell_type": "markdown",
      "source": [
        "menggabungkan dataset"
      ],
      "metadata": {
        "id": "TtnVGnreEhV0"
      }
    },
    {
      "cell_type": "code",
      "source": [
        "sentences = sentences_check + sentences_des\n",
        "diseases = check_diseases + des_diseases"
      ],
      "metadata": {
        "id": "87ATPq6KEemV"
      },
      "execution_count": null,
      "outputs": []
    },
    {
      "cell_type": "code",
      "source": [
        "df = {'Diseases': diseases,'sentences': sentences}\n",
        "df = pd.DataFrame(df)\n",
        "print(df) "
      ],
      "metadata": {
        "colab": {
          "base_uri": "https://localhost:8080/"
        },
        "id": "MV3OnjwREoZO",
        "outputId": "e94dad1c-9b9c-44fc-dad2-f4b457d3891d"
      },
      "execution_count": null,
      "outputs": [
        {
          "output_type": "stream",
          "name": "stdout",
          "text": [
            "              Diseases                                          sentences\n",
            "0     Fungal infection  itching  skin rash  nodal skin eruptions  disc...\n",
            "1     Fungal infection   skin rash  nodal skin eruptions  dischromic  ...\n",
            "2     Fungal infection  itching  nodal skin eruptions  dischromic  pat...\n",
            "3     Fungal infection            itching  skin rash  dischromic  patches\n",
            "4     Fungal infection           itching  skin rash  nodal skin eruptions\n",
            "...                ...                                                ...\n",
            "6115          diabetes  occasionally get palpitations speeding heart t...\n",
            "6116          diabetes  cuts take skin rashes skin bruises skin well p...\n",
            "6117          diabetes  frequently feel drowsy also significantly lost...\n",
            "6118          diabetes  urinary tract infections yeast infections trou...\n",
            "6119          diabetes  usually gets better dry cough constantly sneez...\n",
            "\n",
            "[6120 rows x 2 columns]\n"
          ]
        }
      ]
    },
    {
      "cell_type": "code",
      "source": [
        "from sklearn.preprocessing import LabelEncoder\n",
        "label_encoder = LabelEncoder()\n",
        "def label_encode(labels):\n",
        "    label_encoder.fit(labels)\n",
        "    label_sequences = label_encoder.transform(labels)\n",
        "    return label_sequences\n",
        "\n",
        "df['label_encoded'] = label_encode(df['Diseases'])"
      ],
      "metadata": {
        "id": "vSqrWjTCErwI"
      },
      "execution_count": null,
      "outputs": []
    },
    {
      "cell_type": "code",
      "source": [
        "df = df.drop(df[df[\"label_encoded\"]==43].index)\n",
        "df = df.drop(df[df[\"label_encoded\"]==44].index)\n",
        "df = df.drop(df[df[\"label_encoded\"]==45].index)\n",
        "df = df.drop(df[df[\"label_encoded\"]==48].index)\n",
        "df = df.drop(df[df[\"label_encoded\"]==49].index)"
      ],
      "metadata": {
        "id": "EvulQt3bFL41"
      },
      "execution_count": null,
      "outputs": []
    },
    {
      "cell_type": "code",
      "source": [
        "print(len(df.Diseases.unique()))\n",
        "print((df.Diseases.unique()))"
      ],
      "metadata": {
        "colab": {
          "base_uri": "https://localhost:8080/"
        },
        "id": "JDsGKE1OOWQ_",
        "outputId": "d7da20f1-cb58-4971-c07a-540664991268"
      },
      "execution_count": null,
      "outputs": [
        {
          "output_type": "stream",
          "name": "stdout",
          "text": [
            "45\n",
            "['Fungal infection' 'Allergy' 'GERD' 'Chronic cholestasis' 'Drug Reaction'\n",
            " 'Peptic ulcer diseae' 'AIDS' 'Diabetes ' 'Gastroenteritis'\n",
            " 'Bronchial Asthma' 'Hypertension ' 'Migraine' 'Cervical spondylosis'\n",
            " 'Paralysis (brain hemorrhage)' 'Jaundice' 'Malaria' 'Chicken pox'\n",
            " 'Dengue' 'Typhoid' 'hepatitis A' 'Hepatitis B' 'Hepatitis C'\n",
            " 'Hepatitis D' 'Hepatitis E' 'Alcoholic hepatitis' 'Tuberculosis'\n",
            " 'Common Cold' 'Pneumonia' 'Dimorphic hemmorhoids(piles)' 'Heart attack'\n",
            " 'Varicose veins' 'Hypothyroidism' 'Hyperthyroidism' 'Hypoglycemia'\n",
            " 'Osteoarthristis' 'Arthritis' '(vertigo) Paroymsal  Positional Vertigo'\n",
            " 'Acne' 'Urinary tract infection' 'Psoriasis' 'Impetigo' 'Varicose Veins'\n",
            " 'Dimorphic Hemorrhoids' 'Hypertension' 'gastroesophageal reflux disease']\n"
          ]
        }
      ]
    },
    {
      "cell_type": "code",
      "source": [
        "df.head()"
      ],
      "metadata": {
        "colab": {
          "base_uri": "https://localhost:8080/",
          "height": 206
        },
        "id": "fKJYFiCQGy9u",
        "outputId": "de986815-794c-4eac-8ae7-fb423636a618"
      },
      "execution_count": null,
      "outputs": [
        {
          "output_type": "execute_result",
          "data": {
            "text/plain": [
              "           Diseases                                          sentences  \\\n",
              "0  Fungal infection  itching  skin rash  nodal skin eruptions  disc...   \n",
              "1  Fungal infection   skin rash  nodal skin eruptions  dischromic  ...   \n",
              "2  Fungal infection  itching  nodal skin eruptions  dischromic  pat...   \n",
              "3  Fungal infection            itching  skin rash  dischromic  patches   \n",
              "4  Fungal infection           itching  skin rash  nodal skin eruptions   \n",
              "\n",
              "   label_encoded  \n",
              "0             16  \n",
              "1             16  \n",
              "2             16  \n",
              "3             16  \n",
              "4             16  "
            ],
            "text/html": [
              "\n",
              "  <div id=\"df-1dbd3553-6dc0-4b44-8493-207673f30371\">\n",
              "    <div class=\"colab-df-container\">\n",
              "      <div>\n",
              "<style scoped>\n",
              "    .dataframe tbody tr th:only-of-type {\n",
              "        vertical-align: middle;\n",
              "    }\n",
              "\n",
              "    .dataframe tbody tr th {\n",
              "        vertical-align: top;\n",
              "    }\n",
              "\n",
              "    .dataframe thead th {\n",
              "        text-align: right;\n",
              "    }\n",
              "</style>\n",
              "<table border=\"1\" class=\"dataframe\">\n",
              "  <thead>\n",
              "    <tr style=\"text-align: right;\">\n",
              "      <th></th>\n",
              "      <th>Diseases</th>\n",
              "      <th>sentences</th>\n",
              "      <th>label_encoded</th>\n",
              "    </tr>\n",
              "  </thead>\n",
              "  <tbody>\n",
              "    <tr>\n",
              "      <th>0</th>\n",
              "      <td>Fungal infection</td>\n",
              "      <td>itching  skin rash  nodal skin eruptions  disc...</td>\n",
              "      <td>16</td>\n",
              "    </tr>\n",
              "    <tr>\n",
              "      <th>1</th>\n",
              "      <td>Fungal infection</td>\n",
              "      <td>skin rash  nodal skin eruptions  dischromic  ...</td>\n",
              "      <td>16</td>\n",
              "    </tr>\n",
              "    <tr>\n",
              "      <th>2</th>\n",
              "      <td>Fungal infection</td>\n",
              "      <td>itching  nodal skin eruptions  dischromic  pat...</td>\n",
              "      <td>16</td>\n",
              "    </tr>\n",
              "    <tr>\n",
              "      <th>3</th>\n",
              "      <td>Fungal infection</td>\n",
              "      <td>itching  skin rash  dischromic  patches</td>\n",
              "      <td>16</td>\n",
              "    </tr>\n",
              "    <tr>\n",
              "      <th>4</th>\n",
              "      <td>Fungal infection</td>\n",
              "      <td>itching  skin rash  nodal skin eruptions</td>\n",
              "      <td>16</td>\n",
              "    </tr>\n",
              "  </tbody>\n",
              "</table>\n",
              "</div>\n",
              "      <button class=\"colab-df-convert\" onclick=\"convertToInteractive('df-1dbd3553-6dc0-4b44-8493-207673f30371')\"\n",
              "              title=\"Convert this dataframe to an interactive table.\"\n",
              "              style=\"display:none;\">\n",
              "        \n",
              "  <svg xmlns=\"http://www.w3.org/2000/svg\" height=\"24px\"viewBox=\"0 0 24 24\"\n",
              "       width=\"24px\">\n",
              "    <path d=\"M0 0h24v24H0V0z\" fill=\"none\"/>\n",
              "    <path d=\"M18.56 5.44l.94 2.06.94-2.06 2.06-.94-2.06-.94-.94-2.06-.94 2.06-2.06.94zm-11 1L8.5 8.5l.94-2.06 2.06-.94-2.06-.94L8.5 2.5l-.94 2.06-2.06.94zm10 10l.94 2.06.94-2.06 2.06-.94-2.06-.94-.94-2.06-.94 2.06-2.06.94z\"/><path d=\"M17.41 7.96l-1.37-1.37c-.4-.4-.92-.59-1.43-.59-.52 0-1.04.2-1.43.59L10.3 9.45l-7.72 7.72c-.78.78-.78 2.05 0 2.83L4 21.41c.39.39.9.59 1.41.59.51 0 1.02-.2 1.41-.59l7.78-7.78 2.81-2.81c.8-.78.8-2.07 0-2.86zM5.41 20L4 18.59l7.72-7.72 1.47 1.35L5.41 20z\"/>\n",
              "  </svg>\n",
              "      </button>\n",
              "      \n",
              "  <style>\n",
              "    .colab-df-container {\n",
              "      display:flex;\n",
              "      flex-wrap:wrap;\n",
              "      gap: 12px;\n",
              "    }\n",
              "\n",
              "    .colab-df-convert {\n",
              "      background-color: #E8F0FE;\n",
              "      border: none;\n",
              "      border-radius: 50%;\n",
              "      cursor: pointer;\n",
              "      display: none;\n",
              "      fill: #1967D2;\n",
              "      height: 32px;\n",
              "      padding: 0 0 0 0;\n",
              "      width: 32px;\n",
              "    }\n",
              "\n",
              "    .colab-df-convert:hover {\n",
              "      background-color: #E2EBFA;\n",
              "      box-shadow: 0px 1px 2px rgba(60, 64, 67, 0.3), 0px 1px 3px 1px rgba(60, 64, 67, 0.15);\n",
              "      fill: #174EA6;\n",
              "    }\n",
              "\n",
              "    [theme=dark] .colab-df-convert {\n",
              "      background-color: #3B4455;\n",
              "      fill: #D2E3FC;\n",
              "    }\n",
              "\n",
              "    [theme=dark] .colab-df-convert:hover {\n",
              "      background-color: #434B5C;\n",
              "      box-shadow: 0px 1px 3px 1px rgba(0, 0, 0, 0.15);\n",
              "      filter: drop-shadow(0px 1px 2px rgba(0, 0, 0, 0.3));\n",
              "      fill: #FFFFFF;\n",
              "    }\n",
              "  </style>\n",
              "\n",
              "      <script>\n",
              "        const buttonEl =\n",
              "          document.querySelector('#df-1dbd3553-6dc0-4b44-8493-207673f30371 button.colab-df-convert');\n",
              "        buttonEl.style.display =\n",
              "          google.colab.kernel.accessAllowed ? 'block' : 'none';\n",
              "\n",
              "        async function convertToInteractive(key) {\n",
              "          const element = document.querySelector('#df-1dbd3553-6dc0-4b44-8493-207673f30371');\n",
              "          const dataTable =\n",
              "            await google.colab.kernel.invokeFunction('convertToInteractive',\n",
              "                                                     [key], {});\n",
              "          if (!dataTable) return;\n",
              "\n",
              "          const docLinkHtml = 'Like what you see? Visit the ' +\n",
              "            '<a target=\"_blank\" href=https://colab.research.google.com/notebooks/data_table.ipynb>data table notebook</a>'\n",
              "            + ' to learn more about interactive tables.';\n",
              "          element.innerHTML = '';\n",
              "          dataTable['output_type'] = 'display_data';\n",
              "          await google.colab.output.renderOutput(dataTable, element);\n",
              "          const docLink = document.createElement('div');\n",
              "          docLink.innerHTML = docLinkHtml;\n",
              "          element.appendChild(docLink);\n",
              "        }\n",
              "      </script>\n",
              "    </div>\n",
              "  </div>\n",
              "  "
            ]
          },
          "metadata": {},
          "execution_count": 18
        }
      ]
    },
    {
      "cell_type": "code",
      "source": [
        "df.tail()"
      ],
      "metadata": {
        "colab": {
          "base_uri": "https://localhost:8080/",
          "height": 206
        },
        "id": "35paI_y3G1T7",
        "outputId": "0abab58f-5072-4f78-fa59-5254b18f4733"
      },
      "execution_count": null,
      "outputs": [
        {
          "output_type": "execute_result",
          "data": {
            "text/plain": [
              "                             Diseases  \\\n",
              "5965  gastroesophageal reflux disease   \n",
              "5966  gastroesophageal reflux disease   \n",
              "5967  gastroesophageal reflux disease   \n",
              "5968  gastroesophageal reflux disease   \n",
              "5969  gastroesophageal reflux disease   \n",
              "\n",
              "                                              sentences  label_encoded  \n",
              "5965  lean forward fatty foods eating spicy chest hu...             46  \n",
              "5966  constantly get horrible acid reflux agony regu...             46  \n",
              "5967  throat often feels like occasionally get feel ...             46  \n",
              "5968  sour taste anything acidic throat stomach mout...             46  \n",
              "5969  typical symptoms include heartburn throat ting...             46  "
            ],
            "text/html": [
              "\n",
              "  <div id=\"df-9f0d7de4-ace9-4f68-8d75-ae60996487c9\">\n",
              "    <div class=\"colab-df-container\">\n",
              "      <div>\n",
              "<style scoped>\n",
              "    .dataframe tbody tr th:only-of-type {\n",
              "        vertical-align: middle;\n",
              "    }\n",
              "\n",
              "    .dataframe tbody tr th {\n",
              "        vertical-align: top;\n",
              "    }\n",
              "\n",
              "    .dataframe thead th {\n",
              "        text-align: right;\n",
              "    }\n",
              "</style>\n",
              "<table border=\"1\" class=\"dataframe\">\n",
              "  <thead>\n",
              "    <tr style=\"text-align: right;\">\n",
              "      <th></th>\n",
              "      <th>Diseases</th>\n",
              "      <th>sentences</th>\n",
              "      <th>label_encoded</th>\n",
              "    </tr>\n",
              "  </thead>\n",
              "  <tbody>\n",
              "    <tr>\n",
              "      <th>5965</th>\n",
              "      <td>gastroesophageal reflux disease</td>\n",
              "      <td>lean forward fatty foods eating spicy chest hu...</td>\n",
              "      <td>46</td>\n",
              "    </tr>\n",
              "    <tr>\n",
              "      <th>5966</th>\n",
              "      <td>gastroesophageal reflux disease</td>\n",
              "      <td>constantly get horrible acid reflux agony regu...</td>\n",
              "      <td>46</td>\n",
              "    </tr>\n",
              "    <tr>\n",
              "      <th>5967</th>\n",
              "      <td>gastroesophageal reflux disease</td>\n",
              "      <td>throat often feels like occasionally get feel ...</td>\n",
              "      <td>46</td>\n",
              "    </tr>\n",
              "    <tr>\n",
              "      <th>5968</th>\n",
              "      <td>gastroesophageal reflux disease</td>\n",
              "      <td>sour taste anything acidic throat stomach mout...</td>\n",
              "      <td>46</td>\n",
              "    </tr>\n",
              "    <tr>\n",
              "      <th>5969</th>\n",
              "      <td>gastroesophageal reflux disease</td>\n",
              "      <td>typical symptoms include heartburn throat ting...</td>\n",
              "      <td>46</td>\n",
              "    </tr>\n",
              "  </tbody>\n",
              "</table>\n",
              "</div>\n",
              "      <button class=\"colab-df-convert\" onclick=\"convertToInteractive('df-9f0d7de4-ace9-4f68-8d75-ae60996487c9')\"\n",
              "              title=\"Convert this dataframe to an interactive table.\"\n",
              "              style=\"display:none;\">\n",
              "        \n",
              "  <svg xmlns=\"http://www.w3.org/2000/svg\" height=\"24px\"viewBox=\"0 0 24 24\"\n",
              "       width=\"24px\">\n",
              "    <path d=\"M0 0h24v24H0V0z\" fill=\"none\"/>\n",
              "    <path d=\"M18.56 5.44l.94 2.06.94-2.06 2.06-.94-2.06-.94-.94-2.06-.94 2.06-2.06.94zm-11 1L8.5 8.5l.94-2.06 2.06-.94-2.06-.94L8.5 2.5l-.94 2.06-2.06.94zm10 10l.94 2.06.94-2.06 2.06-.94-2.06-.94-.94-2.06-.94 2.06-2.06.94z\"/><path d=\"M17.41 7.96l-1.37-1.37c-.4-.4-.92-.59-1.43-.59-.52 0-1.04.2-1.43.59L10.3 9.45l-7.72 7.72c-.78.78-.78 2.05 0 2.83L4 21.41c.39.39.9.59 1.41.59.51 0 1.02-.2 1.41-.59l7.78-7.78 2.81-2.81c.8-.78.8-2.07 0-2.86zM5.41 20L4 18.59l7.72-7.72 1.47 1.35L5.41 20z\"/>\n",
              "  </svg>\n",
              "      </button>\n",
              "      \n",
              "  <style>\n",
              "    .colab-df-container {\n",
              "      display:flex;\n",
              "      flex-wrap:wrap;\n",
              "      gap: 12px;\n",
              "    }\n",
              "\n",
              "    .colab-df-convert {\n",
              "      background-color: #E8F0FE;\n",
              "      border: none;\n",
              "      border-radius: 50%;\n",
              "      cursor: pointer;\n",
              "      display: none;\n",
              "      fill: #1967D2;\n",
              "      height: 32px;\n",
              "      padding: 0 0 0 0;\n",
              "      width: 32px;\n",
              "    }\n",
              "\n",
              "    .colab-df-convert:hover {\n",
              "      background-color: #E2EBFA;\n",
              "      box-shadow: 0px 1px 2px rgba(60, 64, 67, 0.3), 0px 1px 3px 1px rgba(60, 64, 67, 0.15);\n",
              "      fill: #174EA6;\n",
              "    }\n",
              "\n",
              "    [theme=dark] .colab-df-convert {\n",
              "      background-color: #3B4455;\n",
              "      fill: #D2E3FC;\n",
              "    }\n",
              "\n",
              "    [theme=dark] .colab-df-convert:hover {\n",
              "      background-color: #434B5C;\n",
              "      box-shadow: 0px 1px 3px 1px rgba(0, 0, 0, 0.15);\n",
              "      filter: drop-shadow(0px 1px 2px rgba(0, 0, 0, 0.3));\n",
              "      fill: #FFFFFF;\n",
              "    }\n",
              "  </style>\n",
              "\n",
              "      <script>\n",
              "        const buttonEl =\n",
              "          document.querySelector('#df-9f0d7de4-ace9-4f68-8d75-ae60996487c9 button.colab-df-convert');\n",
              "        buttonEl.style.display =\n",
              "          google.colab.kernel.accessAllowed ? 'block' : 'none';\n",
              "\n",
              "        async function convertToInteractive(key) {\n",
              "          const element = document.querySelector('#df-9f0d7de4-ace9-4f68-8d75-ae60996487c9');\n",
              "          const dataTable =\n",
              "            await google.colab.kernel.invokeFunction('convertToInteractive',\n",
              "                                                     [key], {});\n",
              "          if (!dataTable) return;\n",
              "\n",
              "          const docLinkHtml = 'Like what you see? Visit the ' +\n",
              "            '<a target=\"_blank\" href=https://colab.research.google.com/notebooks/data_table.ipynb>data table notebook</a>'\n",
              "            + ' to learn more about interactive tables.';\n",
              "          element.innerHTML = '';\n",
              "          dataTable['output_type'] = 'display_data';\n",
              "          await google.colab.output.renderOutput(dataTable, element);\n",
              "          const docLink = document.createElement('div');\n",
              "          docLink.innerHTML = docLinkHtml;\n",
              "          element.appendChild(docLink);\n",
              "        }\n",
              "      </script>\n",
              "    </div>\n",
              "  </div>\n",
              "  "
            ]
          },
          "metadata": {},
          "execution_count": 19
        }
      ]
    },
    {
      "cell_type": "code",
      "source": [
        "from sklearn.model_selection import train_test_split\n",
        "x_train, x_val, y_train, y_val = train_test_split(df['sentences'].values.tolist(),df['label_encoded'].values.tolist(), test_size = 0.2, random_state=1)\n",
        "x_train, x_test, y_train, y_test = train_test_split(x_train,y_train, test_size = 0.25, random_state=1)"
      ],
      "metadata": {
        "id": "BDCf5KgTFM0a"
      },
      "execution_count": null,
      "outputs": []
    },
    {
      "cell_type": "code",
      "source": [
        "vocab_size = 2000\n",
        "embedding_dim = 16\n",
        "max_length = 120\n",
        "trunc_type='post'\n",
        "padding_type='post'\n",
        "oov_tok = \"<OOV>\"\n",
        "#training_portion = .8"
      ],
      "metadata": {
        "id": "cdK-LvKPFSF4"
      },
      "execution_count": null,
      "outputs": []
    },
    {
      "cell_type": "code",
      "source": [
        "import tensorflow as tf\n",
        "from tensorflow.keras.preprocessing.text import Tokenizer\n",
        "from tensorflow.keras.preprocessing.sequence import pad_sequences\n",
        "from tensorflow.keras import layers, models, optimizers\n",
        "from tensorflow.keras.layers import Dropout\n",
        "import matplotlib.pyplot as plt"
      ],
      "metadata": {
        "id": "Am4me0DeFT46"
      },
      "execution_count": null,
      "outputs": []
    },
    {
      "cell_type": "code",
      "source": [
        "tokenizer = Tokenizer(num_words = vocab_size, oov_token=oov_tok)\n",
        "tokenizer.fit_on_texts(x_train)\n",
        "word_index = tokenizer.word_index\n",
        "\n",
        "train_sequences = tokenizer.texts_to_sequences(x_train)\n",
        "train_padded = pad_sequences(train_sequences, padding=padding_type, maxlen=max_length)\n",
        "\n",
        "validation_sequences = tokenizer.texts_to_sequences(x_val)\n",
        "validation_padded = pad_sequences(validation_sequences, padding=padding_type, maxlen=max_length)\n",
        "\n",
        "test_sequences = tokenizer.texts_to_sequences(x_test)\n",
        "test_padded = pad_sequences(validation_sequences, padding=padding_type, maxlen=max_length)"
      ],
      "metadata": {
        "id": "33yD5JeBFVZb"
      },
      "execution_count": null,
      "outputs": []
    },
    {
      "cell_type": "code",
      "source": [
        "print(train_padded)"
      ],
      "metadata": {
        "colab": {
          "base_uri": "https://localhost:8080/"
        },
        "id": "yWXNpweLRNGF",
        "outputId": "62158e66-abc9-40ae-9579-a98cd915b664"
      },
      "execution_count": null,
      "outputs": [
        {
          "output_type": "stream",
          "name": "stdout",
          "text": [
            "[[ 63   2  35 ...   0   0   0]\n",
            " [ 63   2  35 ...   0   0   0]\n",
            " [239 242  61 ...   0   0   0]\n",
            " ...\n",
            " [  6  39  24 ...   0   0   0]\n",
            " [  6  11  13 ...   0   0   0]\n",
            " [  6  11  35 ...   0   0   0]]\n"
          ]
        }
      ]
    },
    {
      "cell_type": "code",
      "source": [
        "print(validation_padded)"
      ],
      "metadata": {
        "colab": {
          "base_uri": "https://localhost:8080/"
        },
        "id": "fGNe4VMaRV0_",
        "outputId": "72846391-5af8-42fb-c587-576902aac98a"
      },
      "execution_count": null,
      "outputs": [
        {
          "output_type": "stream",
          "name": "stdout",
          "text": [
            "[[ 76  11  53 ...   0   0   0]\n",
            " [ 73   2 201 ...   0   0   0]\n",
            " [ 76 136  90 ...   0   0   0]\n",
            " ...\n",
            " [ 18   4  15 ...   0   0   0]\n",
            " [  6  71   5 ...   0   0   0]\n",
            " [ 16   6   8 ...   0   0   0]]\n"
          ]
        }
      ]
    },
    {
      "cell_type": "code",
      "source": [
        "def create_model(vocab_size, embedding_dim, max_length):\n",
        "  model = models.Sequential([\n",
        "  layers.Embedding(vocab_size, embedding_dim, input_length=max_length),\n",
        "  layers.GlobalAveragePooling1D(),\n",
        "  layers.Dense(24, activation='relu'),\n",
        "  Dropout(0.1),\n",
        "  layers.Dense(50, activation='softmax')\n",
        "  ])\n",
        "\n",
        "  model.compile(loss=tf.keras.losses.SparseCategoricalCrossentropy(),\n",
        "                optimizer=optimizers.Adam(),\n",
        "                metrics=['accuracy'])\n",
        "  \n",
        "  return model"
      ],
      "metadata": {
        "id": "18RsFmcbFXmc"
      },
      "execution_count": null,
      "outputs": []
    },
    {
      "cell_type": "code",
      "source": [
        "model = create_model(vocab_size, embedding_dim, max_length)\n",
        "model.summary()"
      ],
      "metadata": {
        "colab": {
          "base_uri": "https://localhost:8080/"
        },
        "id": "cB950Nd3Fr_l",
        "outputId": "e8946cd6-34ab-4384-fe46-f163849df570"
      },
      "execution_count": null,
      "outputs": [
        {
          "output_type": "stream",
          "name": "stdout",
          "text": [
            "Model: \"sequential\"\n",
            "_________________________________________________________________\n",
            " Layer (type)                Output Shape              Param #   \n",
            "=================================================================\n",
            " embedding (Embedding)       (None, 120, 16)           32000     \n",
            "                                                                 \n",
            " global_average_pooling1d (G  (None, 16)               0         \n",
            " lobalAveragePooling1D)                                          \n",
            "                                                                 \n",
            " dense (Dense)               (None, 24)                408       \n",
            "                                                                 \n",
            " dropout (Dropout)           (None, 24)                0         \n",
            "                                                                 \n",
            " dense_1 (Dense)             (None, 50)                1250      \n",
            "                                                                 \n",
            "=================================================================\n",
            "Total params: 33,658\n",
            "Trainable params: 33,658\n",
            "Non-trainable params: 0\n",
            "_________________________________________________________________\n"
          ]
        }
      ]
    },
    {
      "cell_type": "code",
      "source": [
        "train_labels = np.array(y_train)\n",
        "validation_labels = np.array(y_val)\n",
        "test_labels = np.array(y_test)\n",
        "train_labels = train_labels.reshape(len(train_labels), 1)\n",
        "validation_labels = validation_labels.reshape(len(validation_labels), 1)\n",
        "test_labels = validation_labels.reshape(len(test_labels), 1)"
      ],
      "metadata": {
        "id": "u1LI_aIBFsel"
      },
      "execution_count": null,
      "outputs": []
    },
    {
      "cell_type": "code",
      "source": [
        "num_epochs = 100\n",
        "history = model.fit(train_padded, train_labels, \n",
        "                    epochs=num_epochs, \n",
        "                    validation_data=(validation_padded, validation_labels))"
      ],
      "metadata": {
        "colab": {
          "base_uri": "https://localhost:8080/"
        },
        "id": "qL5NU6LdFwx_",
        "outputId": "878ecee5-63a8-4984-d2b3-9ad900144132"
      },
      "execution_count": null,
      "outputs": [
        {
          "output_type": "stream",
          "name": "stdout",
          "text": [
            "Epoch 1/100\n",
            "111/111 [==============================] - 1s 4ms/step - loss: 3.8949 - accuracy: 0.0287 - val_loss: 3.8697 - val_accuracy: 0.0324\n",
            "Epoch 2/100\n",
            "111/111 [==============================] - 0s 2ms/step - loss: 3.8348 - accuracy: 0.0307 - val_loss: 3.8002 - val_accuracy: 0.0324\n",
            "Epoch 3/100\n",
            "111/111 [==============================] - 0s 2ms/step - loss: 3.7757 - accuracy: 0.0304 - val_loss: 3.7592 - val_accuracy: 0.0324\n",
            "Epoch 4/100\n",
            "111/111 [==============================] - 0s 2ms/step - loss: 3.7294 - accuracy: 0.0355 - val_loss: 3.7029 - val_accuracy: 0.0451\n",
            "Epoch 5/100\n",
            "111/111 [==============================] - 0s 2ms/step - loss: 3.6479 - accuracy: 0.0605 - val_loss: 3.5885 - val_accuracy: 0.0664\n",
            "Epoch 6/100\n",
            "111/111 [==============================] - 0s 2ms/step - loss: 3.4964 - accuracy: 0.1104 - val_loss: 3.3899 - val_accuracy: 0.1090\n",
            "Epoch 7/100\n",
            "111/111 [==============================] - 0s 2ms/step - loss: 3.2750 - accuracy: 0.1147 - val_loss: 3.1564 - val_accuracy: 0.1312\n",
            "Epoch 8/100\n",
            "111/111 [==============================] - 0s 2ms/step - loss: 3.0827 - accuracy: 0.1397 - val_loss: 2.9637 - val_accuracy: 0.2189\n",
            "Epoch 9/100\n",
            "111/111 [==============================] - 0s 2ms/step - loss: 2.9241 - accuracy: 0.1755 - val_loss: 2.8129 - val_accuracy: 0.2376\n",
            "Epoch 10/100\n",
            "111/111 [==============================] - 0s 2ms/step - loss: 2.7878 - accuracy: 0.2104 - val_loss: 2.6779 - val_accuracy: 0.3032\n",
            "Epoch 11/100\n",
            "111/111 [==============================] - 0s 2ms/step - loss: 2.6674 - accuracy: 0.2436 - val_loss: 2.5448 - val_accuracy: 0.3697\n",
            "Epoch 12/100\n",
            "111/111 [==============================] - 0s 2ms/step - loss: 2.5502 - accuracy: 0.2768 - val_loss: 2.4202 - val_accuracy: 0.3629\n",
            "Epoch 13/100\n",
            "111/111 [==============================] - 0s 2ms/step - loss: 2.4487 - accuracy: 0.2859 - val_loss: 2.3033 - val_accuracy: 0.4157\n",
            "Epoch 14/100\n",
            "111/111 [==============================] - 0s 2ms/step - loss: 2.3355 - accuracy: 0.3362 - val_loss: 2.1834 - val_accuracy: 0.4702\n",
            "Epoch 15/100\n",
            "111/111 [==============================] - 0s 2ms/step - loss: 2.2288 - accuracy: 0.3694 - val_loss: 2.0648 - val_accuracy: 0.4804\n",
            "Epoch 16/100\n",
            "111/111 [==============================] - 0s 2ms/step - loss: 2.1255 - accuracy: 0.3984 - val_loss: 1.9398 - val_accuracy: 0.5613\n",
            "Epoch 17/100\n",
            "111/111 [==============================] - 0s 2ms/step - loss: 2.0200 - accuracy: 0.4196 - val_loss: 1.8250 - val_accuracy: 0.5656\n",
            "Epoch 18/100\n",
            "111/111 [==============================] - 0s 2ms/step - loss: 1.9170 - accuracy: 0.4568 - val_loss: 1.7236 - val_accuracy: 0.6218\n",
            "Epoch 19/100\n",
            "111/111 [==============================] - 0s 2ms/step - loss: 1.8199 - accuracy: 0.4952 - val_loss: 1.6175 - val_accuracy: 0.7811\n",
            "Epoch 20/100\n",
            "111/111 [==============================] - 0s 2ms/step - loss: 1.7272 - accuracy: 0.5324 - val_loss: 1.5225 - val_accuracy: 0.7428\n",
            "Epoch 21/100\n",
            "111/111 [==============================] - 0s 2ms/step - loss: 1.6534 - accuracy: 0.5554 - val_loss: 1.4331 - val_accuracy: 0.7700\n",
            "Epoch 22/100\n",
            "111/111 [==============================] - 0s 3ms/step - loss: 1.5655 - accuracy: 0.5781 - val_loss: 1.3484 - val_accuracy: 0.8211\n",
            "Epoch 23/100\n",
            "111/111 [==============================] - 0s 2ms/step - loss: 1.4890 - accuracy: 0.6008 - val_loss: 1.2738 - val_accuracy: 0.8058\n",
            "Epoch 24/100\n",
            "111/111 [==============================] - 0s 3ms/step - loss: 1.4216 - accuracy: 0.6229 - val_loss: 1.2007 - val_accuracy: 0.8450\n",
            "Epoch 25/100\n",
            "111/111 [==============================] - 0s 2ms/step - loss: 1.3601 - accuracy: 0.6431 - val_loss: 1.1283 - val_accuracy: 0.8458\n",
            "Epoch 26/100\n",
            "111/111 [==============================] - 0s 2ms/step - loss: 1.3001 - accuracy: 0.6616 - val_loss: 1.0693 - val_accuracy: 0.8399\n",
            "Epoch 27/100\n",
            "111/111 [==============================] - 0s 3ms/step - loss: 1.2265 - accuracy: 0.6905 - val_loss: 1.0024 - val_accuracy: 0.8748\n",
            "Epoch 28/100\n",
            "111/111 [==============================] - 0s 3ms/step - loss: 1.1732 - accuracy: 0.6976 - val_loss: 0.9496 - val_accuracy: 0.8918\n",
            "Epoch 29/100\n",
            "111/111 [==============================] - 0s 3ms/step - loss: 1.1342 - accuracy: 0.7141 - val_loss: 0.8950 - val_accuracy: 0.8790\n",
            "Epoch 30/100\n",
            "111/111 [==============================] - 0s 3ms/step - loss: 1.0700 - accuracy: 0.7374 - val_loss: 0.8462 - val_accuracy: 0.9046\n",
            "Epoch 31/100\n",
            "111/111 [==============================] - 0s 3ms/step - loss: 1.0287 - accuracy: 0.7430 - val_loss: 0.8047 - val_accuracy: 0.9114\n",
            "Epoch 32/100\n",
            "111/111 [==============================] - 1s 5ms/step - loss: 0.9760 - accuracy: 0.7581 - val_loss: 0.7588 - val_accuracy: 0.9199\n",
            "Epoch 33/100\n",
            "111/111 [==============================] - 1s 7ms/step - loss: 0.9370 - accuracy: 0.7655 - val_loss: 0.7207 - val_accuracy: 0.9165\n",
            "Epoch 34/100\n",
            "111/111 [==============================] - 1s 5ms/step - loss: 0.8877 - accuracy: 0.7848 - val_loss: 0.6800 - val_accuracy: 0.9106\n",
            "Epoch 35/100\n",
            "111/111 [==============================] - 0s 4ms/step - loss: 0.8554 - accuracy: 0.7873 - val_loss: 0.6453 - val_accuracy: 0.9165\n",
            "Epoch 36/100\n",
            "111/111 [==============================] - 0s 3ms/step - loss: 0.8226 - accuracy: 0.7993 - val_loss: 0.6144 - val_accuracy: 0.9208\n",
            "Epoch 37/100\n",
            "111/111 [==============================] - 0s 3ms/step - loss: 0.7855 - accuracy: 0.8044 - val_loss: 0.5876 - val_accuracy: 0.9267\n",
            "Epoch 38/100\n",
            "111/111 [==============================] - 0s 4ms/step - loss: 0.7406 - accuracy: 0.8166 - val_loss: 0.5545 - val_accuracy: 0.9242\n",
            "Epoch 39/100\n",
            "111/111 [==============================] - 1s 5ms/step - loss: 0.7222 - accuracy: 0.8194 - val_loss: 0.5276 - val_accuracy: 0.9259\n",
            "Epoch 40/100\n",
            "111/111 [==============================] - 0s 4ms/step - loss: 0.6784 - accuracy: 0.8299 - val_loss: 0.4995 - val_accuracy: 0.9310\n",
            "Epoch 41/100\n",
            "111/111 [==============================] - 1s 4ms/step - loss: 0.6667 - accuracy: 0.8348 - val_loss: 0.4753 - val_accuracy: 0.9259\n",
            "Epoch 42/100\n",
            "111/111 [==============================] - 0s 4ms/step - loss: 0.6325 - accuracy: 0.8504 - val_loss: 0.4513 - val_accuracy: 0.9344\n",
            "Epoch 43/100\n",
            "111/111 [==============================] - 0s 4ms/step - loss: 0.6011 - accuracy: 0.8558 - val_loss: 0.4278 - val_accuracy: 0.9267\n",
            "Epoch 44/100\n",
            "111/111 [==============================] - 0s 4ms/step - loss: 0.6028 - accuracy: 0.8489 - val_loss: 0.4101 - val_accuracy: 0.9412\n",
            "Epoch 45/100\n",
            "111/111 [==============================] - 0s 4ms/step - loss: 0.5639 - accuracy: 0.8612 - val_loss: 0.3896 - val_accuracy: 0.9387\n",
            "Epoch 46/100\n",
            "111/111 [==============================] - 0s 4ms/step - loss: 0.5450 - accuracy: 0.8643 - val_loss: 0.3722 - val_accuracy: 0.9472\n",
            "Epoch 47/100\n",
            "111/111 [==============================] - 0s 4ms/step - loss: 0.5201 - accuracy: 0.8742 - val_loss: 0.3600 - val_accuracy: 0.9523\n",
            "Epoch 48/100\n",
            "111/111 [==============================] - 1s 5ms/step - loss: 0.5048 - accuracy: 0.8756 - val_loss: 0.3423 - val_accuracy: 0.9480\n",
            "Epoch 49/100\n",
            "111/111 [==============================] - 1s 5ms/step - loss: 0.4745 - accuracy: 0.8864 - val_loss: 0.3235 - val_accuracy: 0.9532\n",
            "Epoch 50/100\n",
            "111/111 [==============================] - 1s 5ms/step - loss: 0.4704 - accuracy: 0.8881 - val_loss: 0.3100 - val_accuracy: 0.9497\n",
            "Epoch 51/100\n",
            "111/111 [==============================] - 1s 5ms/step - loss: 0.4553 - accuracy: 0.8904 - val_loss: 0.2977 - val_accuracy: 0.9549\n",
            "Epoch 52/100\n",
            "111/111 [==============================] - 0s 4ms/step - loss: 0.4404 - accuracy: 0.8952 - val_loss: 0.2850 - val_accuracy: 0.9583\n",
            "Epoch 53/100\n",
            "111/111 [==============================] - 0s 4ms/step - loss: 0.4153 - accuracy: 0.9009 - val_loss: 0.2731 - val_accuracy: 0.9532\n",
            "Epoch 54/100\n",
            "111/111 [==============================] - 0s 3ms/step - loss: 0.3903 - accuracy: 0.9069 - val_loss: 0.2605 - val_accuracy: 0.9634\n",
            "Epoch 55/100\n",
            "111/111 [==============================] - 1s 5ms/step - loss: 0.3943 - accuracy: 0.9029 - val_loss: 0.2496 - val_accuracy: 0.9591\n",
            "Epoch 56/100\n",
            "111/111 [==============================] - 1s 6ms/step - loss: 0.3784 - accuracy: 0.9137 - val_loss: 0.2387 - val_accuracy: 0.9625\n",
            "Epoch 57/100\n",
            "111/111 [==============================] - 1s 7ms/step - loss: 0.3681 - accuracy: 0.9063 - val_loss: 0.2283 - val_accuracy: 0.9583\n",
            "Epoch 58/100\n",
            "111/111 [==============================] - 1s 7ms/step - loss: 0.3560 - accuracy: 0.9106 - val_loss: 0.2216 - val_accuracy: 0.9625\n",
            "Epoch 59/100\n",
            "111/111 [==============================] - 1s 6ms/step - loss: 0.3391 - accuracy: 0.9185 - val_loss: 0.2133 - val_accuracy: 0.9659\n",
            "Epoch 60/100\n",
            "111/111 [==============================] - 1s 5ms/step - loss: 0.3268 - accuracy: 0.9233 - val_loss: 0.2042 - val_accuracy: 0.9685\n",
            "Epoch 61/100\n",
            "111/111 [==============================] - 0s 4ms/step - loss: 0.3078 - accuracy: 0.9239 - val_loss: 0.1990 - val_accuracy: 0.9634\n",
            "Epoch 62/100\n",
            "111/111 [==============================] - 1s 5ms/step - loss: 0.2982 - accuracy: 0.9284 - val_loss: 0.1888 - val_accuracy: 0.9693\n",
            "Epoch 63/100\n",
            "111/111 [==============================] - 0s 3ms/step - loss: 0.3025 - accuracy: 0.9267 - val_loss: 0.1807 - val_accuracy: 0.9693\n",
            "Epoch 64/100\n",
            "111/111 [==============================] - 0s 4ms/step - loss: 0.2802 - accuracy: 0.9302 - val_loss: 0.1774 - val_accuracy: 0.9710\n",
            "Epoch 65/100\n",
            "111/111 [==============================] - 1s 5ms/step - loss: 0.2762 - accuracy: 0.9338 - val_loss: 0.1692 - val_accuracy: 0.9753\n",
            "Epoch 66/100\n",
            "111/111 [==============================] - 1s 5ms/step - loss: 0.2576 - accuracy: 0.9452 - val_loss: 0.1632 - val_accuracy: 0.9736\n",
            "Epoch 67/100\n",
            "111/111 [==============================] - 1s 5ms/step - loss: 0.2613 - accuracy: 0.9424 - val_loss: 0.1589 - val_accuracy: 0.9710\n",
            "Epoch 68/100\n",
            "111/111 [==============================] - 1s 5ms/step - loss: 0.2554 - accuracy: 0.9404 - val_loss: 0.1530 - val_accuracy: 0.9787\n",
            "Epoch 69/100\n",
            "111/111 [==============================] - 1s 5ms/step - loss: 0.2483 - accuracy: 0.9441 - val_loss: 0.1487 - val_accuracy: 0.9744\n",
            "Epoch 70/100\n",
            "111/111 [==============================] - 0s 2ms/step - loss: 0.2479 - accuracy: 0.9395 - val_loss: 0.1429 - val_accuracy: 0.9787\n",
            "Epoch 71/100\n",
            "111/111 [==============================] - 0s 2ms/step - loss: 0.2301 - accuracy: 0.9500 - val_loss: 0.1374 - val_accuracy: 0.9804\n",
            "Epoch 72/100\n",
            "111/111 [==============================] - 0s 2ms/step - loss: 0.2250 - accuracy: 0.9489 - val_loss: 0.1338 - val_accuracy: 0.9804\n",
            "Epoch 73/100\n",
            "111/111 [==============================] - 0s 2ms/step - loss: 0.2114 - accuracy: 0.9497 - val_loss: 0.1292 - val_accuracy: 0.9838\n",
            "Epoch 74/100\n",
            "111/111 [==============================] - 0s 2ms/step - loss: 0.2075 - accuracy: 0.9523 - val_loss: 0.1261 - val_accuracy: 0.9779\n",
            "Epoch 75/100\n",
            "111/111 [==============================] - 0s 3ms/step - loss: 0.2144 - accuracy: 0.9469 - val_loss: 0.1223 - val_accuracy: 0.9847\n",
            "Epoch 76/100\n",
            "111/111 [==============================] - 0s 2ms/step - loss: 0.2009 - accuracy: 0.9540 - val_loss: 0.1204 - val_accuracy: 0.9796\n",
            "Epoch 77/100\n",
            "111/111 [==============================] - 0s 2ms/step - loss: 0.1968 - accuracy: 0.9537 - val_loss: 0.1149 - val_accuracy: 0.9847\n",
            "Epoch 78/100\n",
            "111/111 [==============================] - 0s 2ms/step - loss: 0.1858 - accuracy: 0.9568 - val_loss: 0.1116 - val_accuracy: 0.9847\n",
            "Epoch 79/100\n",
            "111/111 [==============================] - 0s 3ms/step - loss: 0.1933 - accuracy: 0.9537 - val_loss: 0.1112 - val_accuracy: 0.9804\n",
            "Epoch 80/100\n",
            "111/111 [==============================] - 0s 2ms/step - loss: 0.1830 - accuracy: 0.9540 - val_loss: 0.1077 - val_accuracy: 0.9847\n",
            "Epoch 81/100\n",
            "111/111 [==============================] - 0s 2ms/step - loss: 0.1720 - accuracy: 0.9568 - val_loss: 0.1058 - val_accuracy: 0.9804\n",
            "Epoch 82/100\n",
            "111/111 [==============================] - 0s 2ms/step - loss: 0.1669 - accuracy: 0.9617 - val_loss: 0.0997 - val_accuracy: 0.9847\n",
            "Epoch 83/100\n",
            "111/111 [==============================] - 0s 2ms/step - loss: 0.1606 - accuracy: 0.9642 - val_loss: 0.0987 - val_accuracy: 0.9830\n",
            "Epoch 84/100\n",
            "111/111 [==============================] - 0s 2ms/step - loss: 0.1579 - accuracy: 0.9659 - val_loss: 0.0949 - val_accuracy: 0.9847\n",
            "Epoch 85/100\n",
            "111/111 [==============================] - 0s 2ms/step - loss: 0.1518 - accuracy: 0.9679 - val_loss: 0.0921 - val_accuracy: 0.9847\n",
            "Epoch 86/100\n",
            "111/111 [==============================] - 0s 2ms/step - loss: 0.1476 - accuracy: 0.9699 - val_loss: 0.0895 - val_accuracy: 0.9847\n",
            "Epoch 87/100\n",
            "111/111 [==============================] - 0s 2ms/step - loss: 0.1483 - accuracy: 0.9625 - val_loss: 0.0897 - val_accuracy: 0.9838\n",
            "Epoch 88/100\n",
            "111/111 [==============================] - 0s 3ms/step - loss: 0.1455 - accuracy: 0.9651 - val_loss: 0.0871 - val_accuracy: 0.9830\n",
            "Epoch 89/100\n",
            "111/111 [==============================] - 0s 3ms/step - loss: 0.1369 - accuracy: 0.9679 - val_loss: 0.0850 - val_accuracy: 0.9855\n",
            "Epoch 90/100\n",
            "111/111 [==============================] - 0s 3ms/step - loss: 0.1298 - accuracy: 0.9710 - val_loss: 0.0817 - val_accuracy: 0.9855\n",
            "Epoch 91/100\n",
            "111/111 [==============================] - 0s 3ms/step - loss: 0.1343 - accuracy: 0.9699 - val_loss: 0.0799 - val_accuracy: 0.9855\n",
            "Epoch 92/100\n",
            "111/111 [==============================] - 0s 3ms/step - loss: 0.1361 - accuracy: 0.9665 - val_loss: 0.0788 - val_accuracy: 0.9847\n",
            "Epoch 93/100\n",
            "111/111 [==============================] - 0s 3ms/step - loss: 0.1202 - accuracy: 0.9747 - val_loss: 0.0759 - val_accuracy: 0.9855\n",
            "Epoch 94/100\n",
            "111/111 [==============================] - 0s 3ms/step - loss: 0.1230 - accuracy: 0.9730 - val_loss: 0.0753 - val_accuracy: 0.9838\n",
            "Epoch 95/100\n",
            "111/111 [==============================] - 0s 4ms/step - loss: 0.1177 - accuracy: 0.9719 - val_loss: 0.0727 - val_accuracy: 0.9864\n",
            "Epoch 96/100\n",
            "111/111 [==============================] - 0s 3ms/step - loss: 0.1150 - accuracy: 0.9756 - val_loss: 0.0722 - val_accuracy: 0.9847\n",
            "Epoch 97/100\n",
            "111/111 [==============================] - 0s 2ms/step - loss: 0.1202 - accuracy: 0.9750 - val_loss: 0.0703 - val_accuracy: 0.9864\n",
            "Epoch 98/100\n",
            "111/111 [==============================] - 0s 2ms/step - loss: 0.1145 - accuracy: 0.9708 - val_loss: 0.0695 - val_accuracy: 0.9872\n",
            "Epoch 99/100\n",
            "111/111 [==============================] - 0s 2ms/step - loss: 0.1113 - accuracy: 0.9736 - val_loss: 0.0674 - val_accuracy: 0.9864\n",
            "Epoch 100/100\n",
            "111/111 [==============================] - 0s 2ms/step - loss: 0.1045 - accuracy: 0.9736 - val_loss: 0.0647 - val_accuracy: 0.9872\n"
          ]
        }
      ]
    },
    {
      "cell_type": "code",
      "source": [
        "def plot_graphs(history, string):\n",
        "  plt.plot(history.history[string])\n",
        "  plt.plot(history.history['val_'+string])\n",
        "  plt.xlabel(\"Epochs\")\n",
        "  plt.ylabel(string)\n",
        "  plt.legend([string, 'val_'+string])\n",
        "  plt.show()\n",
        "  \n",
        "plot_graphs(history, \"accuracy\")\n",
        "plot_graphs(history, \"loss\")"
      ],
      "metadata": {
        "colab": {
          "base_uri": "https://localhost:8080/",
          "height": 881
        },
        "id": "q6jaOvCVGKVg",
        "outputId": "0d0e34c8-28a1-4868-8d01-15dda71785cf"
      },
      "execution_count": null,
      "outputs": [
        {
          "output_type": "display_data",
          "data": {
            "text/plain": [
              "<Figure size 640x480 with 1 Axes>"
            ],
            "image/png": "[encoded data removed]"
          },
          "metadata": {}
        },
        {
          "output_type": "display_data",
          "data": {
            "text/plain": [
              "<Figure size 640x480 with 1 Axes>"
            ],
            "image/png": "[encoded data removed]"
          },
          "metadata": {}
        }
      ]
    },
    {
      "cell_type": "code",
      "source": [
        "from sklearn.metrics import classification_report\n",
        "pred = model.predict(test_padded, batch_size=32, verbose=1)\n",
        "predicted = np.argmax(pred, axis=1)\n",
        "report = classification_report(test_labels, predicted)\n",
        "print(report)"
      ],
      "metadata": {
        "colab": {
          "base_uri": "https://localhost:8080/"
        },
        "id": "XsCzH9rtGF1i",
        "outputId": "abfd13ab-f461-427f-b2c4-4cc5aa9dc53f"
      },
      "execution_count": null,
      "outputs": [
        {
          "output_type": "stream",
          "name": "stdout",
          "text": [
            "37/37 [==============================] - 0s 1ms/step\n",
            "              precision    recall  f1-score   support\n",
            "\n",
            "           0       1.00      1.00      1.00        24\n",
            "           1       0.94      1.00      0.97        17\n",
            "           2       1.00      1.00      1.00        35\n",
            "           3       1.00      1.00      1.00        20\n",
            "           4       1.00      1.00      1.00        26\n",
            "           5       1.00      1.00      1.00        34\n",
            "           6       1.00      0.97      0.99        34\n",
            "           7       0.97      1.00      0.99        34\n",
            "           8       0.94      0.89      0.91        36\n",
            "           9       1.00      1.00      1.00        20\n",
            "          10       1.00      0.97      0.98        32\n",
            "          11       0.85      0.97      0.90        34\n",
            "          12       1.00      1.00      1.00        20\n",
            "          13       1.00      1.00      1.00         6\n",
            "          14       1.00      1.00      1.00        29\n",
            "          15       1.00      1.00      1.00        22\n",
            "          16       1.00      1.00      1.00        30\n",
            "          17       1.00      1.00      1.00        21\n",
            "          18       0.95      1.00      0.97        19\n",
            "          19       0.90      1.00      0.95        28\n",
            "          20       1.00      1.00      1.00        28\n",
            "          21       1.00      1.00      1.00        28\n",
            "          22       1.00      1.00      1.00        28\n",
            "          23       1.00      1.00      1.00        27\n",
            "          24       1.00      1.00      1.00        10\n",
            "          25       1.00      1.00      1.00        25\n",
            "          26       1.00      1.00      1.00        20\n",
            "          27       1.00      1.00      1.00        14\n",
            "          28       1.00      1.00      1.00        30\n",
            "          29       1.00      0.95      0.98        21\n",
            "          30       1.00      1.00      1.00        39\n",
            "          31       0.96      1.00      0.98        25\n",
            "          32       1.00      0.97      0.99        38\n",
            "          33       1.00      1.00      1.00        24\n",
            "          34       1.00      1.00      1.00        28\n",
            "          35       1.00      1.00      1.00        20\n",
            "          36       1.00      1.00      1.00        33\n",
            "          37       1.00      1.00      1.00        37\n",
            "          38       1.00      1.00      1.00        28\n",
            "          39       1.00      0.89      0.94        37\n",
            "          40       1.00      1.00      1.00        33\n",
            "          41       1.00      0.75      0.86         8\n",
            "          42       1.00      1.00      1.00        28\n",
            "          46       1.00      1.00      1.00        12\n",
            "          47       1.00      1.00      1.00        32\n",
            "\n",
            "    accuracy                           0.99      1174\n",
            "   macro avg       0.99      0.99      0.99      1174\n",
            "weighted avg       0.99      0.99      0.99      1174\n",
            "\n"
          ]
        }
      ]
    },
    {
      "cell_type": "code",
      "source": [
        "test1 = [\"I have a prolonged fever, severe headache, muscle and joint pain, fatigue, rash, nausea, abdominal discomfort, and occasional bleeding.\"]"
      ],
      "metadata": {
        "id": "uBWFuTWoXYm6"
      },
      "execution_count": null,
      "outputs": []
    },
    {
      "cell_type": "code",
      "source": [
        "testing = []\n",
        "for i in test1:\n",
        "  testing.append(sen(keywords(i)))"
      ],
      "metadata": {
        "id": "hEIf4t7YXZKl"
      },
      "execution_count": null,
      "outputs": []
    },
    {
      "cell_type": "code",
      "source": [
        "testing"
      ],
      "metadata": {
        "colab": {
          "base_uri": "https://localhost:8080/"
        },
        "id": "K1tat8dWIrLK",
        "outputId": "fa88f061-a281-479a-c1ad-e5360ae4a75f"
      },
      "execution_count": null,
      "outputs": [
        {
          "output_type": "execute_result",
          "data": {
            "text/plain": [
              "['severe abdominal pain persistent high fever inconsistent bowel movements weight loss colored spots appetite leading weakness rose lack headaches experiencing appearance']"
            ]
          },
          "metadata": {},
          "execution_count": 50
        }
      ]
    },
    {
      "cell_type": "code",
      "source": [
        "test_sequences = tokenizer.texts_to_sequences(testing)\n",
        "test_padded = pad_sequences(test_sequences, padding=padding_type, maxlen=max_length)"
      ],
      "metadata": {
        "id": "FK5h8LusXcQy"
      },
      "execution_count": null,
      "outputs": []
    },
    {
      "cell_type": "code",
      "source": [
        "prediction = model.predict_on_batch(\n",
        "    test_padded\n",
        ")"
      ],
      "metadata": {
        "id": "ARp8cbqlXeUv"
      },
      "execution_count": null,
      "outputs": []
    },
    {
      "cell_type": "code",
      "source": [
        "print(prediction)"
      ],
      "metadata": {
        "id": "IAjUPRT9TTM6",
        "outputId": "92fc2490-e43b-472f-b8a8-ea0300d57bd0",
        "colab": {
          "base_uri": "https://localhost:8080/"
        }
      },
      "execution_count": null,
      "outputs": [
        {
          "output_type": "stream",
          "name": "stdout",
          "text": [
            "[[1.14423010e-07 1.96006149e-04 5.21942004e-11 4.72286283e-21\n",
            "  7.04281183e-06 7.05167766e-17 1.45145995e-03 1.17980877e-11\n",
            "  7.43330002e-01 5.32770277e-16 4.92640038e-06 1.56203166e-01\n",
            "  2.50759181e-16 9.86930099e-04 1.07982615e-07 1.29356152e-07\n",
            "  1.46044695e-04 4.01063335e-05 5.03588763e-06 3.78175813e-04\n",
            "  3.68553922e-23 1.78728925e-08 2.96982676e-18 6.92201088e-11\n",
            "  3.29219783e-03 1.84836415e-06 3.31286642e-18 6.07481700e-19\n",
            "  1.03181703e-18 1.36819711e-08 1.64932653e-03 8.28761358e-07\n",
            "  2.40302552e-11 3.30999760e-19 2.84677284e-13 1.58389205e-11\n",
            "  1.44821455e-11 4.44886532e-12 4.68971706e-08 7.85595626e-02\n",
            "  7.73840671e-16 1.27289072e-02 5.73590064e-11 2.37107799e-11\n",
            "  1.42736196e-11 3.02248608e-11 1.01802510e-03 1.32929839e-11\n",
            "  2.27518664e-11 1.19316059e-11]]\n"
          ]
        }
      ]
    },
    {
      "cell_type": "code",
      "source": [
        "for i in prediction:\n",
        "  unsure=False\n",
        "  print(np.max(i))\n",
        "  if np.max(i)<0.55:\n",
        "    unsure=True\n",
        "    print(\"Can't be diagnosed\")\n",
        "  else:\n",
        "    top_3 = np.argsort(i)[-2:][::-1]\n",
        "    print(label_encoder.inverse_transform(top_3))\n",
        "    print(top_3)"
      ],
      "metadata": {
        "colab": {
          "base_uri": "https://localhost:8080/"
        },
        "id": "jgM16uWRXfv9",
        "outputId": "0f00a020-7254-4fb3-acaa-fbe0a2542b72"
      },
      "execution_count": null,
      "outputs": [
        {
          "output_type": "stream",
          "name": "stdout",
          "text": [
            "0.5893235\n",
            "['Dengue' 'Chicken pox']\n",
            "[11  8]\n"
          ]
        }
      ]
    },
    {
      "cell_type": "code",
      "source": [
        "#!pip install tensorflowjs"
      ],
      "metadata": {
        "id": "poR-3aUAcvg5"
      },
      "execution_count": null,
      "outputs": []
    },
    {
      "cell_type": "code",
      "source": [
        "#import tensorflowjs as tfjs\n",
        "#filepath = \"/content/drive/MyDrive/capstone/ml code (celia iseng)/Eksperimen~~/model experimen 4/model.h5\"\n",
        "#model.save(filepath, save_format='h5')\n",
        "#tfjs.converters.save_keras_model(model, \"/content/drive/MyDrive/capstone/ml code (celia iseng)/Eksperimen~~/model experimen 4/\")"
      ],
      "metadata": {
        "id": "3c8V4j05YoLQ"
      },
      "execution_count": null,
      "outputs": []
    },
    {
      "cell_type": "code",
      "source": [
        "#word_index = tokenizer.word_index\n",
        "#index_to_word = {index: word for word, index in word_index.items()}\n",
        "#dict_input = pd.DataFrame.from_dict(index_to_word, orient='index', columns=['Word'])\n",
        "#csv_filename = '/content/drive/MyDrive/capstone/ml code (celia iseng)/Eksperimen~~/model experimen 4/dict_input.csv'\n",
        "#dict_input.to_csv(csv_filename)\n",
        "#label_mapping = {label: encoded_label for label, encoded_label in zip(df['Diseases'].tolist(),df['label_encoded'].tolist())}\n",
        "#dict_output = pd.DataFrame.from_dict(label_mapping, orient='index', columns=['EncodedLabel'])\n",
        "#dict_output.index.name = 'OriginalLabel'\n",
        "#csv_filename = '/content/drive/MyDrive/capstone/ml code (celia iseng)/Eksperimen~~/model experimen 4/dict_output.csv'\n",
        "#dict_output.to_csv(csv_filename)"
      ],
      "metadata": {
        "id": "UAG2TGIsc19f"
      },
      "execution_count": null,
      "outputs": []
    }
  ]
}