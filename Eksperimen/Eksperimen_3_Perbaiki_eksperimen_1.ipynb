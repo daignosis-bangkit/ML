{
  "nbformat": 4,
  "nbformat_minor": 0,
  "metadata": {
    "colab": {
      "provenance": []
    },
    "kernelspec": {
      "name": "python3",
      "display_name": "Python 3"
    },
    "language_info": {
      "name": "python"
    }
  },
  "cells": [
    {
      "cell_type": "markdown",
      "source": [
        "Describe"
      ],
      "metadata": {
        "id": "7Ko-JqJIDM1-"
      }
    },
    {
      "cell_type": "code",
      "execution_count": null,
      "metadata": {
        "colab": {
          "base_uri": "https://localhost:8080/"
        },
        "id": "etoIhhxaCikZ",
        "outputId": "0ef63139-5806-43ad-e33b-852d6db75a15"
      },
      "outputs": [
        {
          "output_type": "stream",
          "name": "stdout",
          "text": [
            "Drive already mounted at /content/drive; to attempt to forcibly remount, call drive.mount(\"/content/drive\", force_remount=True).\n"
          ]
        }
      ],
      "source": [
        "from google.colab import drive\n",
        "drive.mount('/content/drive')"
      ]
    },
    {
      "cell_type": "code",
      "source": [
        "import pandas as pd\n",
        "path_des = \"/content/drive/MyDrive/capstone/ml code (celia iseng)/describe/Symptom2Disease.csv\"\n",
        "df_des = pd.read_csv(path_des)"
      ],
      "metadata": {
        "id": "9EkKquPdDK4y"
      },
      "execution_count": null,
      "outputs": []
    },
    {
      "cell_type": "code",
      "source": [
        "!pip install rake-nltk\n",
        "import nltk\n",
        "from rake_nltk import Rake\n",
        "nltk.download('stopwords')\n",
        "nltk.download('punkt')"
      ],
      "metadata": {
        "colab": {
          "base_uri": "https://localhost:8080/"
        },
        "id": "KO6nnydfDRM4",
        "outputId": "af6a3c22-8667-4503-b8d3-8f39111c4282"
      },
      "execution_count": null,
      "outputs": [
        {
          "output_type": "stream",
          "name": "stdout",
          "text": [
            "Looking in indexes: https://pypi.org/simple, https://us-python.pkg.dev/colab-wheels/public/simple/\n",
            "Requirement already satisfied: rake-nltk in /usr/local/lib/python3.10/dist-packages (1.0.6)\n",
            "Requirement already satisfied: nltk<4.0.0,>=3.6.2 in /usr/local/lib/python3.10/dist-packages (from rake-nltk) (3.8.1)\n",
            "Requirement already satisfied: click in /usr/local/lib/python3.10/dist-packages (from nltk<4.0.0,>=3.6.2->rake-nltk) (8.1.3)\n",
            "Requirement already satisfied: joblib in /usr/local/lib/python3.10/dist-packages (from nltk<4.0.0,>=3.6.2->rake-nltk) (1.2.0)\n",
            "Requirement already satisfied: regex>=2021.8.3 in /usr/local/lib/python3.10/dist-packages (from nltk<4.0.0,>=3.6.2->rake-nltk) (2022.10.31)\n",
            "Requirement already satisfied: tqdm in /usr/local/lib/python3.10/dist-packages (from nltk<4.0.0,>=3.6.2->rake-nltk) (4.65.0)\n"
          ]
        },
        {
          "output_type": "stream",
          "name": "stderr",
          "text": [
            "[nltk_data] Downloading package stopwords to /root/nltk_data...\n",
            "[nltk_data]   Package stopwords is already up-to-date!\n",
            "[nltk_data] Downloading package punkt to /root/nltk_data...\n",
            "[nltk_data]   Package punkt is already up-to-date!\n"
          ]
        },
        {
          "output_type": "execute_result",
          "data": {
            "text/plain": [
              "True"
            ]
          },
          "metadata": {},
          "execution_count": 3
        }
      ]
    },
    {
      "cell_type": "code",
      "source": [
        "#remove function\n",
        "def keywords(text):\n",
        "  key_arr = []\n",
        "  r = Rake()\n",
        "  r.extract_keywords_from_text(text)\n",
        "  for rating, keyword in r.get_ranked_phrases_with_scores():\n",
        "    key_arr.append(keyword)\n",
        "  return key_arr\n",
        "\n",
        "def sen(arr):\n",
        "  s = \" \".join([str(item) for item in arr])\n",
        "  return s"
      ],
      "metadata": {
        "id": "Jw3MtMREDhxg"
      },
      "execution_count": null,
      "outputs": []
    },
    {
      "cell_type": "code",
      "source": [
        "sentences_des = []\n",
        "for i in df_des['text'].values.tolist():\n",
        "  sentences_des.append(sen(keywords(i)))"
      ],
      "metadata": {
        "id": "h_xCdHXhDj8u"
      },
      "execution_count": null,
      "outputs": []
    },
    {
      "cell_type": "code",
      "source": [
        "des_diseases = df_des['label']"
      ],
      "metadata": {
        "id": "eWAQWmWnDprK"
      },
      "execution_count": null,
      "outputs": []
    },
    {
      "cell_type": "markdown",
      "source": [
        "Ceklis"
      ],
      "metadata": {
        "id": "Ad7vC3NKEF5O"
      }
    },
    {
      "cell_type": "code",
      "source": [
        "path_check = \"/content/drive/MyDrive/capstone/ml code (celia iseng)/checklist/dataset.csv\"\n",
        "df_check = pd.read_csv(path_check)"
      ],
      "metadata": {
        "id": "WIx0cnnADrr_"
      },
      "execution_count": null,
      "outputs": []
    },
    {
      "cell_type": "code",
      "source": [
        "symptoms_check = df_check.drop(columns=['Disease'])"
      ],
      "metadata": {
        "id": "F88qrOByEKNB"
      },
      "execution_count": null,
      "outputs": []
    },
    {
      "cell_type": "code",
      "source": [
        "import numpy as np\n",
        "symptoms_check = symptoms_check.to_numpy()\n",
        "sentences_check = []\n",
        "for i in symptoms_check:\n",
        "  #print(i)\n",
        "  s = \" \".join([str(item).replace(\"_\", \" \") for item in i if str(item) != \"nan\"])\n",
        "  sentences_check = np.append(sentences_check,s)"
      ],
      "metadata": {
        "id": "tltF-ekxENIB"
      },
      "execution_count": null,
      "outputs": []
    },
    {
      "cell_type": "code",
      "source": [
        "sentences_check = sentences_check.tolist()"
      ],
      "metadata": {
        "id": "uQlBQrtMEYWE"
      },
      "execution_count": null,
      "outputs": []
    },
    {
      "cell_type": "code",
      "source": [
        "check_diseases = df_check['Disease']"
      ],
      "metadata": {
        "id": "24rqlJ5lEY2v"
      },
      "execution_count": null,
      "outputs": []
    },
    {
      "cell_type": "code",
      "source": [
        "des_diseases = des_diseases.values.tolist()\n",
        "check_diseases = check_diseases.values.tolist()"
      ],
      "metadata": {
        "id": "Z4lSgbhmEbsW"
      },
      "execution_count": null,
      "outputs": []
    },
    {
      "cell_type": "markdown",
      "source": [
        "menggabungkan dataset"
      ],
      "metadata": {
        "id": "TtnVGnreEhV0"
      }
    },
    {
      "cell_type": "code",
      "source": [
        "sentences = sentences_check + sentences_des\n",
        "diseases = check_diseases + des_diseases"
      ],
      "metadata": {
        "id": "87ATPq6KEemV"
      },
      "execution_count": null,
      "outputs": []
    },
    {
      "cell_type": "code",
      "source": [
        "df = {'Diseases': diseases,'sentences': sentences}\n",
        "df = pd.DataFrame(df)\n",
        "print(df) "
      ],
      "metadata": {
        "colab": {
          "base_uri": "https://localhost:8080/"
        },
        "id": "MV3OnjwREoZO",
        "outputId": "465e70b1-89ac-447b-d3db-3e05b0a4d5be"
      },
      "execution_count": null,
      "outputs": [
        {
          "output_type": "stream",
          "name": "stdout",
          "text": [
            "              Diseases                                          sentences\n",
            "0     Fungal infection  itching  skin rash  nodal skin eruptions  disc...\n",
            "1     Fungal infection   skin rash  nodal skin eruptions  dischromic  ...\n",
            "2     Fungal infection  itching  nodal skin eruptions  dischromic  pat...\n",
            "3     Fungal infection            itching  skin rash  dischromic  patches\n",
            "4     Fungal infection           itching  skin rash  nodal skin eruptions\n",
            "...                ...                                                ...\n",
            "6115          diabetes  occasionally get palpitations speeding heart t...\n",
            "6116          diabetes  cuts take skin rashes skin bruises skin well p...\n",
            "6117          diabetes  frequently feel drowsy also significantly lost...\n",
            "6118          diabetes  urinary tract infections yeast infections trou...\n",
            "6119          diabetes  usually gets better dry cough constantly sneez...\n",
            "\n",
            "[6120 rows x 2 columns]\n"
          ]
        }
      ]
    },
    {
      "cell_type": "code",
      "source": [
        "from sklearn.preprocessing import LabelEncoder\n",
        "label_encoder = LabelEncoder()\n",
        "def label_encode(labels):\n",
        "    label_encoder.fit(labels)\n",
        "    label_sequences = label_encoder.transform(labels)\n",
        "    return label_sequences\n",
        "\n",
        "df['label_encoded'] = label_encode(df['Diseases'])"
      ],
      "metadata": {
        "id": "vSqrWjTCErwI"
      },
      "execution_count": null,
      "outputs": []
    },
    {
      "cell_type": "code",
      "source": [
        "df = df.drop(df[df[\"label_encoded\"]==43].index)\n",
        "df = df.drop(df[df[\"label_encoded\"]==44].index)\n",
        "df = df.drop(df[df[\"label_encoded\"]==45].index)\n",
        "df = df.drop(df[df[\"label_encoded\"]==48].index)\n",
        "df = df.drop(df[df[\"label_encoded\"]==49].index)"
      ],
      "metadata": {
        "id": "EvulQt3bFL41"
      },
      "execution_count": null,
      "outputs": []
    },
    {
      "cell_type": "code",
      "source": [
        "print(len(df.Diseases.unique()))\n",
        "print((df.Diseases.unique()))"
      ],
      "metadata": {
        "colab": {
          "base_uri": "https://localhost:8080/"
        },
        "id": "JDsGKE1OOWQ_",
        "outputId": "e44066ca-47c7-4be1-a32c-1645de01fd04"
      },
      "execution_count": null,
      "outputs": [
        {
          "output_type": "stream",
          "name": "stdout",
          "text": [
            "45\n",
            "['Fungal infection' 'Allergy' 'GERD' 'Chronic cholestasis' 'Drug Reaction'\n",
            " 'Peptic ulcer diseae' 'AIDS' 'Diabetes ' 'Gastroenteritis'\n",
            " 'Bronchial Asthma' 'Hypertension ' 'Migraine' 'Cervical spondylosis'\n",
            " 'Paralysis (brain hemorrhage)' 'Jaundice' 'Malaria' 'Chicken pox'\n",
            " 'Dengue' 'Typhoid' 'hepatitis A' 'Hepatitis B' 'Hepatitis C'\n",
            " 'Hepatitis D' 'Hepatitis E' 'Alcoholic hepatitis' 'Tuberculosis'\n",
            " 'Common Cold' 'Pneumonia' 'Dimorphic hemmorhoids(piles)' 'Heart attack'\n",
            " 'Varicose veins' 'Hypothyroidism' 'Hyperthyroidism' 'Hypoglycemia'\n",
            " 'Osteoarthristis' 'Arthritis' '(vertigo) Paroymsal  Positional Vertigo'\n",
            " 'Acne' 'Urinary tract infection' 'Psoriasis' 'Impetigo' 'Varicose Veins'\n",
            " 'Dimorphic Hemorrhoids' 'Hypertension' 'gastroesophageal reflux disease']\n"
          ]
        }
      ]
    },
    {
      "cell_type": "code",
      "source": [
        "from sklearn.model_selection import train_test_split\n",
        "x_train, x_val, y_train, y_val = train_test_split(df['sentences'].values.tolist(),df['label_encoded'].values.tolist(), test_size = 0.2, random_state=1)"
      ],
      "metadata": {
        "id": "BDCf5KgTFM0a"
      },
      "execution_count": null,
      "outputs": []
    },
    {
      "cell_type": "code",
      "source": [
        "vocab_size = 2000\n",
        "embedding_dim = 16\n",
        "max_length = 120\n",
        "trunc_type='post'\n",
        "padding_type='post'\n",
        "oov_tok = \"<OOV>\"\n",
        "training_portion = .8"
      ],
      "metadata": {
        "id": "cdK-LvKPFSF4"
      },
      "execution_count": null,
      "outputs": []
    },
    {
      "cell_type": "code",
      "source": [
        "import tensorflow as tf\n",
        "from tensorflow.keras.preprocessing.text import Tokenizer\n",
        "from tensorflow.keras.preprocessing.sequence import pad_sequences\n",
        "from tensorflow.keras import layers, models, optimizers\n",
        "from tensorflow.keras.layers import Dropout\n",
        "import matplotlib.pyplot as plt"
      ],
      "metadata": {
        "id": "Am4me0DeFT46"
      },
      "execution_count": null,
      "outputs": []
    },
    {
      "cell_type": "code",
      "source": [
        "tokenizer = Tokenizer(num_words = vocab_size, oov_token=oov_tok)\n",
        "tokenizer.fit_on_texts(x_train)\n",
        "word_index = tokenizer.word_index\n",
        "\n",
        "train_sequences = tokenizer.texts_to_sequences(x_train)\n",
        "train_padded = pad_sequences(train_sequences, padding=padding_type, maxlen=max_length)\n",
        "\n",
        "validation_sequences = tokenizer.texts_to_sequences(x_val)\n",
        "validation_padded = pad_sequences(validation_sequences, padding=padding_type, maxlen=max_length)"
      ],
      "metadata": {
        "id": "33yD5JeBFVZb"
      },
      "execution_count": null,
      "outputs": []
    },
    {
      "cell_type": "code",
      "source": [
        "def create_model(vocab_size, embedding_dim, max_length):\n",
        "  model = models.Sequential([\n",
        "  layers.Embedding(vocab_size, embedding_dim, input_length=max_length),\n",
        "  layers.GlobalAveragePooling1D(),\n",
        "  layers.Dense(24, activation='relu'),\n",
        "  Dropout(0.2),\n",
        "  layers.Dense(50, activation='softmax')\n",
        "  ])\n",
        "\n",
        "  model.compile(loss=tf.keras.losses.SparseCategoricalCrossentropy(),\n",
        "                optimizer=optimizers.Adam(),\n",
        "                metrics=['accuracy'])\n",
        "  \n",
        "  return model"
      ],
      "metadata": {
        "id": "18RsFmcbFXmc"
      },
      "execution_count": null,
      "outputs": []
    },
    {
      "cell_type": "code",
      "source": [
        "model = create_model(vocab_size, embedding_dim, max_length)\n",
        "model.summary()"
      ],
      "metadata": {
        "colab": {
          "base_uri": "https://localhost:8080/"
        },
        "id": "cB950Nd3Fr_l",
        "outputId": "9d2016fd-7e1a-4899-bf83-8cada210da5f"
      },
      "execution_count": null,
      "outputs": [
        {
          "output_type": "stream",
          "name": "stdout",
          "text": [
            "Model: \"sequential\"\n",
            "_________________________________________________________________\n",
            " Layer (type)                Output Shape              Param #   \n",
            "=================================================================\n",
            " embedding (Embedding)       (None, 120, 16)           32000     \n",
            "                                                                 \n",
            " global_average_pooling1d (G  (None, 16)               0         \n",
            " lobalAveragePooling1D)                                          \n",
            "                                                                 \n",
            " dense (Dense)               (None, 24)                408       \n",
            "                                                                 \n",
            " dropout (Dropout)           (None, 24)                0         \n",
            "                                                                 \n",
            " dense_1 (Dense)             (None, 50)                1250      \n",
            "                                                                 \n",
            "=================================================================\n",
            "Total params: 33,658\n",
            "Trainable params: 33,658\n",
            "Non-trainable params: 0\n",
            "_________________________________________________________________\n"
          ]
        }
      ]
    },
    {
      "cell_type": "code",
      "source": [
        "train_labels = np.array(y_train)\n",
        "validation_labels = np.array(y_val)\n",
        "train_labels = train_labels.reshape(len(train_labels), 1)\n",
        "validation_labels = validation_labels.reshape(len(validation_labels), 1)"
      ],
      "metadata": {
        "id": "u1LI_aIBFsel"
      },
      "execution_count": null,
      "outputs": []
    },
    {
      "cell_type": "code",
      "source": [
        "num_epochs = 100\n",
        "history = model.fit(train_padded, train_labels, \n",
        "                    epochs=num_epochs, \n",
        "                    validation_data=(validation_padded, validation_labels))"
      ],
      "metadata": {
        "colab": {
          "base_uri": "https://localhost:8080/"
        },
        "id": "qL5NU6LdFwx_",
        "outputId": "1649ce39-d9df-46a5-8a98-32b43a61b81f"
      },
      "execution_count": null,
      "outputs": [
        {
          "output_type": "stream",
          "name": "stdout",
          "text": [
            "Epoch 1/100\n",
            "147/147 [==============================] - 2s 8ms/step - loss: 3.8887 - accuracy: 0.0300 - val_loss: 3.8537 - val_accuracy: 0.0315\n",
            "Epoch 2/100\n",
            "147/147 [==============================] - 1s 8ms/step - loss: 3.8108 - accuracy: 0.0366 - val_loss: 3.7810 - val_accuracy: 0.0179\n",
            "Epoch 3/100\n",
            "147/147 [==============================] - 2s 11ms/step - loss: 3.7536 - accuracy: 0.0415 - val_loss: 3.7236 - val_accuracy: 0.0375\n",
            "Epoch 4/100\n",
            "147/147 [==============================] - 1s 8ms/step - loss: 3.6762 - accuracy: 0.0564 - val_loss: 3.6111 - val_accuracy: 0.0392\n",
            "Epoch 5/100\n",
            "147/147 [==============================] - 1s 7ms/step - loss: 3.5142 - accuracy: 0.0839 - val_loss: 3.3921 - val_accuracy: 0.0894\n",
            "Epoch 6/100\n",
            "147/147 [==============================] - 1s 6ms/step - loss: 3.3008 - accuracy: 0.1171 - val_loss: 3.1248 - val_accuracy: 0.1457\n",
            "Epoch 7/100\n",
            "147/147 [==============================] - 1s 7ms/step - loss: 3.0406 - accuracy: 0.1799 - val_loss: 2.8280 - val_accuracy: 0.2572\n",
            "Epoch 8/100\n",
            "147/147 [==============================] - 1s 6ms/step - loss: 2.7701 - accuracy: 0.2690 - val_loss: 2.5221 - val_accuracy: 0.4549\n",
            "Epoch 9/100\n",
            "147/147 [==============================] - 1s 7ms/step - loss: 2.5065 - accuracy: 0.3463 - val_loss: 2.2245 - val_accuracy: 0.6048\n",
            "Epoch 10/100\n",
            "147/147 [==============================] - 1s 8ms/step - loss: 2.2758 - accuracy: 0.4101 - val_loss: 1.9639 - val_accuracy: 0.6899\n",
            "Epoch 11/100\n",
            "147/147 [==============================] - 1s 8ms/step - loss: 2.0541 - accuracy: 0.4634 - val_loss: 1.7220 - val_accuracy: 0.7947\n",
            "Epoch 12/100\n",
            "147/147 [==============================] - 1s 7ms/step - loss: 1.8585 - accuracy: 0.5119 - val_loss: 1.5099 - val_accuracy: 0.8254\n",
            "Epoch 13/100\n",
            "147/147 [==============================] - 1s 8ms/step - loss: 1.6788 - accuracy: 0.5620 - val_loss: 1.3319 - val_accuracy: 0.8484\n",
            "Epoch 14/100\n",
            "147/147 [==============================] - 2s 10ms/step - loss: 1.5150 - accuracy: 0.6244 - val_loss: 1.1659 - val_accuracy: 0.9106\n",
            "Epoch 15/100\n",
            "147/147 [==============================] - 2s 10ms/step - loss: 1.3882 - accuracy: 0.6510 - val_loss: 1.0373 - val_accuracy: 0.9233\n",
            "Epoch 16/100\n",
            "147/147 [==============================] - 2s 11ms/step - loss: 1.2859 - accuracy: 0.6765 - val_loss: 0.9268 - val_accuracy: 0.9327\n",
            "Epoch 17/100\n",
            "147/147 [==============================] - 1s 7ms/step - loss: 1.1871 - accuracy: 0.7002 - val_loss: 0.8181 - val_accuracy: 0.9353\n",
            "Epoch 18/100\n",
            "147/147 [==============================] - 1s 7ms/step - loss: 1.0983 - accuracy: 0.7291 - val_loss: 0.7366 - val_accuracy: 0.9353\n",
            "Epoch 19/100\n",
            "147/147 [==============================] - 1s 6ms/step - loss: 1.0215 - accuracy: 0.7483 - val_loss: 0.6623 - val_accuracy: 0.9438\n",
            "Epoch 20/100\n",
            "147/147 [==============================] - 1s 7ms/step - loss: 0.9468 - accuracy: 0.7677 - val_loss: 0.5973 - val_accuracy: 0.9438\n",
            "Epoch 21/100\n",
            "147/147 [==============================] - 1s 8ms/step - loss: 0.8910 - accuracy: 0.7756 - val_loss: 0.5401 - val_accuracy: 0.9472\n",
            "Epoch 22/100\n",
            "147/147 [==============================] - 1s 7ms/step - loss: 0.8198 - accuracy: 0.7951 - val_loss: 0.4852 - val_accuracy: 0.9497\n",
            "Epoch 23/100\n",
            "147/147 [==============================] - 1s 6ms/step - loss: 0.7625 - accuracy: 0.8081 - val_loss: 0.4389 - val_accuracy: 0.9480\n",
            "Epoch 24/100\n",
            "147/147 [==============================] - 1s 8ms/step - loss: 0.7263 - accuracy: 0.8135 - val_loss: 0.3982 - val_accuracy: 0.9514\n",
            "Epoch 25/100\n",
            "147/147 [==============================] - 1s 8ms/step - loss: 0.6879 - accuracy: 0.8309 - val_loss: 0.3653 - val_accuracy: 0.9540\n",
            "Epoch 26/100\n",
            "147/147 [==============================] - 2s 12ms/step - loss: 0.6432 - accuracy: 0.8369 - val_loss: 0.3369 - val_accuracy: 0.9557\n",
            "Epoch 27/100\n",
            "147/147 [==============================] - 2s 12ms/step - loss: 0.6141 - accuracy: 0.8386 - val_loss: 0.3120 - val_accuracy: 0.9574\n",
            "Epoch 28/100\n",
            "147/147 [==============================] - 2s 13ms/step - loss: 0.5692 - accuracy: 0.8607 - val_loss: 0.2874 - val_accuracy: 0.9574\n",
            "Epoch 29/100\n",
            "147/147 [==============================] - 1s 7ms/step - loss: 0.5397 - accuracy: 0.8667 - val_loss: 0.2658 - val_accuracy: 0.9600\n",
            "Epoch 30/100\n",
            "147/147 [==============================] - 1s 4ms/step - loss: 0.5189 - accuracy: 0.8701 - val_loss: 0.2459 - val_accuracy: 0.9617\n",
            "Epoch 31/100\n",
            "147/147 [==============================] - 0s 3ms/step - loss: 0.4922 - accuracy: 0.8778 - val_loss: 0.2319 - val_accuracy: 0.9608\n",
            "Epoch 32/100\n",
            "147/147 [==============================] - 1s 4ms/step - loss: 0.4770 - accuracy: 0.8776 - val_loss: 0.2148 - val_accuracy: 0.9642\n",
            "Epoch 33/100\n",
            "147/147 [==============================] - 0s 3ms/step - loss: 0.4348 - accuracy: 0.8933 - val_loss: 0.1996 - val_accuracy: 0.9634\n",
            "Epoch 34/100\n",
            "147/147 [==============================] - 0s 3ms/step - loss: 0.4261 - accuracy: 0.8895 - val_loss: 0.1902 - val_accuracy: 0.9651\n",
            "Epoch 35/100\n",
            "147/147 [==============================] - 0s 3ms/step - loss: 0.4099 - accuracy: 0.8897 - val_loss: 0.1759 - val_accuracy: 0.9719\n",
            "Epoch 36/100\n",
            "147/147 [==============================] - 1s 4ms/step - loss: 0.3723 - accuracy: 0.9035 - val_loss: 0.1637 - val_accuracy: 0.9736\n",
            "Epoch 37/100\n",
            "147/147 [==============================] - 0s 3ms/step - loss: 0.3592 - accuracy: 0.9080 - val_loss: 0.1539 - val_accuracy: 0.9719\n",
            "Epoch 38/100\n",
            "147/147 [==============================] - 0s 3ms/step - loss: 0.3386 - accuracy: 0.9091 - val_loss: 0.1440 - val_accuracy: 0.9736\n",
            "Epoch 39/100\n",
            "147/147 [==============================] - 0s 3ms/step - loss: 0.3285 - accuracy: 0.9133 - val_loss: 0.1370 - val_accuracy: 0.9744\n",
            "Epoch 40/100\n",
            "147/147 [==============================] - 1s 4ms/step - loss: 0.3095 - accuracy: 0.9182 - val_loss: 0.1281 - val_accuracy: 0.9744\n",
            "Epoch 41/100\n",
            "147/147 [==============================] - 1s 4ms/step - loss: 0.2856 - accuracy: 0.9276 - val_loss: 0.1194 - val_accuracy: 0.9744\n",
            "Epoch 42/100\n",
            "147/147 [==============================] - 1s 3ms/step - loss: 0.2671 - accuracy: 0.9351 - val_loss: 0.1161 - val_accuracy: 0.9736\n",
            "Epoch 43/100\n",
            "147/147 [==============================] - 0s 3ms/step - loss: 0.2775 - accuracy: 0.9265 - val_loss: 0.1112 - val_accuracy: 0.9736\n",
            "Epoch 44/100\n",
            "147/147 [==============================] - 1s 4ms/step - loss: 0.2603 - accuracy: 0.9321 - val_loss: 0.1053 - val_accuracy: 0.9779\n",
            "Epoch 45/100\n",
            "147/147 [==============================] - 1s 4ms/step - loss: 0.2380 - accuracy: 0.9391 - val_loss: 0.0994 - val_accuracy: 0.9770\n",
            "Epoch 46/100\n",
            "147/147 [==============================] - 1s 4ms/step - loss: 0.2353 - accuracy: 0.9382 - val_loss: 0.0949 - val_accuracy: 0.9821\n",
            "Epoch 47/100\n",
            "147/147 [==============================] - 1s 5ms/step - loss: 0.2125 - accuracy: 0.9440 - val_loss: 0.0917 - val_accuracy: 0.9830\n",
            "Epoch 48/100\n",
            "147/147 [==============================] - 1s 6ms/step - loss: 0.2105 - accuracy: 0.9459 - val_loss: 0.0868 - val_accuracy: 0.9838\n",
            "Epoch 49/100\n",
            "147/147 [==============================] - 1s 6ms/step - loss: 0.2158 - accuracy: 0.9417 - val_loss: 0.0856 - val_accuracy: 0.9804\n",
            "Epoch 50/100\n",
            "147/147 [==============================] - 1s 5ms/step - loss: 0.2003 - accuracy: 0.9510 - val_loss: 0.0816 - val_accuracy: 0.9855\n",
            "Epoch 51/100\n",
            "147/147 [==============================] - 1s 5ms/step - loss: 0.1975 - accuracy: 0.9512 - val_loss: 0.0781 - val_accuracy: 0.9838\n",
            "Epoch 52/100\n",
            "147/147 [==============================] - 1s 4ms/step - loss: 0.1851 - accuracy: 0.9540 - val_loss: 0.0757 - val_accuracy: 0.9830\n",
            "Epoch 53/100\n",
            "147/147 [==============================] - 1s 4ms/step - loss: 0.1803 - accuracy: 0.9551 - val_loss: 0.0711 - val_accuracy: 0.9864\n",
            "Epoch 54/100\n",
            "147/147 [==============================] - 1s 3ms/step - loss: 0.1671 - accuracy: 0.9570 - val_loss: 0.0683 - val_accuracy: 0.9864\n",
            "Epoch 55/100\n",
            "147/147 [==============================] - 0s 3ms/step - loss: 0.1653 - accuracy: 0.9580 - val_loss: 0.0703 - val_accuracy: 0.9855\n",
            "Epoch 56/100\n",
            "147/147 [==============================] - 0s 3ms/step - loss: 0.1606 - accuracy: 0.9591 - val_loss: 0.0647 - val_accuracy: 0.9881\n",
            "Epoch 57/100\n",
            "147/147 [==============================] - 1s 3ms/step - loss: 0.1576 - accuracy: 0.9602 - val_loss: 0.0610 - val_accuracy: 0.9881\n",
            "Epoch 58/100\n",
            "147/147 [==============================] - 0s 3ms/step - loss: 0.1532 - accuracy: 0.9591 - val_loss: 0.0590 - val_accuracy: 0.9864\n",
            "Epoch 59/100\n",
            "147/147 [==============================] - 0s 3ms/step - loss: 0.1439 - accuracy: 0.9653 - val_loss: 0.0576 - val_accuracy: 0.9864\n",
            "Epoch 60/100\n",
            "147/147 [==============================] - 0s 3ms/step - loss: 0.1520 - accuracy: 0.9570 - val_loss: 0.0553 - val_accuracy: 0.9864\n",
            "Epoch 61/100\n",
            "147/147 [==============================] - 0s 3ms/step - loss: 0.1473 - accuracy: 0.9625 - val_loss: 0.0547 - val_accuracy: 0.9872\n",
            "Epoch 62/100\n",
            "147/147 [==============================] - 1s 4ms/step - loss: 0.1323 - accuracy: 0.9676 - val_loss: 0.0520 - val_accuracy: 0.9864\n",
            "Epoch 63/100\n",
            "147/147 [==============================] - 1s 4ms/step - loss: 0.1315 - accuracy: 0.9672 - val_loss: 0.0514 - val_accuracy: 0.9872\n",
            "Epoch 64/100\n",
            "147/147 [==============================] - 0s 3ms/step - loss: 0.1264 - accuracy: 0.9681 - val_loss: 0.0493 - val_accuracy: 0.9872\n",
            "Epoch 65/100\n",
            "147/147 [==============================] - 1s 3ms/step - loss: 0.1184 - accuracy: 0.9723 - val_loss: 0.0491 - val_accuracy: 0.9872\n",
            "Epoch 66/100\n",
            "147/147 [==============================] - 0s 3ms/step - loss: 0.1229 - accuracy: 0.9685 - val_loss: 0.0462 - val_accuracy: 0.9872\n",
            "Epoch 67/100\n",
            "147/147 [==============================] - 0s 3ms/step - loss: 0.1250 - accuracy: 0.9657 - val_loss: 0.0455 - val_accuracy: 0.9872\n",
            "Epoch 68/100\n",
            "147/147 [==============================] - 0s 3ms/step - loss: 0.1151 - accuracy: 0.9725 - val_loss: 0.0445 - val_accuracy: 0.9872\n",
            "Epoch 69/100\n",
            "147/147 [==============================] - 1s 4ms/step - loss: 0.1070 - accuracy: 0.9687 - val_loss: 0.0445 - val_accuracy: 0.9872\n",
            "Epoch 70/100\n",
            "147/147 [==============================] - 0s 3ms/step - loss: 0.1102 - accuracy: 0.9721 - val_loss: 0.0438 - val_accuracy: 0.9872\n",
            "Epoch 71/100\n",
            "147/147 [==============================] - 0s 3ms/step - loss: 0.0999 - accuracy: 0.9749 - val_loss: 0.0412 - val_accuracy: 0.9872\n",
            "Epoch 72/100\n",
            "147/147 [==============================] - 1s 5ms/step - loss: 0.1048 - accuracy: 0.9725 - val_loss: 0.0398 - val_accuracy: 0.9864\n",
            "Epoch 73/100\n",
            "147/147 [==============================] - 1s 5ms/step - loss: 0.1004 - accuracy: 0.9742 - val_loss: 0.0401 - val_accuracy: 0.9881\n",
            "Epoch 74/100\n",
            "147/147 [==============================] - 1s 5ms/step - loss: 0.0989 - accuracy: 0.9732 - val_loss: 0.0391 - val_accuracy: 0.9881\n",
            "Epoch 75/100\n",
            "147/147 [==============================] - 1s 5ms/step - loss: 0.0969 - accuracy: 0.9742 - val_loss: 0.0372 - val_accuracy: 0.9872\n",
            "Epoch 76/100\n",
            "147/147 [==============================] - 1s 5ms/step - loss: 0.0875 - accuracy: 0.9761 - val_loss: 0.0403 - val_accuracy: 0.9881\n",
            "Epoch 77/100\n",
            "147/147 [==============================] - 1s 6ms/step - loss: 0.0939 - accuracy: 0.9736 - val_loss: 0.0388 - val_accuracy: 0.9872\n",
            "Epoch 78/100\n",
            "147/147 [==============================] - 1s 4ms/step - loss: 0.0828 - accuracy: 0.9800 - val_loss: 0.0364 - val_accuracy: 0.9881\n",
            "Epoch 79/100\n",
            "147/147 [==============================] - 1s 4ms/step - loss: 0.0936 - accuracy: 0.9736 - val_loss: 0.0370 - val_accuracy: 0.9881\n",
            "Epoch 80/100\n",
            "147/147 [==============================] - 0s 3ms/step - loss: 0.0755 - accuracy: 0.9815 - val_loss: 0.0358 - val_accuracy: 0.9889\n",
            "Epoch 81/100\n",
            "147/147 [==============================] - 0s 3ms/step - loss: 0.0868 - accuracy: 0.9751 - val_loss: 0.0340 - val_accuracy: 0.9889\n",
            "Epoch 82/100\n",
            "147/147 [==============================] - 1s 4ms/step - loss: 0.0786 - accuracy: 0.9787 - val_loss: 0.0351 - val_accuracy: 0.9889\n",
            "Epoch 83/100\n",
            "147/147 [==============================] - 1s 3ms/step - loss: 0.0752 - accuracy: 0.9802 - val_loss: 0.0347 - val_accuracy: 0.9898\n",
            "Epoch 84/100\n",
            "147/147 [==============================] - 0s 3ms/step - loss: 0.0787 - accuracy: 0.9789 - val_loss: 0.0329 - val_accuracy: 0.9915\n",
            "Epoch 85/100\n",
            "147/147 [==============================] - 0s 3ms/step - loss: 0.0784 - accuracy: 0.9793 - val_loss: 0.0327 - val_accuracy: 0.9898\n",
            "Epoch 86/100\n",
            "147/147 [==============================] - 0s 3ms/step - loss: 0.0743 - accuracy: 0.9802 - val_loss: 0.0314 - val_accuracy: 0.9915\n",
            "Epoch 87/100\n",
            "147/147 [==============================] - 1s 3ms/step - loss: 0.0696 - accuracy: 0.9821 - val_loss: 0.0317 - val_accuracy: 0.9898\n",
            "Epoch 88/100\n",
            "147/147 [==============================] - 0s 3ms/step - loss: 0.0639 - accuracy: 0.9830 - val_loss: 0.0309 - val_accuracy: 0.9906\n",
            "Epoch 89/100\n",
            "147/147 [==============================] - 1s 4ms/step - loss: 0.0670 - accuracy: 0.9823 - val_loss: 0.0318 - val_accuracy: 0.9889\n",
            "Epoch 90/100\n",
            "147/147 [==============================] - 0s 3ms/step - loss: 0.0674 - accuracy: 0.9817 - val_loss: 0.0308 - val_accuracy: 0.9889\n",
            "Epoch 91/100\n",
            "147/147 [==============================] - 1s 3ms/step - loss: 0.0688 - accuracy: 0.9798 - val_loss: 0.0343 - val_accuracy: 0.9889\n",
            "Epoch 92/100\n",
            "147/147 [==============================] - 0s 3ms/step - loss: 0.0616 - accuracy: 0.9849 - val_loss: 0.0314 - val_accuracy: 0.9906\n",
            "Epoch 93/100\n",
            "147/147 [==============================] - 1s 4ms/step - loss: 0.0646 - accuracy: 0.9828 - val_loss: 0.0296 - val_accuracy: 0.9898\n",
            "Epoch 94/100\n",
            "147/147 [==============================] - 0s 3ms/step - loss: 0.0592 - accuracy: 0.9847 - val_loss: 0.0327 - val_accuracy: 0.9898\n",
            "Epoch 95/100\n",
            "147/147 [==============================] - 0s 3ms/step - loss: 0.0681 - accuracy: 0.9806 - val_loss: 0.0306 - val_accuracy: 0.9906\n",
            "Epoch 96/100\n",
            "147/147 [==============================] - 0s 3ms/step - loss: 0.0607 - accuracy: 0.9847 - val_loss: 0.0299 - val_accuracy: 0.9889\n",
            "Epoch 97/100\n",
            "147/147 [==============================] - 1s 5ms/step - loss: 0.0625 - accuracy: 0.9836 - val_loss: 0.0286 - val_accuracy: 0.9906\n",
            "Epoch 98/100\n",
            "147/147 [==============================] - 1s 5ms/step - loss: 0.0569 - accuracy: 0.9834 - val_loss: 0.0314 - val_accuracy: 0.9898\n",
            "Epoch 99/100\n",
            "147/147 [==============================] - 1s 6ms/step - loss: 0.0617 - accuracy: 0.9832 - val_loss: 0.0313 - val_accuracy: 0.9898\n",
            "Epoch 100/100\n",
            "147/147 [==============================] - 1s 6ms/step - loss: 0.0541 - accuracy: 0.9864 - val_loss: 0.0315 - val_accuracy: 0.9915\n"
          ]
        }
      ]
    },
    {
      "cell_type": "code",
      "source": [
        "def plot_graphs(history, string):\n",
        "  plt.plot(history.history[string])\n",
        "  plt.plot(history.history['val_'+string])\n",
        "  plt.xlabel(\"Epochs\")\n",
        "  plt.ylabel(string)\n",
        "  plt.legend([string, 'val_'+string])\n",
        "  plt.show()\n",
        "  \n",
        "plot_graphs(history, \"accuracy\")\n",
        "plot_graphs(history, \"loss\")"
      ],
      "metadata": {
        "colab": {
          "base_uri": "https://localhost:8080/",
          "height": 881
        },
        "id": "q6jaOvCVGKVg",
        "outputId": "e4dd9e9b-e8b9-486d-cddb-b9d64476be88"
      },
      "execution_count": null,
      "outputs": [
        {
          "output_type": "display_data",
          "data": {
            "text/plain": [
              "<Figure size 640x480 with 1 Axes>"
            ],
            "image/png": "[encoded data removed]"
          },
          "metadata": {}
        },
        {
          "output_type": "display_data",
          "data": {
            "text/plain": [
              "<Figure size 640x480 with 1 Axes>"
            ],
            "image/png": "[encoded data removed]"
          },
          "metadata": {}
        }
      ]
    },
    {
      "cell_type": "code",
      "source": [
        "from sklearn.metrics import classification_report\n",
        "pred = model.predict(validation_padded, batch_size=32, verbose=1)\n",
        "predicted = np.argmax(pred, axis=1)\n",
        "report = classification_report(validation_labels, predicted)\n",
        "print(report)"
      ],
      "metadata": {
        "colab": {
          "base_uri": "https://localhost:8080/"
        },
        "id": "XsCzH9rtGF1i",
        "outputId": "1a6d512a-4687-43e6-e5c1-d8727de81d85"
      },
      "execution_count": null,
      "outputs": [
        {
          "output_type": "stream",
          "name": "stdout",
          "text": [
            "37/37 [==============================] - 0s 2ms/step\n",
            "              precision    recall  f1-score   support\n",
            "\n",
            "           0       1.00      1.00      1.00        24\n",
            "           1       1.00      1.00      1.00        17\n",
            "           2       0.97      1.00      0.99        35\n",
            "           3       1.00      1.00      1.00        20\n",
            "           4       1.00      1.00      1.00        26\n",
            "           5       1.00      1.00      1.00        34\n",
            "           6       1.00      0.97      0.99        34\n",
            "           7       1.00      1.00      1.00        34\n",
            "           8       0.97      0.94      0.96        36\n",
            "           9       1.00      1.00      1.00        20\n",
            "          10       1.00      0.97      0.98        32\n",
            "          11       0.92      1.00      0.96        34\n",
            "          12       1.00      1.00      1.00        20\n",
            "          13       1.00      1.00      1.00         6\n",
            "          14       1.00      1.00      1.00        29\n",
            "          15       1.00      1.00      1.00        22\n",
            "          16       0.97      1.00      0.98        30\n",
            "          17       1.00      1.00      1.00        21\n",
            "          18       1.00      1.00      1.00        19\n",
            "          19       0.97      1.00      0.98        28\n",
            "          20       1.00      1.00      1.00        28\n",
            "          21       1.00      1.00      1.00        28\n",
            "          22       1.00      1.00      1.00        28\n",
            "          23       1.00      1.00      1.00        27\n",
            "          24       0.83      1.00      0.91        10\n",
            "          25       1.00      1.00      1.00        25\n",
            "          26       1.00      1.00      1.00        20\n",
            "          27       1.00      1.00      1.00        14\n",
            "          28       1.00      1.00      1.00        30\n",
            "          29       1.00      0.95      0.98        21\n",
            "          30       1.00      1.00      1.00        39\n",
            "          31       1.00      1.00      1.00        25\n",
            "          32       1.00      0.97      0.99        38\n",
            "          33       1.00      1.00      1.00        24\n",
            "          34       1.00      1.00      1.00        28\n",
            "          35       1.00      1.00      1.00        20\n",
            "          36       1.00      1.00      1.00        33\n",
            "          37       1.00      0.97      0.99        37\n",
            "          38       1.00      1.00      1.00        28\n",
            "          39       1.00      0.95      0.97        37\n",
            "          40       1.00      1.00      1.00        33\n",
            "          41       0.88      0.88      0.88         8\n",
            "          42       1.00      1.00      1.00        28\n",
            "          46       1.00      1.00      1.00        12\n",
            "          47       1.00      1.00      1.00        32\n",
            "\n",
            "    accuracy                           0.99      1174\n",
            "   macro avg       0.99      0.99      0.99      1174\n",
            "weighted avg       0.99      0.99      0.99      1174\n",
            "\n"
          ]
        }
      ]
    },
    {
      "cell_type": "code",
      "source": [
        "test1 = [\"I have been experiencing a skin rash on my arms, legs, and torso for the past few weeks. It is red, itchy, and covered in dry, scaly patches.\",\"I have a sudden high fever accompanied by bone and muscle pain. I also feel extremely tired and have lost my appetite. I experience severe headaches, particularly behind my eyes. I have mild bleeding from the nose or gums, and there are red rashes appearing on my skin.\", \"halo\", \"ts, coba coba asal\", \"ngasal dulu ah\", \"aaaaaaaaaa\", \"My lymph nodes are swollen, causing discomfort in my neck and armpits. I don't know what's causing it.\", \"I feel tired every day. There are red spots all over my arms and back and it itches if I touch them. I am really worried and not sure what to do.\"]"
      ],
      "metadata": {
        "id": "uBWFuTWoXYm6"
      },
      "execution_count": null,
      "outputs": []
    },
    {
      "cell_type": "code",
      "source": [
        "testing = []\n",
        "for i in test1:\n",
        "  testing.append(sen(keywords(i)))"
      ],
      "metadata": {
        "id": "hEIf4t7YXZKl"
      },
      "execution_count": null,
      "outputs": []
    },
    {
      "cell_type": "code",
      "source": [
        "test_sequences = tokenizer.texts_to_sequences(testing)\n",
        "test_padded = pad_sequences(test_sequences, padding=padding_type, maxlen=max_length)"
      ],
      "metadata": {
        "id": "FK5h8LusXcQy"
      },
      "execution_count": null,
      "outputs": []
    },
    {
      "cell_type": "code",
      "source": [
        "prediction = model.predict_on_batch(\n",
        "    test_padded\n",
        ")"
      ],
      "metadata": {
        "id": "ARp8cbqlXeUv"
      },
      "execution_count": null,
      "outputs": []
    },
    {
      "cell_type": "code",
      "source": [
        "for i in prediction:\n",
        "  unsure=False\n",
        "  print(np.max(i))\n",
        "  if np.max(i)<0.55:\n",
        "    unsure=True\n",
        "    print(\"Can't be diagnosed\")\n",
        "  else:\n",
        "    top_3 = np.argsort(i)[-3:][::-1]\n",
        "    print(label_encoder.inverse_transform(top_3))\n",
        "    print(top_3)"
      ],
      "metadata": {
        "colab": {
          "base_uri": "https://localhost:8080/"
        },
        "id": "jgM16uWRXfv9",
        "outputId": "a12c3b94-f1cd-46cd-9580-517bc0f210e4"
      },
      "execution_count": null,
      "outputs": [
        {
          "output_type": "stream",
          "name": "stdout",
          "text": [
            "0.98963416\n",
            "['Psoriasis' 'Acne' 'Impetigo']\n",
            "[37  2 29]\n",
            "0.59591365\n",
            "['Dengue' 'Typhoid' 'Common Cold']\n",
            "[11 39 10]\n",
            "0.47749028\n",
            "Can't be diagnosed\n",
            "0.48938292\n",
            "Can't be diagnosed\n",
            "0.48545778\n",
            "Can't be diagnosed\n",
            "0.47749028\n",
            "Can't be diagnosed\n",
            "0.86542886\n",
            "['Chicken pox' 'Allergy' 'Hypertension']\n",
            "[ 8  4 24]\n",
            "0.96116185\n",
            "['Chicken pox' 'Dengue' 'Allergy']\n",
            "[ 8 11  4]\n"
          ]
        }
      ]
    },
    {
      "cell_type": "code",
      "source": [
        "!pip install tensorflowjs"
      ],
      "metadata": {
        "colab": {
          "base_uri": "https://localhost:8080/",
          "height": 1000
        },
        "id": "poR-3aUAcvg5",
        "outputId": "d120f259-54f1-4655-ffbe-99374d7508f6"
      },
      "execution_count": null,
      "outputs": [
        {
          "output_type": "stream",
          "name": "stdout",
          "text": [
            "Looking in indexes: https://pypi.org/simple, https://us-python.pkg.dev/colab-wheels/public/simple/\n",
            "Collecting tensorflowjs\n",
            "  Downloading tensorflowjs-4.6.0-py3-none-any.whl (85 kB)\n",
            "\u001b[2K     \u001b[90m━━━━━━━━━━━━━━━━━━━━━━━━━━━━━━━━━━━━━━━━\u001b[0m \u001b[32m85.1/85.1 kB\u001b[0m \u001b[31m4.8 MB/s\u001b[0m eta \u001b[36m0:00:00\u001b[0m\n",
            "\u001b[?25hCollecting flax<0.6.3,>=0.6.2 (from tensorflowjs)\n",
            "  Downloading flax-0.6.2-py3-none-any.whl (189 kB)\n",
            "\u001b[2K     \u001b[90m━━━━━━━━━━━━━━━━━━━━━━━━━━━━━━━━━━━━━━\u001b[0m \u001b[32m189.9/189.9 kB\u001b[0m \u001b[31m14.5 MB/s\u001b[0m eta \u001b[36m0:00:00\u001b[0m\n",
            "\u001b[?25hRequirement already satisfied: importlib_resources>=5.9.0 in /usr/local/lib/python3.10/dist-packages (from tensorflowjs) (5.12.0)\n",
            "Requirement already satisfied: jax>=0.3.16 in /usr/local/lib/python3.10/dist-packages (from tensorflowjs) (0.4.10)\n",
            "Requirement already satisfied: tensorflow<3,>=2.12.0 in /usr/local/lib/python3.10/dist-packages (from tensorflowjs) (2.12.0)\n",
            "Collecting tensorflow-decision-forests>=1.3.0 (from tensorflowjs)\n",
            "  Downloading tensorflow_decision_forests-1.3.0-cp310-cp310-manylinux_2_17_x86_64.manylinux2014_x86_64.whl (16.4 MB)\n",
            "\u001b[2K     \u001b[90m━━━━━━━━━━━━━━━━━━━━━━━━━━━━━━━━━━━━━━━━\u001b[0m \u001b[32m16.4/16.4 MB\u001b[0m \u001b[31m42.6 MB/s\u001b[0m eta \u001b[36m0:00:00\u001b[0m\n",
            "\u001b[?25hRequirement already satisfied: six<2,>=1.12.0 in /usr/local/lib/python3.10/dist-packages (from tensorflowjs) (1.16.0)\n",
            "Requirement already satisfied: tensorflow-hub>=0.13.0 in /usr/local/lib/python3.10/dist-packages (from tensorflowjs) (0.13.0)\n",
            "Collecting packaging~=20.9 (from tensorflowjs)\n",
            "  Downloading packaging-20.9-py2.py3-none-any.whl (40 kB)\n",
            "\u001b[2K     \u001b[90m━━━━━━━━━━━━━━━━━━━━━━━━━━━━━━━━━━━━━━━━\u001b[0m \u001b[32m40.9/40.9 kB\u001b[0m \u001b[31m4.7 MB/s\u001b[0m eta \u001b[36m0:00:00\u001b[0m\n",
            "\u001b[?25hRequirement already satisfied: numpy>=1.12 in /usr/local/lib/python3.10/dist-packages (from flax<0.6.3,>=0.6.2->tensorflowjs) (1.22.4)\n",
            "Requirement already satisfied: matplotlib in /usr/local/lib/python3.10/dist-packages (from flax<0.6.3,>=0.6.2->tensorflowjs) (3.7.1)\n",
            "Requirement already satisfied: msgpack in /usr/local/lib/python3.10/dist-packages (from flax<0.6.3,>=0.6.2->tensorflowjs) (1.0.5)\n",
            "Requirement already satisfied: optax in /usr/local/lib/python3.10/dist-packages (from flax<0.6.3,>=0.6.2->tensorflowjs) (0.1.5)\n",
            "Requirement already satisfied: tensorstore in /usr/local/lib/python3.10/dist-packages (from flax<0.6.3,>=0.6.2->tensorflowjs) (0.1.36)\n",
            "Requirement already satisfied: rich>=11.1 in /usr/local/lib/python3.10/dist-packages (from flax<0.6.3,>=0.6.2->tensorflowjs) (13.3.4)\n",
            "Requirement already satisfied: typing-extensions>=4.1.1 in /usr/local/lib/python3.10/dist-packages (from flax<0.6.3,>=0.6.2->tensorflowjs) (4.5.0)\n",
            "Requirement already satisfied: PyYAML>=5.4.1 in /usr/local/lib/python3.10/dist-packages (from flax<0.6.3,>=0.6.2->tensorflowjs) (6.0)\n",
            "Requirement already satisfied: ml-dtypes>=0.1.0 in /usr/local/lib/python3.10/dist-packages (from jax>=0.3.16->tensorflowjs) (0.1.0)\n",
            "Requirement already satisfied: opt-einsum in /usr/local/lib/python3.10/dist-packages (from jax>=0.3.16->tensorflowjs) (3.3.0)\n",
            "Requirement already satisfied: scipy>=1.7 in /usr/local/lib/python3.10/dist-packages (from jax>=0.3.16->tensorflowjs) (1.10.1)\n",
            "Requirement already satisfied: pyparsing>=2.0.2 in /usr/local/lib/python3.10/dist-packages (from packaging~=20.9->tensorflowjs) (3.0.9)\n",
            "Requirement already satisfied: absl-py>=1.0.0 in /usr/local/lib/python3.10/dist-packages (from tensorflow<3,>=2.12.0->tensorflowjs) (1.4.0)\n",
            "Requirement already satisfied: astunparse>=1.6.0 in /usr/local/lib/python3.10/dist-packages (from tensorflow<3,>=2.12.0->tensorflowjs) (1.6.3)\n",
            "Requirement already satisfied: flatbuffers>=2.0 in /usr/local/lib/python3.10/dist-packages (from tensorflow<3,>=2.12.0->tensorflowjs) (23.3.3)\n",
            "Requirement already satisfied: gast<=0.4.0,>=0.2.1 in /usr/local/lib/python3.10/dist-packages (from tensorflow<3,>=2.12.0->tensorflowjs) (0.4.0)\n",
            "Requirement already satisfied: google-pasta>=0.1.1 in /usr/local/lib/python3.10/dist-packages (from tensorflow<3,>=2.12.0->tensorflowjs) (0.2.0)\n",
            "Requirement already satisfied: grpcio<2.0,>=1.24.3 in /usr/local/lib/python3.10/dist-packages (from tensorflow<3,>=2.12.0->tensorflowjs) (1.54.0)\n",
            "Requirement already satisfied: h5py>=2.9.0 in /usr/local/lib/python3.10/dist-packages (from tensorflow<3,>=2.12.0->tensorflowjs) (3.8.0)\n",
            "Requirement already satisfied: keras<2.13,>=2.12.0 in /usr/local/lib/python3.10/dist-packages (from tensorflow<3,>=2.12.0->tensorflowjs) (2.12.0)\n",
            "Requirement already satisfied: libclang>=13.0.0 in /usr/local/lib/python3.10/dist-packages (from tensorflow<3,>=2.12.0->tensorflowjs) (16.0.0)\n",
            "Requirement already satisfied: protobuf!=4.21.0,!=4.21.1,!=4.21.2,!=4.21.3,!=4.21.4,!=4.21.5,<5.0.0dev,>=3.20.3 in /usr/local/lib/python3.10/dist-packages (from tensorflow<3,>=2.12.0->tensorflowjs) (3.20.3)\n",
            "Requirement already satisfied: setuptools in /usr/local/lib/python3.10/dist-packages (from tensorflow<3,>=2.12.0->tensorflowjs) (67.7.2)\n",
            "Requirement already satisfied: tensorboard<2.13,>=2.12 in /usr/local/lib/python3.10/dist-packages (from tensorflow<3,>=2.12.0->tensorflowjs) (2.12.2)\n",
            "Requirement already satisfied: tensorflow-estimator<2.13,>=2.12.0 in /usr/local/lib/python3.10/dist-packages (from tensorflow<3,>=2.12.0->tensorflowjs) (2.12.0)\n",
            "Requirement already satisfied: termcolor>=1.1.0 in /usr/local/lib/python3.10/dist-packages (from tensorflow<3,>=2.12.0->tensorflowjs) (2.3.0)\n",
            "Requirement already satisfied: wrapt<1.15,>=1.11.0 in /usr/local/lib/python3.10/dist-packages (from tensorflow<3,>=2.12.0->tensorflowjs) (1.14.1)\n",
            "Requirement already satisfied: tensorflow-io-gcs-filesystem>=0.23.1 in /usr/local/lib/python3.10/dist-packages (from tensorflow<3,>=2.12.0->tensorflowjs) (0.32.0)\n",
            "Requirement already satisfied: pandas in /usr/local/lib/python3.10/dist-packages (from tensorflow-decision-forests>=1.3.0->tensorflowjs) (1.5.3)\n",
            "Requirement already satisfied: wheel in /usr/local/lib/python3.10/dist-packages (from tensorflow-decision-forests>=1.3.0->tensorflowjs) (0.40.0)\n",
            "Collecting wurlitzer (from tensorflow-decision-forests>=1.3.0->tensorflowjs)\n",
            "  Downloading wurlitzer-3.0.3-py3-none-any.whl (7.3 kB)\n",
            "Requirement already satisfied: markdown-it-py<3.0.0,>=2.2.0 in /usr/local/lib/python3.10/dist-packages (from rich>=11.1->flax<0.6.3,>=0.6.2->tensorflowjs) (2.2.0)\n",
            "Requirement already satisfied: pygments<3.0.0,>=2.13.0 in /usr/local/lib/python3.10/dist-packages (from rich>=11.1->flax<0.6.3,>=0.6.2->tensorflowjs) (2.14.0)\n",
            "Requirement already satisfied: google-auth<3,>=1.6.3 in /usr/local/lib/python3.10/dist-packages (from tensorboard<2.13,>=2.12->tensorflow<3,>=2.12.0->tensorflowjs) (2.17.3)\n",
            "Requirement already satisfied: google-auth-oauthlib<1.1,>=0.5 in /usr/local/lib/python3.10/dist-packages (from tensorboard<2.13,>=2.12->tensorflow<3,>=2.12.0->tensorflowjs) (1.0.0)\n",
            "Requirement already satisfied: markdown>=2.6.8 in /usr/local/lib/python3.10/dist-packages (from tensorboard<2.13,>=2.12->tensorflow<3,>=2.12.0->tensorflowjs) (3.4.3)\n",
            "Requirement already satisfied: requests<3,>=2.21.0 in /usr/local/lib/python3.10/dist-packages (from tensorboard<2.13,>=2.12->tensorflow<3,>=2.12.0->tensorflowjs) (2.27.1)\n",
            "Requirement already satisfied: tensorboard-data-server<0.8.0,>=0.7.0 in /usr/local/lib/python3.10/dist-packages (from tensorboard<2.13,>=2.12->tensorflow<3,>=2.12.0->tensorflowjs) (0.7.0)\n",
            "Requirement already satisfied: tensorboard-plugin-wit>=1.6.0 in /usr/local/lib/python3.10/dist-packages (from tensorboard<2.13,>=2.12->tensorflow<3,>=2.12.0->tensorflowjs) (1.8.1)\n",
            "Requirement already satisfied: werkzeug>=1.0.1 in /usr/local/lib/python3.10/dist-packages (from tensorboard<2.13,>=2.12->tensorflow<3,>=2.12.0->tensorflowjs) (2.3.0)\n",
            "Requirement already satisfied: contourpy>=1.0.1 in /usr/local/lib/python3.10/dist-packages (from matplotlib->flax<0.6.3,>=0.6.2->tensorflowjs) (1.0.7)\n",
            "Requirement already satisfied: cycler>=0.10 in /usr/local/lib/python3.10/dist-packages (from matplotlib->flax<0.6.3,>=0.6.2->tensorflowjs) (0.11.0)\n",
            "Requirement already satisfied: fonttools>=4.22.0 in /usr/local/lib/python3.10/dist-packages (from matplotlib->flax<0.6.3,>=0.6.2->tensorflowjs) (4.39.3)\n",
            "Requirement already satisfied: kiwisolver>=1.0.1 in /usr/local/lib/python3.10/dist-packages (from matplotlib->flax<0.6.3,>=0.6.2->tensorflowjs) (1.4.4)\n",
            "Requirement already satisfied: pillow>=6.2.0 in /usr/local/lib/python3.10/dist-packages (from matplotlib->flax<0.6.3,>=0.6.2->tensorflowjs) (8.4.0)\n",
            "Requirement already satisfied: python-dateutil>=2.7 in /usr/local/lib/python3.10/dist-packages (from matplotlib->flax<0.6.3,>=0.6.2->tensorflowjs) (2.8.2)\n",
            "Requirement already satisfied: chex>=0.1.5 in /usr/local/lib/python3.10/dist-packages (from optax->flax<0.6.3,>=0.6.2->tensorflowjs) (0.1.7)\n",
            "Requirement already satisfied: jaxlib>=0.1.37 in /usr/local/lib/python3.10/dist-packages (from optax->flax<0.6.3,>=0.6.2->tensorflowjs) (0.4.10+cuda11.cudnn86)\n",
            "Requirement already satisfied: pytz>=2020.1 in /usr/local/lib/python3.10/dist-packages (from pandas->tensorflow-decision-forests>=1.3.0->tensorflowjs) (2022.7.1)\n",
            "Requirement already satisfied: dm-tree>=0.1.5 in /usr/local/lib/python3.10/dist-packages (from chex>=0.1.5->optax->flax<0.6.3,>=0.6.2->tensorflowjs) (0.1.8)\n",
            "Requirement already satisfied: toolz>=0.9.0 in /usr/local/lib/python3.10/dist-packages (from chex>=0.1.5->optax->flax<0.6.3,>=0.6.2->tensorflowjs) (0.12.0)\n",
            "Requirement already satisfied: cachetools<6.0,>=2.0.0 in /usr/local/lib/python3.10/dist-packages (from google-auth<3,>=1.6.3->tensorboard<2.13,>=2.12->tensorflow<3,>=2.12.0->tensorflowjs) (5.3.0)\n",
            "Requirement already satisfied: pyasn1-modules>=0.2.1 in /usr/local/lib/python3.10/dist-packages (from google-auth<3,>=1.6.3->tensorboard<2.13,>=2.12->tensorflow<3,>=2.12.0->tensorflowjs) (0.3.0)\n",
            "Requirement already satisfied: rsa<5,>=3.1.4 in /usr/local/lib/python3.10/dist-packages (from google-auth<3,>=1.6.3->tensorboard<2.13,>=2.12->tensorflow<3,>=2.12.0->tensorflowjs) (4.9)\n",
            "Requirement already satisfied: requests-oauthlib>=0.7.0 in /usr/local/lib/python3.10/dist-packages (from google-auth-oauthlib<1.1,>=0.5->tensorboard<2.13,>=2.12->tensorflow<3,>=2.12.0->tensorflowjs) (1.3.1)\n",
            "Requirement already satisfied: mdurl~=0.1 in /usr/local/lib/python3.10/dist-packages (from markdown-it-py<3.0.0,>=2.2.0->rich>=11.1->flax<0.6.3,>=0.6.2->tensorflowjs) (0.1.2)\n",
            "Requirement already satisfied: urllib3<1.27,>=1.21.1 in /usr/local/lib/python3.10/dist-packages (from requests<3,>=2.21.0->tensorboard<2.13,>=2.12->tensorflow<3,>=2.12.0->tensorflowjs) (1.26.15)\n",
            "Requirement already satisfied: certifi>=2017.4.17 in /usr/local/lib/python3.10/dist-packages (from requests<3,>=2.21.0->tensorboard<2.13,>=2.12->tensorflow<3,>=2.12.0->tensorflowjs) (2022.12.7)\n",
            "Requirement already satisfied: charset-normalizer~=2.0.0 in /usr/local/lib/python3.10/dist-packages (from requests<3,>=2.21.0->tensorboard<2.13,>=2.12->tensorflow<3,>=2.12.0->tensorflowjs) (2.0.12)\n",
            "Requirement already satisfied: idna<4,>=2.5 in /usr/local/lib/python3.10/dist-packages (from requests<3,>=2.21.0->tensorboard<2.13,>=2.12->tensorflow<3,>=2.12.0->tensorflowjs) (3.4)\n",
            "Requirement already satisfied: MarkupSafe>=2.1.1 in /usr/local/lib/python3.10/dist-packages (from werkzeug>=1.0.1->tensorboard<2.13,>=2.12->tensorflow<3,>=2.12.0->tensorflowjs) (2.1.2)\n",
            "Requirement already satisfied: pyasn1<0.6.0,>=0.4.6 in /usr/local/lib/python3.10/dist-packages (from pyasn1-modules>=0.2.1->google-auth<3,>=1.6.3->tensorboard<2.13,>=2.12->tensorflow<3,>=2.12.0->tensorflowjs) (0.5.0)\n",
            "Requirement already satisfied: oauthlib>=3.0.0 in /usr/local/lib/python3.10/dist-packages (from requests-oauthlib>=0.7.0->google-auth-oauthlib<1.1,>=0.5->tensorboard<2.13,>=2.12->tensorflow<3,>=2.12.0->tensorflowjs) (3.2.2)\n",
            "Installing collected packages: wurlitzer, packaging, flax, tensorflow-decision-forests, tensorflowjs\n",
            "  Attempting uninstall: packaging\n",
            "    Found existing installation: packaging 23.1\n",
            "    Uninstalling packaging-23.1:\n",
            "      Successfully uninstalled packaging-23.1\n",
            "  Attempting uninstall: flax\n",
            "    Found existing installation: flax 0.6.9\n",
            "    Uninstalling flax-0.6.9:\n",
            "      Successfully uninstalled flax-0.6.9\n",
            "\u001b[31mERROR: pip's dependency resolver does not currently take into account all the packages that are installed. This behaviour is the source of the following dependency conflicts.\n",
            "statsmodels 0.13.5 requires packaging>=21.3, but you have packaging 20.9 which is incompatible.\n",
            "xarray 2022.12.0 requires packaging>=21.3, but you have packaging 20.9 which is incompatible.\u001b[0m\u001b[31m\n",
            "\u001b[0mSuccessfully installed flax-0.6.2 packaging-20.9 tensorflow-decision-forests-1.3.0 tensorflowjs-4.6.0 wurlitzer-3.0.3\n"
          ]
        },
        {
          "output_type": "display_data",
          "data": {
            "application/vnd.colab-display-data+json": {
              "pip_warning": {
                "packages": [
                  "packaging"
                ]
              }
            }
          },
          "metadata": {}
        }
      ]
    },
    {
      "cell_type": "code",
      "source": [
        "import tensorflowjs as tfjs\n",
        "filepath = \"/content/drive/MyDrive/capstone/ml code (celia iseng)/Eksperimen~~/model experimen 4/model.h5\"\n",
        "model.save(filepath, save_format='h5')\n",
        "tfjs.converters.save_keras_model(model, \"/content/drive/MyDrive/capstone/ml code (celia iseng)/Eksperimen~~/model experimen 4/\")"
      ],
      "metadata": {
        "id": "3c8V4j05YoLQ"
      },
      "execution_count": null,
      "outputs": []
    },
    {
      "cell_type": "code",
      "source": [
        "word_index = tokenizer.word_index\n",
        "index_to_word = {index: word for word, index in word_index.items()}\n",
        "dict_input = pd.DataFrame.from_dict(index_to_word, orient='index', columns=['Word'])\n",
        "csv_filename = '/content/drive/MyDrive/capstone/ml code (celia iseng)/Eksperimen~~/model experimen 4/dict_input.csv'\n",
        "dict_input.to_csv(csv_filename)\n",
        "label_mapping = {label: encoded_label for label, encoded_label in zip(df['Diseases'].tolist(),df['label_encoded'].tolist())}\n",
        "dict_output = pd.DataFrame.from_dict(label_mapping, orient='index', columns=['EncodedLabel'])\n",
        "dict_output.index.name = 'OriginalLabel'\n",
        "csv_filename = '/content/drive/MyDrive/capstone/ml code (celia iseng)/Eksperimen~~/model experimen 4/dict_output.csv'\n",
        "dict_output.to_csv(csv_filename)"
      ],
      "metadata": {
        "id": "UAG2TGIsc19f"
      },
      "execution_count": null,
      "outputs": []
    }
  ]
}