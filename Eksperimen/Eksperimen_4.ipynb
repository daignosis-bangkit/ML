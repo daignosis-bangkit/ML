{
  "nbformat": 4,
  "nbformat_minor": 0,
  "metadata": {
    "colab": {
      "provenance": []
    },
    "kernelspec": {
      "name": "python3",
      "display_name": "Python 3"
    },
    "language_info": {
      "name": "python"
    }
  },
  "cells": [
    {
      "cell_type": "markdown",
      "source": [
        "Describe"
      ],
      "metadata": {
        "id": "7Ko-JqJIDM1-"
      }
    },
    {
      "cell_type": "code",
      "execution_count": null,
      "metadata": {
        "colab": {
          "base_uri": "https://localhost:8080/"
        },
        "id": "etoIhhxaCikZ",
        "outputId": "852de774-6d84-42a3-ce37-0e2fc902d1a0"
      },
      "outputs": [
        {
          "output_type": "stream",
          "name": "stdout",
          "text": [
            "Mounted at /content/drive\n"
          ]
        }
      ],
      "source": [
        "from google.colab import drive\n",
        "drive.mount('/content/drive')"
      ]
    },
    {
      "cell_type": "code",
      "source": [
        "import pandas as pd\n",
        "path_des = \"/content/drive/MyDrive/capstone/ml code (celia iseng)/describe/Symptom2Disease.csv\"\n",
        "df_des = pd.read_csv(path_des)"
      ],
      "metadata": {
        "id": "9EkKquPdDK4y"
      },
      "execution_count": null,
      "outputs": []
    },
    {
      "cell_type": "code",
      "source": [
        "!pip install rake-nltk\n",
        "import nltk\n",
        "from rake_nltk import Rake\n",
        "nltk.download('stopwords')\n",
        "nltk.download('punkt')"
      ],
      "metadata": {
        "colab": {
          "base_uri": "https://localhost:8080/"
        },
        "id": "KO6nnydfDRM4",
        "outputId": "f52605fe-0700-41f8-a136-dd89c14229fa"
      },
      "execution_count": null,
      "outputs": [
        {
          "output_type": "stream",
          "name": "stdout",
          "text": [
            "Looking in indexes: https://pypi.org/simple, https://us-python.pkg.dev/colab-wheels/public/simple/\n",
            "Collecting rake-nltk\n",
            "  Downloading rake_nltk-1.0.6-py3-none-any.whl (9.1 kB)\n",
            "Requirement already satisfied: nltk<4.0.0,>=3.6.2 in /usr/local/lib/python3.10/dist-packages (from rake-nltk) (3.8.1)\n",
            "Requirement already satisfied: click in /usr/local/lib/python3.10/dist-packages (from nltk<4.0.0,>=3.6.2->rake-nltk) (8.1.3)\n",
            "Requirement already satisfied: joblib in /usr/local/lib/python3.10/dist-packages (from nltk<4.0.0,>=3.6.2->rake-nltk) (1.2.0)\n",
            "Requirement already satisfied: regex>=2021.8.3 in /usr/local/lib/python3.10/dist-packages (from nltk<4.0.0,>=3.6.2->rake-nltk) (2022.10.31)\n",
            "Requirement already satisfied: tqdm in /usr/local/lib/python3.10/dist-packages (from nltk<4.0.0,>=3.6.2->rake-nltk) (4.65.0)\n",
            "Installing collected packages: rake-nltk\n",
            "Successfully installed rake-nltk-1.0.6\n"
          ]
        },
        {
          "output_type": "stream",
          "name": "stderr",
          "text": [
            "[nltk_data] Downloading package stopwords to /root/nltk_data...\n",
            "[nltk_data]   Unzipping corpora/stopwords.zip.\n",
            "[nltk_data] Downloading package punkt to /root/nltk_data...\n",
            "[nltk_data]   Unzipping tokenizers/punkt.zip.\n"
          ]
        },
        {
          "output_type": "execute_result",
          "data": {
            "text/plain": [
              "True"
            ]
          },
          "metadata": {},
          "execution_count": 3
        }
      ]
    },
    {
      "cell_type": "code",
      "source": [
        "#remove function\n",
        "def keywords(text):\n",
        "  key_arr = []\n",
        "  r = Rake()\n",
        "  r.extract_keywords_from_text(text)\n",
        "  for rating, keyword in r.get_ranked_phrases_with_scores():\n",
        "    key_arr.append(keyword)\n",
        "  return key_arr\n",
        "\n",
        "def sen(arr):\n",
        "  s = \" \".join([str(item) for item in arr])\n",
        "  return s"
      ],
      "metadata": {
        "id": "Jw3MtMREDhxg"
      },
      "execution_count": null,
      "outputs": []
    },
    {
      "cell_type": "code",
      "source": [
        "sentences_des = []\n",
        "for i in df_des['text'].values.tolist():\n",
        "  sentences_des.append(sen(keywords(i)))"
      ],
      "metadata": {
        "id": "h_xCdHXhDj8u"
      },
      "execution_count": null,
      "outputs": []
    },
    {
      "cell_type": "code",
      "source": [
        "des_diseases = df_des['label']"
      ],
      "metadata": {
        "id": "eWAQWmWnDprK"
      },
      "execution_count": null,
      "outputs": []
    },
    {
      "cell_type": "markdown",
      "source": [
        "Ceklis"
      ],
      "metadata": {
        "id": "Ad7vC3NKEF5O"
      }
    },
    {
      "cell_type": "code",
      "source": [
        "path_check = \"/content/drive/MyDrive/capstone/ml code (celia iseng)/checklist/dataset.csv\"\n",
        "df_check = pd.read_csv(path_check)"
      ],
      "metadata": {
        "id": "WIx0cnnADrr_"
      },
      "execution_count": null,
      "outputs": []
    },
    {
      "cell_type": "code",
      "source": [
        "symptoms_check = df_check.drop(columns=['Disease'])"
      ],
      "metadata": {
        "id": "F88qrOByEKNB"
      },
      "execution_count": null,
      "outputs": []
    },
    {
      "cell_type": "code",
      "source": [
        "import numpy as np\n",
        "symptoms_check = symptoms_check.to_numpy()\n",
        "sentences_check = []\n",
        "for i in symptoms_check:\n",
        "  #print(i)\n",
        "  s = \" \".join([str(item).replace(\"_\", \" \") for item in i if str(item) != \"nan\"])\n",
        "  sentences_check = np.append(sentences_check,s)"
      ],
      "metadata": {
        "id": "tltF-ekxENIB"
      },
      "execution_count": null,
      "outputs": []
    },
    {
      "cell_type": "code",
      "source": [
        "sentences_check = sentences_check.tolist()"
      ],
      "metadata": {
        "id": "uQlBQrtMEYWE"
      },
      "execution_count": null,
      "outputs": []
    },
    {
      "cell_type": "code",
      "source": [
        "check_diseases = df_check['Disease']"
      ],
      "metadata": {
        "id": "24rqlJ5lEY2v"
      },
      "execution_count": null,
      "outputs": []
    },
    {
      "cell_type": "code",
      "source": [
        "des_diseases = des_diseases.values.tolist()\n",
        "check_diseases = check_diseases.values.tolist()"
      ],
      "metadata": {
        "id": "Z4lSgbhmEbsW"
      },
      "execution_count": null,
      "outputs": []
    },
    {
      "cell_type": "markdown",
      "source": [
        "menggabungkan dataset"
      ],
      "metadata": {
        "id": "TtnVGnreEhV0"
      }
    },
    {
      "cell_type": "code",
      "source": [
        "sentences = sentences_check + sentences_des\n",
        "diseases = check_diseases + des_diseases"
      ],
      "metadata": {
        "id": "87ATPq6KEemV"
      },
      "execution_count": null,
      "outputs": []
    },
    {
      "cell_type": "code",
      "source": [
        "df = {'Diseases': diseases,'sentences': sentences}\n",
        "df = pd.DataFrame(df)\n",
        "print(df) "
      ],
      "metadata": {
        "colab": {
          "base_uri": "https://localhost:8080/"
        },
        "id": "MV3OnjwREoZO",
        "outputId": "ee7eb962-4ab3-4c07-880c-4f34f32ad65d"
      },
      "execution_count": null,
      "outputs": [
        {
          "output_type": "stream",
          "name": "stdout",
          "text": [
            "              Diseases                                          sentences\n",
            "0     Fungal infection  itching  skin rash  nodal skin eruptions  disc...\n",
            "1     Fungal infection   skin rash  nodal skin eruptions  dischromic  ...\n",
            "2     Fungal infection  itching  nodal skin eruptions  dischromic  pat...\n",
            "3     Fungal infection            itching  skin rash  dischromic  patches\n",
            "4     Fungal infection           itching  skin rash  nodal skin eruptions\n",
            "...                ...                                                ...\n",
            "6115          diabetes  occasionally get palpitations speeding heart t...\n",
            "6116          diabetes  cuts take skin rashes skin bruises skin well p...\n",
            "6117          diabetes  frequently feel drowsy also significantly lost...\n",
            "6118          diabetes  urinary tract infections yeast infections trou...\n",
            "6119          diabetes  usually gets better dry cough constantly sneez...\n",
            "\n",
            "[6120 rows x 2 columns]\n"
          ]
        }
      ]
    },
    {
      "cell_type": "code",
      "source": [
        "from sklearn.preprocessing import LabelEncoder\n",
        "label_encoder = LabelEncoder()\n",
        "def label_encode(labels):\n",
        "    label_encoder.fit(labels)\n",
        "    label_sequences = label_encoder.transform(labels)\n",
        "    return label_sequences\n",
        "\n",
        "df['label_encoded'] = label_encode(df['Diseases'])"
      ],
      "metadata": {
        "id": "vSqrWjTCErwI"
      },
      "execution_count": null,
      "outputs": []
    },
    {
      "cell_type": "code",
      "source": [
        "df = df.drop(df[df[\"label_encoded\"]==43].index)\n",
        "df = df.drop(df[df[\"label_encoded\"]==44].index)\n",
        "df = df.drop(df[df[\"label_encoded\"]==45].index)\n",
        "df = df.drop(df[df[\"label_encoded\"]==48].index)\n",
        "df = df.drop(df[df[\"label_encoded\"]==49].index)"
      ],
      "metadata": {
        "id": "EvulQt3bFL41"
      },
      "execution_count": null,
      "outputs": []
    },
    {
      "cell_type": "code",
      "source": [
        "print(len(df.Diseases.unique()))\n",
        "print((df.Diseases.unique()))"
      ],
      "metadata": {
        "colab": {
          "base_uri": "https://localhost:8080/"
        },
        "id": "JDsGKE1OOWQ_",
        "outputId": "1dce7b42-39a8-4d0e-bb0c-057b6091331f"
      },
      "execution_count": null,
      "outputs": [
        {
          "output_type": "stream",
          "name": "stdout",
          "text": [
            "45\n",
            "['Fungal infection' 'Allergy' 'GERD' 'Chronic cholestasis' 'Drug Reaction'\n",
            " 'Peptic ulcer diseae' 'AIDS' 'Diabetes ' 'Gastroenteritis'\n",
            " 'Bronchial Asthma' 'Hypertension ' 'Migraine' 'Cervical spondylosis'\n",
            " 'Paralysis (brain hemorrhage)' 'Jaundice' 'Malaria' 'Chicken pox'\n",
            " 'Dengue' 'Typhoid' 'hepatitis A' 'Hepatitis B' 'Hepatitis C'\n",
            " 'Hepatitis D' 'Hepatitis E' 'Alcoholic hepatitis' 'Tuberculosis'\n",
            " 'Common Cold' 'Pneumonia' 'Dimorphic hemmorhoids(piles)' 'Heart attack'\n",
            " 'Varicose veins' 'Hypothyroidism' 'Hyperthyroidism' 'Hypoglycemia'\n",
            " 'Osteoarthristis' 'Arthritis' '(vertigo) Paroymsal  Positional Vertigo'\n",
            " 'Acne' 'Urinary tract infection' 'Psoriasis' 'Impetigo' 'Varicose Veins'\n",
            " 'Dimorphic Hemorrhoids' 'Hypertension' 'gastroesophageal reflux disease']\n"
          ]
        }
      ]
    },
    {
      "cell_type": "code",
      "source": [
        "df.head()"
      ],
      "metadata": {
        "colab": {
          "base_uri": "https://localhost:8080/",
          "height": 206
        },
        "id": "fKJYFiCQGy9u",
        "outputId": "25885f4b-381c-4b1e-f04a-cc65b1442321"
      },
      "execution_count": null,
      "outputs": [
        {
          "output_type": "execute_result",
          "data": {
            "text/plain": [
              "           Diseases                                          sentences  \\\n",
              "0  Fungal infection  itching  skin rash  nodal skin eruptions  disc...   \n",
              "1  Fungal infection   skin rash  nodal skin eruptions  dischromic  ...   \n",
              "2  Fungal infection  itching  nodal skin eruptions  dischromic  pat...   \n",
              "3  Fungal infection            itching  skin rash  dischromic  patches   \n",
              "4  Fungal infection           itching  skin rash  nodal skin eruptions   \n",
              "\n",
              "   label_encoded  \n",
              "0             16  \n",
              "1             16  \n",
              "2             16  \n",
              "3             16  \n",
              "4             16  "
            ],
            "text/html": [
              "\n",
              "  <div id=\"df-7bae2d35-6199-4f0e-9ed6-5ca0db2b9384\">\n",
              "    <div class=\"colab-df-container\">\n",
              "      <div>\n",
              "<style scoped>\n",
              "    .dataframe tbody tr th:only-of-type {\n",
              "        vertical-align: middle;\n",
              "    }\n",
              "\n",
              "    .dataframe tbody tr th {\n",
              "        vertical-align: top;\n",
              "    }\n",
              "\n",
              "    .dataframe thead th {\n",
              "        text-align: right;\n",
              "    }\n",
              "</style>\n",
              "<table border=\"1\" class=\"dataframe\">\n",
              "  <thead>\n",
              "    <tr style=\"text-align: right;\">\n",
              "      <th></th>\n",
              "      <th>Diseases</th>\n",
              "      <th>sentences</th>\n",
              "      <th>label_encoded</th>\n",
              "    </tr>\n",
              "  </thead>\n",
              "  <tbody>\n",
              "    <tr>\n",
              "      <th>0</th>\n",
              "      <td>Fungal infection</td>\n",
              "      <td>itching  skin rash  nodal skin eruptions  disc...</td>\n",
              "      <td>16</td>\n",
              "    </tr>\n",
              "    <tr>\n",
              "      <th>1</th>\n",
              "      <td>Fungal infection</td>\n",
              "      <td>skin rash  nodal skin eruptions  dischromic  ...</td>\n",
              "      <td>16</td>\n",
              "    </tr>\n",
              "    <tr>\n",
              "      <th>2</th>\n",
              "      <td>Fungal infection</td>\n",
              "      <td>itching  nodal skin eruptions  dischromic  pat...</td>\n",
              "      <td>16</td>\n",
              "    </tr>\n",
              "    <tr>\n",
              "      <th>3</th>\n",
              "      <td>Fungal infection</td>\n",
              "      <td>itching  skin rash  dischromic  patches</td>\n",
              "      <td>16</td>\n",
              "    </tr>\n",
              "    <tr>\n",
              "      <th>4</th>\n",
              "      <td>Fungal infection</td>\n",
              "      <td>itching  skin rash  nodal skin eruptions</td>\n",
              "      <td>16</td>\n",
              "    </tr>\n",
              "  </tbody>\n",
              "</table>\n",
              "</div>\n",
              "      <button class=\"colab-df-convert\" onclick=\"convertToInteractive('df-7bae2d35-6199-4f0e-9ed6-5ca0db2b9384')\"\n",
              "              title=\"Convert this dataframe to an interactive table.\"\n",
              "              style=\"display:none;\">\n",
              "        \n",
              "  <svg xmlns=\"http://www.w3.org/2000/svg\" height=\"24px\"viewBox=\"0 0 24 24\"\n",
              "       width=\"24px\">\n",
              "    <path d=\"M0 0h24v24H0V0z\" fill=\"none\"/>\n",
              "    <path d=\"M18.56 5.44l.94 2.06.94-2.06 2.06-.94-2.06-.94-.94-2.06-.94 2.06-2.06.94zm-11 1L8.5 8.5l.94-2.06 2.06-.94-2.06-.94L8.5 2.5l-.94 2.06-2.06.94zm10 10l.94 2.06.94-2.06 2.06-.94-2.06-.94-.94-2.06-.94 2.06-2.06.94z\"/><path d=\"M17.41 7.96l-1.37-1.37c-.4-.4-.92-.59-1.43-.59-.52 0-1.04.2-1.43.59L10.3 9.45l-7.72 7.72c-.78.78-.78 2.05 0 2.83L4 21.41c.39.39.9.59 1.41.59.51 0 1.02-.2 1.41-.59l7.78-7.78 2.81-2.81c.8-.78.8-2.07 0-2.86zM5.41 20L4 18.59l7.72-7.72 1.47 1.35L5.41 20z\"/>\n",
              "  </svg>\n",
              "      </button>\n",
              "      \n",
              "  <style>\n",
              "    .colab-df-container {\n",
              "      display:flex;\n",
              "      flex-wrap:wrap;\n",
              "      gap: 12px;\n",
              "    }\n",
              "\n",
              "    .colab-df-convert {\n",
              "      background-color: #E8F0FE;\n",
              "      border: none;\n",
              "      border-radius: 50%;\n",
              "      cursor: pointer;\n",
              "      display: none;\n",
              "      fill: #1967D2;\n",
              "      height: 32px;\n",
              "      padding: 0 0 0 0;\n",
              "      width: 32px;\n",
              "    }\n",
              "\n",
              "    .colab-df-convert:hover {\n",
              "      background-color: #E2EBFA;\n",
              "      box-shadow: 0px 1px 2px rgba(60, 64, 67, 0.3), 0px 1px 3px 1px rgba(60, 64, 67, 0.15);\n",
              "      fill: #174EA6;\n",
              "    }\n",
              "\n",
              "    [theme=dark] .colab-df-convert {\n",
              "      background-color: #3B4455;\n",
              "      fill: #D2E3FC;\n",
              "    }\n",
              "\n",
              "    [theme=dark] .colab-df-convert:hover {\n",
              "      background-color: #434B5C;\n",
              "      box-shadow: 0px 1px 3px 1px rgba(0, 0, 0, 0.15);\n",
              "      filter: drop-shadow(0px 1px 2px rgba(0, 0, 0, 0.3));\n",
              "      fill: #FFFFFF;\n",
              "    }\n",
              "  </style>\n",
              "\n",
              "      <script>\n",
              "        const buttonEl =\n",
              "          document.querySelector('#df-7bae2d35-6199-4f0e-9ed6-5ca0db2b9384 button.colab-df-convert');\n",
              "        buttonEl.style.display =\n",
              "          google.colab.kernel.accessAllowed ? 'block' : 'none';\n",
              "\n",
              "        async function convertToInteractive(key) {\n",
              "          const element = document.querySelector('#df-7bae2d35-6199-4f0e-9ed6-5ca0db2b9384');\n",
              "          const dataTable =\n",
              "            await google.colab.kernel.invokeFunction('convertToInteractive',\n",
              "                                                     [key], {});\n",
              "          if (!dataTable) return;\n",
              "\n",
              "          const docLinkHtml = 'Like what you see? Visit the ' +\n",
              "            '<a target=\"_blank\" href=https://colab.research.google.com/notebooks/data_table.ipynb>data table notebook</a>'\n",
              "            + ' to learn more about interactive tables.';\n",
              "          element.innerHTML = '';\n",
              "          dataTable['output_type'] = 'display_data';\n",
              "          await google.colab.output.renderOutput(dataTable, element);\n",
              "          const docLink = document.createElement('div');\n",
              "          docLink.innerHTML = docLinkHtml;\n",
              "          element.appendChild(docLink);\n",
              "        }\n",
              "      </script>\n",
              "    </div>\n",
              "  </div>\n",
              "  "
            ]
          },
          "metadata": {},
          "execution_count": 18
        }
      ]
    },
    {
      "cell_type": "code",
      "source": [
        "df.tail()"
      ],
      "metadata": {
        "colab": {
          "base_uri": "https://localhost:8080/",
          "height": 206
        },
        "id": "35paI_y3G1T7",
        "outputId": "bdd6c4ad-5e87-4020-cec8-d6349364c967"
      },
      "execution_count": null,
      "outputs": [
        {
          "output_type": "execute_result",
          "data": {
            "text/plain": [
              "                             Diseases  \\\n",
              "5965  gastroesophageal reflux disease   \n",
              "5966  gastroesophageal reflux disease   \n",
              "5967  gastroesophageal reflux disease   \n",
              "5968  gastroesophageal reflux disease   \n",
              "5969  gastroesophageal reflux disease   \n",
              "\n",
              "                                              sentences  label_encoded  \n",
              "5965  lean forward fatty foods eating spicy chest hu...             46  \n",
              "5966  constantly get horrible acid reflux agony regu...             46  \n",
              "5967  throat often feels like occasionally get feel ...             46  \n",
              "5968  sour taste anything acidic throat stomach mout...             46  \n",
              "5969  typical symptoms include heartburn throat ting...             46  "
            ],
            "text/html": [
              "\n",
              "  <div id=\"df-d629e9b4-97dd-4a8d-87f1-f5cd45fd865d\">\n",
              "    <div class=\"colab-df-container\">\n",
              "      <div>\n",
              "<style scoped>\n",
              "    .dataframe tbody tr th:only-of-type {\n",
              "        vertical-align: middle;\n",
              "    }\n",
              "\n",
              "    .dataframe tbody tr th {\n",
              "        vertical-align: top;\n",
              "    }\n",
              "\n",
              "    .dataframe thead th {\n",
              "        text-align: right;\n",
              "    }\n",
              "</style>\n",
              "<table border=\"1\" class=\"dataframe\">\n",
              "  <thead>\n",
              "    <tr style=\"text-align: right;\">\n",
              "      <th></th>\n",
              "      <th>Diseases</th>\n",
              "      <th>sentences</th>\n",
              "      <th>label_encoded</th>\n",
              "    </tr>\n",
              "  </thead>\n",
              "  <tbody>\n",
              "    <tr>\n",
              "      <th>5965</th>\n",
              "      <td>gastroesophageal reflux disease</td>\n",
              "      <td>lean forward fatty foods eating spicy chest hu...</td>\n",
              "      <td>46</td>\n",
              "    </tr>\n",
              "    <tr>\n",
              "      <th>5966</th>\n",
              "      <td>gastroesophageal reflux disease</td>\n",
              "      <td>constantly get horrible acid reflux agony regu...</td>\n",
              "      <td>46</td>\n",
              "    </tr>\n",
              "    <tr>\n",
              "      <th>5967</th>\n",
              "      <td>gastroesophageal reflux disease</td>\n",
              "      <td>throat often feels like occasionally get feel ...</td>\n",
              "      <td>46</td>\n",
              "    </tr>\n",
              "    <tr>\n",
              "      <th>5968</th>\n",
              "      <td>gastroesophageal reflux disease</td>\n",
              "      <td>sour taste anything acidic throat stomach mout...</td>\n",
              "      <td>46</td>\n",
              "    </tr>\n",
              "    <tr>\n",
              "      <th>5969</th>\n",
              "      <td>gastroesophageal reflux disease</td>\n",
              "      <td>typical symptoms include heartburn throat ting...</td>\n",
              "      <td>46</td>\n",
              "    </tr>\n",
              "  </tbody>\n",
              "</table>\n",
              "</div>\n",
              "      <button class=\"colab-df-convert\" onclick=\"convertToInteractive('df-d629e9b4-97dd-4a8d-87f1-f5cd45fd865d')\"\n",
              "              title=\"Convert this dataframe to an interactive table.\"\n",
              "              style=\"display:none;\">\n",
              "        \n",
              "  <svg xmlns=\"http://www.w3.org/2000/svg\" height=\"24px\"viewBox=\"0 0 24 24\"\n",
              "       width=\"24px\">\n",
              "    <path d=\"M0 0h24v24H0V0z\" fill=\"none\"/>\n",
              "    <path d=\"M18.56 5.44l.94 2.06.94-2.06 2.06-.94-2.06-.94-.94-2.06-.94 2.06-2.06.94zm-11 1L8.5 8.5l.94-2.06 2.06-.94-2.06-.94L8.5 2.5l-.94 2.06-2.06.94zm10 10l.94 2.06.94-2.06 2.06-.94-2.06-.94-.94-2.06-.94 2.06-2.06.94z\"/><path d=\"M17.41 7.96l-1.37-1.37c-.4-.4-.92-.59-1.43-.59-.52 0-1.04.2-1.43.59L10.3 9.45l-7.72 7.72c-.78.78-.78 2.05 0 2.83L4 21.41c.39.39.9.59 1.41.59.51 0 1.02-.2 1.41-.59l7.78-7.78 2.81-2.81c.8-.78.8-2.07 0-2.86zM5.41 20L4 18.59l7.72-7.72 1.47 1.35L5.41 20z\"/>\n",
              "  </svg>\n",
              "      </button>\n",
              "      \n",
              "  <style>\n",
              "    .colab-df-container {\n",
              "      display:flex;\n",
              "      flex-wrap:wrap;\n",
              "      gap: 12px;\n",
              "    }\n",
              "\n",
              "    .colab-df-convert {\n",
              "      background-color: #E8F0FE;\n",
              "      border: none;\n",
              "      border-radius: 50%;\n",
              "      cursor: pointer;\n",
              "      display: none;\n",
              "      fill: #1967D2;\n",
              "      height: 32px;\n",
              "      padding: 0 0 0 0;\n",
              "      width: 32px;\n",
              "    }\n",
              "\n",
              "    .colab-df-convert:hover {\n",
              "      background-color: #E2EBFA;\n",
              "      box-shadow: 0px 1px 2px rgba(60, 64, 67, 0.3), 0px 1px 3px 1px rgba(60, 64, 67, 0.15);\n",
              "      fill: #174EA6;\n",
              "    }\n",
              "\n",
              "    [theme=dark] .colab-df-convert {\n",
              "      background-color: #3B4455;\n",
              "      fill: #D2E3FC;\n",
              "    }\n",
              "\n",
              "    [theme=dark] .colab-df-convert:hover {\n",
              "      background-color: #434B5C;\n",
              "      box-shadow: 0px 1px 3px 1px rgba(0, 0, 0, 0.15);\n",
              "      filter: drop-shadow(0px 1px 2px rgba(0, 0, 0, 0.3));\n",
              "      fill: #FFFFFF;\n",
              "    }\n",
              "  </style>\n",
              "\n",
              "      <script>\n",
              "        const buttonEl =\n",
              "          document.querySelector('#df-d629e9b4-97dd-4a8d-87f1-f5cd45fd865d button.colab-df-convert');\n",
              "        buttonEl.style.display =\n",
              "          google.colab.kernel.accessAllowed ? 'block' : 'none';\n",
              "\n",
              "        async function convertToInteractive(key) {\n",
              "          const element = document.querySelector('#df-d629e9b4-97dd-4a8d-87f1-f5cd45fd865d');\n",
              "          const dataTable =\n",
              "            await google.colab.kernel.invokeFunction('convertToInteractive',\n",
              "                                                     [key], {});\n",
              "          if (!dataTable) return;\n",
              "\n",
              "          const docLinkHtml = 'Like what you see? Visit the ' +\n",
              "            '<a target=\"_blank\" href=https://colab.research.google.com/notebooks/data_table.ipynb>data table notebook</a>'\n",
              "            + ' to learn more about interactive tables.';\n",
              "          element.innerHTML = '';\n",
              "          dataTable['output_type'] = 'display_data';\n",
              "          await google.colab.output.renderOutput(dataTable, element);\n",
              "          const docLink = document.createElement('div');\n",
              "          docLink.innerHTML = docLinkHtml;\n",
              "          element.appendChild(docLink);\n",
              "        }\n",
              "      </script>\n",
              "    </div>\n",
              "  </div>\n",
              "  "
            ]
          },
          "metadata": {},
          "execution_count": 19
        }
      ]
    },
    {
      "cell_type": "code",
      "source": [
        "from sklearn.model_selection import train_test_split\n",
        "x_train, x_val, y_train, y_val = train_test_split(df['sentences'].values.tolist(),df['label_encoded'].values.tolist(), test_size = 0.2, random_state=1)\n",
        "x_train, x_test, y_train, y_test = train_test_split(x_train,y_train, test_size = 0.25, random_state=1)"
      ],
      "metadata": {
        "id": "BDCf5KgTFM0a"
      },
      "execution_count": null,
      "outputs": []
    },
    {
      "cell_type": "code",
      "source": [
        "vocab_size = 2000\n",
        "embedding_dim = 16\n",
        "max_length = 120\n",
        "trunc_type='post'\n",
        "padding_type='post'\n",
        "oov_tok = \"<OOV>\"\n",
        "#training_portion = .8"
      ],
      "metadata": {
        "id": "cdK-LvKPFSF4"
      },
      "execution_count": null,
      "outputs": []
    },
    {
      "cell_type": "code",
      "source": [
        "import tensorflow as tf\n",
        "from tensorflow.keras.preprocessing.text import Tokenizer\n",
        "from tensorflow.keras.preprocessing.sequence import pad_sequences\n",
        "from tensorflow.keras import layers, models, optimizers\n",
        "from tensorflow.keras.layers import Dropout\n",
        "import matplotlib.pyplot as plt"
      ],
      "metadata": {
        "id": "Am4me0DeFT46"
      },
      "execution_count": null,
      "outputs": []
    },
    {
      "cell_type": "code",
      "source": [
        "tokenizer = Tokenizer(num_words = vocab_size, oov_token=oov_tok)\n",
        "tokenizer.fit_on_texts(x_train)\n",
        "word_index = tokenizer.word_index\n",
        "\n",
        "train_sequences = tokenizer.texts_to_sequences(x_train)\n",
        "train_padded = pad_sequences(train_sequences, padding=padding_type, maxlen=max_length)\n",
        "\n",
        "validation_sequences = tokenizer.texts_to_sequences(x_val)\n",
        "validation_padded = pad_sequences(validation_sequences, padding=padding_type, maxlen=max_length)\n",
        "\n",
        "test_sequences = tokenizer.texts_to_sequences(x_test)\n",
        "test_padded = pad_sequences(validation_sequences, padding=padding_type, maxlen=max_length)"
      ],
      "metadata": {
        "id": "33yD5JeBFVZb"
      },
      "execution_count": null,
      "outputs": []
    },
    {
      "cell_type": "code",
      "source": [
        "print(train_padded)"
      ],
      "metadata": {
        "colab": {
          "base_uri": "https://localhost:8080/"
        },
        "id": "yWXNpweLRNGF",
        "outputId": "f0295113-0589-4824-f959-4377d91c8708"
      },
      "execution_count": null,
      "outputs": [
        {
          "output_type": "stream",
          "name": "stdout",
          "text": [
            "[[ 63   2  35 ...   0   0   0]\n",
            " [ 63   2  35 ...   0   0   0]\n",
            " [239 242  61 ...   0   0   0]\n",
            " ...\n",
            " [  6  39  24 ...   0   0   0]\n",
            " [  6  11  13 ...   0   0   0]\n",
            " [  6  11  35 ...   0   0   0]]\n"
          ]
        }
      ]
    },
    {
      "cell_type": "code",
      "source": [
        "print(validation_padded)"
      ],
      "metadata": {
        "colab": {
          "base_uri": "https://localhost:8080/"
        },
        "id": "fGNe4VMaRV0_",
        "outputId": "7affeae0-967c-4439-99fa-e9ed4a617208"
      },
      "execution_count": null,
      "outputs": [
        {
          "output_type": "stream",
          "name": "stdout",
          "text": [
            "[[ 76  11  53 ...   0   0   0]\n",
            " [ 73   2 201 ...   0   0   0]\n",
            " [ 76 136  90 ...   0   0   0]\n",
            " ...\n",
            " [ 18   4  15 ...   0   0   0]\n",
            " [  6  71   5 ...   0   0   0]\n",
            " [ 16   6   8 ...   0   0   0]]\n"
          ]
        }
      ]
    },
    {
      "cell_type": "code",
      "source": [
        "def create_model(vocab_size, embedding_dim, max_length):\n",
        "  model = models.Sequential([\n",
        "  layers.Embedding(vocab_size, embedding_dim, input_length=max_length),\n",
        "  layers.GlobalAveragePooling1D(),\n",
        "  layers.Dense(24, activation='relu'),\n",
        "  Dropout(0.1),\n",
        "  layers.Dense(50, activation='softmax')\n",
        "  ])\n",
        "\n",
        "  model.compile(loss=tf.keras.losses.SparseCategoricalCrossentropy(),\n",
        "                optimizer=optimizers.Adam(),\n",
        "                metrics=['accuracy'])\n",
        "  \n",
        "  return model"
      ],
      "metadata": {
        "id": "18RsFmcbFXmc"
      },
      "execution_count": null,
      "outputs": []
    },
    {
      "cell_type": "code",
      "source": [
        "model = create_model(vocab_size, embedding_dim, max_length)\n",
        "model.summary()"
      ],
      "metadata": {
        "colab": {
          "base_uri": "https://localhost:8080/"
        },
        "id": "cB950Nd3Fr_l",
        "outputId": "27fac980-318c-44de-b84d-c6e377e87040"
      },
      "execution_count": null,
      "outputs": [
        {
          "output_type": "stream",
          "name": "stdout",
          "text": [
            "Model: \"sequential\"\n",
            "_________________________________________________________________\n",
            " Layer (type)                Output Shape              Param #   \n",
            "=================================================================\n",
            " embedding (Embedding)       (None, 120, 16)           32000     \n",
            "                                                                 \n",
            " global_average_pooling1d (G  (None, 16)               0         \n",
            " lobalAveragePooling1D)                                          \n",
            "                                                                 \n",
            " dense (Dense)               (None, 24)                408       \n",
            "                                                                 \n",
            " dropout (Dropout)           (None, 24)                0         \n",
            "                                                                 \n",
            " dense_1 (Dense)             (None, 50)                1250      \n",
            "                                                                 \n",
            "=================================================================\n",
            "Total params: 33,658\n",
            "Trainable params: 33,658\n",
            "Non-trainable params: 0\n",
            "_________________________________________________________________\n"
          ]
        }
      ]
    },
    {
      "cell_type": "code",
      "source": [
        "train_labels = np.array(y_train)\n",
        "validation_labels = np.array(y_val)\n",
        "test_labels = np.array(y_test)\n",
        "train_labels = train_labels.reshape(len(train_labels), 1)\n",
        "validation_labels = validation_labels.reshape(len(validation_labels), 1)\n",
        "test_labels = validation_labels.reshape(len(test_labels), 1)"
      ],
      "metadata": {
        "id": "u1LI_aIBFsel"
      },
      "execution_count": null,
      "outputs": []
    },
    {
      "cell_type": "code",
      "source": [
        "num_epochs = 100\n",
        "history = model.fit(train_padded, train_labels, \n",
        "                    epochs=num_epochs, \n",
        "                    validation_data=(validation_padded, validation_labels))"
      ],
      "metadata": {
        "colab": {
          "base_uri": "https://localhost:8080/"
        },
        "id": "qL5NU6LdFwx_",
        "outputId": "b38e301d-ae79-4a3e-9081-c14f0dc09b17"
      },
      "execution_count": null,
      "outputs": [
        {
          "output_type": "stream",
          "name": "stdout",
          "text": [
            "Epoch 1/100\n",
            "111/111 [==============================] - 2s 5ms/step - loss: 3.8915 - accuracy: 0.0358 - val_loss: 3.8624 - val_accuracy: 0.0528\n",
            "Epoch 2/100\n",
            "111/111 [==============================] - 0s 4ms/step - loss: 3.8207 - accuracy: 0.0398 - val_loss: 3.7921 - val_accuracy: 0.0451\n",
            "Epoch 3/100\n",
            "111/111 [==============================] - 0s 4ms/step - loss: 3.7627 - accuracy: 0.0514 - val_loss: 3.7514 - val_accuracy: 0.0375\n",
            "Epoch 4/100\n",
            "111/111 [==============================] - 1s 7ms/step - loss: 3.7226 - accuracy: 0.0593 - val_loss: 3.7107 - val_accuracy: 0.0596\n",
            "Epoch 5/100\n",
            "111/111 [==============================] - 1s 10ms/step - loss: 3.6685 - accuracy: 0.0679 - val_loss: 3.6321 - val_accuracy: 0.0622\n",
            "Epoch 6/100\n",
            "111/111 [==============================] - 1s 10ms/step - loss: 3.5479 - accuracy: 0.0994 - val_loss: 3.4579 - val_accuracy: 0.0698\n",
            "Epoch 7/100\n",
            "111/111 [==============================] - 1s 10ms/step - loss: 3.3199 - accuracy: 0.1386 - val_loss: 3.1638 - val_accuracy: 0.1814\n",
            "Epoch 8/100\n",
            "111/111 [==============================] - 1s 8ms/step - loss: 3.0149 - accuracy: 0.2570 - val_loss: 2.8195 - val_accuracy: 0.3560\n",
            "Epoch 9/100\n",
            "111/111 [==============================] - 1s 8ms/step - loss: 2.6967 - accuracy: 0.3413 - val_loss: 2.4802 - val_accuracy: 0.4353\n",
            "Epoch 10/100\n",
            "111/111 [==============================] - 1s 10ms/step - loss: 2.3997 - accuracy: 0.4157 - val_loss: 2.1816 - val_accuracy: 0.5358\n",
            "Epoch 11/100\n",
            "111/111 [==============================] - 1s 13ms/step - loss: 2.1299 - accuracy: 0.5020 - val_loss: 1.9152 - val_accuracy: 0.6346\n",
            "Epoch 12/100\n",
            "111/111 [==============================] - 2s 17ms/step - loss: 1.9125 - accuracy: 0.5395 - val_loss: 1.6846 - val_accuracy: 0.7802\n",
            "Epoch 13/100\n",
            "111/111 [==============================] - 2s 16ms/step - loss: 1.7153 - accuracy: 0.6141 - val_loss: 1.4896 - val_accuracy: 0.8313\n",
            "Epoch 14/100\n",
            "111/111 [==============================] - 1s 12ms/step - loss: 1.5492 - accuracy: 0.6440 - val_loss: 1.3290 - val_accuracy: 0.8492\n",
            "Epoch 15/100\n",
            "111/111 [==============================] - 1s 11ms/step - loss: 1.4015 - accuracy: 0.6959 - val_loss: 1.1824 - val_accuracy: 0.8612\n",
            "Epoch 16/100\n",
            "111/111 [==============================] - 1s 9ms/step - loss: 1.2714 - accuracy: 0.7328 - val_loss: 1.0650 - val_accuracy: 0.8790\n",
            "Epoch 17/100\n",
            "111/111 [==============================] - 1s 11ms/step - loss: 1.1643 - accuracy: 0.7405 - val_loss: 0.9663 - val_accuracy: 0.9123\n",
            "Epoch 18/100\n",
            "111/111 [==============================] - 1s 8ms/step - loss: 1.0901 - accuracy: 0.7592 - val_loss: 0.8744 - val_accuracy: 0.9250\n",
            "Epoch 19/100\n",
            "111/111 [==============================] - 1s 9ms/step - loss: 0.9904 - accuracy: 0.7834 - val_loss: 0.7932 - val_accuracy: 0.9293\n",
            "Epoch 20/100\n",
            "111/111 [==============================] - 1s 9ms/step - loss: 0.9371 - accuracy: 0.7976 - val_loss: 0.7285 - val_accuracy: 0.9284\n",
            "Epoch 21/100\n",
            "111/111 [==============================] - 1s 9ms/step - loss: 0.8567 - accuracy: 0.8163 - val_loss: 0.6681 - val_accuracy: 0.9293\n",
            "Epoch 22/100\n",
            "111/111 [==============================] - 1s 8ms/step - loss: 0.7948 - accuracy: 0.8328 - val_loss: 0.6143 - val_accuracy: 0.9336\n",
            "Epoch 23/100\n",
            "111/111 [==============================] - 1s 9ms/step - loss: 0.7422 - accuracy: 0.8444 - val_loss: 0.5637 - val_accuracy: 0.9353\n",
            "Epoch 24/100\n",
            "111/111 [==============================] - 1s 12ms/step - loss: 0.6934 - accuracy: 0.8543 - val_loss: 0.5242 - val_accuracy: 0.9353\n",
            "Epoch 25/100\n",
            "111/111 [==============================] - 2s 17ms/step - loss: 0.6340 - accuracy: 0.8694 - val_loss: 0.4816 - val_accuracy: 0.9387\n",
            "Epoch 26/100\n",
            "111/111 [==============================] - 2s 18ms/step - loss: 0.6144 - accuracy: 0.8691 - val_loss: 0.4457 - val_accuracy: 0.9395\n",
            "Epoch 27/100\n",
            "111/111 [==============================] - 1s 10ms/step - loss: 0.5706 - accuracy: 0.8790 - val_loss: 0.4166 - val_accuracy: 0.9404\n",
            "Epoch 28/100\n",
            "111/111 [==============================] - 1s 11ms/step - loss: 0.5389 - accuracy: 0.8873 - val_loss: 0.3874 - val_accuracy: 0.9438\n",
            "Epoch 29/100\n",
            "111/111 [==============================] - 1s 10ms/step - loss: 0.5083 - accuracy: 0.8944 - val_loss: 0.3632 - val_accuracy: 0.9455\n",
            "Epoch 30/100\n",
            "111/111 [==============================] - 1s 11ms/step - loss: 0.4833 - accuracy: 0.9001 - val_loss: 0.3370 - val_accuracy: 0.9489\n",
            "Epoch 31/100\n",
            "111/111 [==============================] - 1s 9ms/step - loss: 0.4569 - accuracy: 0.9072 - val_loss: 0.3160 - val_accuracy: 0.9480\n",
            "Epoch 32/100\n",
            "111/111 [==============================] - 1s 10ms/step - loss: 0.4234 - accuracy: 0.9117 - val_loss: 0.2961 - val_accuracy: 0.9514\n",
            "Epoch 33/100\n",
            "111/111 [==============================] - 1s 12ms/step - loss: 0.3986 - accuracy: 0.9177 - val_loss: 0.2815 - val_accuracy: 0.9506\n",
            "Epoch 34/100\n",
            "111/111 [==============================] - 1s 11ms/step - loss: 0.3927 - accuracy: 0.9162 - val_loss: 0.2643 - val_accuracy: 0.9557\n",
            "Epoch 35/100\n",
            "111/111 [==============================] - 1s 7ms/step - loss: 0.3545 - accuracy: 0.9233 - val_loss: 0.2465 - val_accuracy: 0.9549\n",
            "Epoch 36/100\n",
            "111/111 [==============================] - 1s 8ms/step - loss: 0.3441 - accuracy: 0.9267 - val_loss: 0.2326 - val_accuracy: 0.9625\n",
            "Epoch 37/100\n",
            "111/111 [==============================] - 1s 6ms/step - loss: 0.3149 - accuracy: 0.9367 - val_loss: 0.2216 - val_accuracy: 0.9608\n",
            "Epoch 38/100\n",
            "111/111 [==============================] - 1s 6ms/step - loss: 0.3180 - accuracy: 0.9290 - val_loss: 0.2119 - val_accuracy: 0.9540\n",
            "Epoch 39/100\n",
            "111/111 [==============================] - 1s 7ms/step - loss: 0.2969 - accuracy: 0.9387 - val_loss: 0.2008 - val_accuracy: 0.9625\n",
            "Epoch 40/100\n",
            "111/111 [==============================] - 1s 7ms/step - loss: 0.2747 - accuracy: 0.9466 - val_loss: 0.1903 - val_accuracy: 0.9617\n",
            "Epoch 41/100\n",
            "111/111 [==============================] - 1s 7ms/step - loss: 0.2658 - accuracy: 0.9443 - val_loss: 0.1795 - val_accuracy: 0.9659\n",
            "Epoch 42/100\n",
            "111/111 [==============================] - 1s 5ms/step - loss: 0.2553 - accuracy: 0.9452 - val_loss: 0.1704 - val_accuracy: 0.9668\n",
            "Epoch 43/100\n",
            "111/111 [==============================] - 0s 4ms/step - loss: 0.2384 - accuracy: 0.9483 - val_loss: 0.1639 - val_accuracy: 0.9676\n",
            "Epoch 44/100\n",
            "111/111 [==============================] - 0s 4ms/step - loss: 0.2283 - accuracy: 0.9534 - val_loss: 0.1570 - val_accuracy: 0.9659\n",
            "Epoch 45/100\n",
            "111/111 [==============================] - 1s 5ms/step - loss: 0.2199 - accuracy: 0.9583 - val_loss: 0.1492 - val_accuracy: 0.9685\n",
            "Epoch 46/100\n",
            "111/111 [==============================] - 1s 5ms/step - loss: 0.2106 - accuracy: 0.9514 - val_loss: 0.1433 - val_accuracy: 0.9702\n",
            "Epoch 47/100\n",
            "111/111 [==============================] - 1s 5ms/step - loss: 0.1960 - accuracy: 0.9574 - val_loss: 0.1367 - val_accuracy: 0.9710\n",
            "Epoch 48/100\n",
            "111/111 [==============================] - 1s 5ms/step - loss: 0.1979 - accuracy: 0.9577 - val_loss: 0.1300 - val_accuracy: 0.9693\n",
            "Epoch 49/100\n",
            "111/111 [==============================] - 1s 5ms/step - loss: 0.1778 - accuracy: 0.9642 - val_loss: 0.1261 - val_accuracy: 0.9710\n",
            "Epoch 50/100\n",
            "111/111 [==============================] - 0s 4ms/step - loss: 0.1769 - accuracy: 0.9642 - val_loss: 0.1207 - val_accuracy: 0.9761\n",
            "Epoch 51/100\n",
            "111/111 [==============================] - 1s 5ms/step - loss: 0.1695 - accuracy: 0.9668 - val_loss: 0.1143 - val_accuracy: 0.9753\n",
            "Epoch 52/100\n",
            "111/111 [==============================] - 0s 4ms/step - loss: 0.1572 - accuracy: 0.9685 - val_loss: 0.1103 - val_accuracy: 0.9770\n",
            "Epoch 53/100\n",
            "111/111 [==============================] - 1s 5ms/step - loss: 0.1648 - accuracy: 0.9645 - val_loss: 0.1045 - val_accuracy: 0.9779\n",
            "Epoch 54/100\n",
            "111/111 [==============================] - 0s 4ms/step - loss: 0.1543 - accuracy: 0.9676 - val_loss: 0.1016 - val_accuracy: 0.9779\n",
            "Epoch 55/100\n",
            "111/111 [==============================] - 1s 5ms/step - loss: 0.1433 - accuracy: 0.9710 - val_loss: 0.0988 - val_accuracy: 0.9770\n",
            "Epoch 56/100\n",
            "111/111 [==============================] - 1s 5ms/step - loss: 0.1382 - accuracy: 0.9699 - val_loss: 0.0928 - val_accuracy: 0.9796\n",
            "Epoch 57/100\n",
            "111/111 [==============================] - 1s 5ms/step - loss: 0.1360 - accuracy: 0.9702 - val_loss: 0.0921 - val_accuracy: 0.9787\n",
            "Epoch 58/100\n",
            "111/111 [==============================] - 1s 5ms/step - loss: 0.1303 - accuracy: 0.9716 - val_loss: 0.0874 - val_accuracy: 0.9804\n",
            "Epoch 59/100\n",
            "111/111 [==============================] - 1s 5ms/step - loss: 0.1220 - accuracy: 0.9733 - val_loss: 0.0844 - val_accuracy: 0.9787\n",
            "Epoch 60/100\n",
            "111/111 [==============================] - 1s 8ms/step - loss: 0.1169 - accuracy: 0.9781 - val_loss: 0.0808 - val_accuracy: 0.9804\n",
            "Epoch 61/100\n",
            "111/111 [==============================] - 1s 8ms/step - loss: 0.1137 - accuracy: 0.9801 - val_loss: 0.0790 - val_accuracy: 0.9796\n",
            "Epoch 62/100\n",
            "111/111 [==============================] - 1s 7ms/step - loss: 0.1174 - accuracy: 0.9725 - val_loss: 0.0784 - val_accuracy: 0.9838\n",
            "Epoch 63/100\n",
            "111/111 [==============================] - 1s 7ms/step - loss: 0.1116 - accuracy: 0.9742 - val_loss: 0.0741 - val_accuracy: 0.9830\n",
            "Epoch 64/100\n",
            "111/111 [==============================] - 1s 7ms/step - loss: 0.1004 - accuracy: 0.9810 - val_loss: 0.0702 - val_accuracy: 0.9813\n",
            "Epoch 65/100\n",
            "111/111 [==============================] - 1s 6ms/step - loss: 0.0999 - accuracy: 0.9815 - val_loss: 0.0688 - val_accuracy: 0.9830\n",
            "Epoch 66/100\n",
            "111/111 [==============================] - 1s 4ms/step - loss: 0.0911 - accuracy: 0.9818 - val_loss: 0.0687 - val_accuracy: 0.9847\n",
            "Epoch 67/100\n",
            "111/111 [==============================] - 0s 4ms/step - loss: 0.0969 - accuracy: 0.9781 - val_loss: 0.0654 - val_accuracy: 0.9847\n",
            "Epoch 68/100\n",
            "111/111 [==============================] - 0s 4ms/step - loss: 0.0929 - accuracy: 0.9770 - val_loss: 0.0636 - val_accuracy: 0.9855\n",
            "Epoch 69/100\n",
            "111/111 [==============================] - 0s 4ms/step - loss: 0.0904 - accuracy: 0.9796 - val_loss: 0.0613 - val_accuracy: 0.9855\n",
            "Epoch 70/100\n",
            "111/111 [==============================] - 1s 5ms/step - loss: 0.0878 - accuracy: 0.9830 - val_loss: 0.0611 - val_accuracy: 0.9838\n",
            "Epoch 71/100\n",
            "111/111 [==============================] - 1s 5ms/step - loss: 0.0836 - accuracy: 0.9807 - val_loss: 0.0563 - val_accuracy: 0.9872\n",
            "Epoch 72/100\n",
            "111/111 [==============================] - 0s 4ms/step - loss: 0.0803 - accuracy: 0.9850 - val_loss: 0.0568 - val_accuracy: 0.9864\n",
            "Epoch 73/100\n",
            "111/111 [==============================] - 1s 5ms/step - loss: 0.0781 - accuracy: 0.9850 - val_loss: 0.0574 - val_accuracy: 0.9864\n",
            "Epoch 74/100\n",
            "111/111 [==============================] - 0s 4ms/step - loss: 0.0735 - accuracy: 0.9872 - val_loss: 0.0511 - val_accuracy: 0.9864\n",
            "Epoch 75/100\n",
            "111/111 [==============================] - 0s 4ms/step - loss: 0.0668 - accuracy: 0.9886 - val_loss: 0.0528 - val_accuracy: 0.9847\n",
            "Epoch 76/100\n",
            "111/111 [==============================] - 0s 4ms/step - loss: 0.0670 - accuracy: 0.9886 - val_loss: 0.0507 - val_accuracy: 0.9855\n",
            "Epoch 77/100\n",
            "111/111 [==============================] - 0s 4ms/step - loss: 0.0698 - accuracy: 0.9864 - val_loss: 0.0503 - val_accuracy: 0.9864\n",
            "Epoch 78/100\n",
            "111/111 [==============================] - 1s 5ms/step - loss: 0.0674 - accuracy: 0.9858 - val_loss: 0.0515 - val_accuracy: 0.9855\n",
            "Epoch 79/100\n",
            "111/111 [==============================] - 1s 5ms/step - loss: 0.0664 - accuracy: 0.9847 - val_loss: 0.0463 - val_accuracy: 0.9889\n",
            "Epoch 80/100\n",
            "111/111 [==============================] - 1s 5ms/step - loss: 0.0640 - accuracy: 0.9855 - val_loss: 0.0462 - val_accuracy: 0.9864\n",
            "Epoch 81/100\n",
            "111/111 [==============================] - 1s 5ms/step - loss: 0.0625 - accuracy: 0.9867 - val_loss: 0.0480 - val_accuracy: 0.9881\n",
            "Epoch 82/100\n",
            "111/111 [==============================] - 0s 4ms/step - loss: 0.0605 - accuracy: 0.9867 - val_loss: 0.0442 - val_accuracy: 0.9864\n",
            "Epoch 83/100\n",
            "111/111 [==============================] - 1s 5ms/step - loss: 0.0536 - accuracy: 0.9898 - val_loss: 0.0438 - val_accuracy: 0.9889\n",
            "Epoch 84/100\n",
            "111/111 [==============================] - 0s 4ms/step - loss: 0.0568 - accuracy: 0.9884 - val_loss: 0.0437 - val_accuracy: 0.9889\n",
            "Epoch 85/100\n",
            "111/111 [==============================] - 1s 7ms/step - loss: 0.0535 - accuracy: 0.9909 - val_loss: 0.0434 - val_accuracy: 0.9889\n",
            "Epoch 86/100\n",
            "111/111 [==============================] - 1s 7ms/step - loss: 0.0525 - accuracy: 0.9884 - val_loss: 0.0408 - val_accuracy: 0.9881\n",
            "Epoch 87/100\n",
            "111/111 [==============================] - 1s 8ms/step - loss: 0.0511 - accuracy: 0.9884 - val_loss: 0.0398 - val_accuracy: 0.9889\n",
            "Epoch 88/100\n",
            "111/111 [==============================] - 1s 7ms/step - loss: 0.0451 - accuracy: 0.9929 - val_loss: 0.0388 - val_accuracy: 0.9906\n",
            "Epoch 89/100\n",
            "111/111 [==============================] - 1s 6ms/step - loss: 0.0499 - accuracy: 0.9909 - val_loss: 0.0395 - val_accuracy: 0.9889\n",
            "Epoch 90/100\n",
            "111/111 [==============================] - 1s 6ms/step - loss: 0.0434 - accuracy: 0.9915 - val_loss: 0.0373 - val_accuracy: 0.9889\n",
            "Epoch 91/100\n",
            "111/111 [==============================] - 1s 5ms/step - loss: 0.0475 - accuracy: 0.9898 - val_loss: 0.0363 - val_accuracy: 0.9915\n",
            "Epoch 92/100\n",
            "111/111 [==============================] - 1s 5ms/step - loss: 0.0410 - accuracy: 0.9923 - val_loss: 0.0378 - val_accuracy: 0.9906\n",
            "Epoch 93/100\n",
            "111/111 [==============================] - 0s 4ms/step - loss: 0.0404 - accuracy: 0.9923 - val_loss: 0.0363 - val_accuracy: 0.9898\n",
            "Epoch 94/100\n",
            "111/111 [==============================] - 0s 4ms/step - loss: 0.0377 - accuracy: 0.9929 - val_loss: 0.0358 - val_accuracy: 0.9889\n",
            "Epoch 95/100\n",
            "111/111 [==============================] - 1s 5ms/step - loss: 0.0387 - accuracy: 0.9920 - val_loss: 0.0360 - val_accuracy: 0.9915\n",
            "Epoch 96/100\n",
            "111/111 [==============================] - 0s 4ms/step - loss: 0.0405 - accuracy: 0.9918 - val_loss: 0.0383 - val_accuracy: 0.9898\n",
            "Epoch 97/100\n",
            "111/111 [==============================] - 0s 4ms/step - loss: 0.0413 - accuracy: 0.9906 - val_loss: 0.0358 - val_accuracy: 0.9898\n",
            "Epoch 98/100\n",
            "111/111 [==============================] - 0s 4ms/step - loss: 0.0405 - accuracy: 0.9920 - val_loss: 0.0353 - val_accuracy: 0.9872\n",
            "Epoch 99/100\n",
            "111/111 [==============================] - 0s 4ms/step - loss: 0.0396 - accuracy: 0.9915 - val_loss: 0.0345 - val_accuracy: 0.9906\n",
            "Epoch 100/100\n",
            "111/111 [==============================] - 0s 4ms/step - loss: 0.0386 - accuracy: 0.9920 - val_loss: 0.0337 - val_accuracy: 0.9906\n"
          ]
        }
      ]
    },
    {
      "cell_type": "code",
      "source": [
        "def plot_graphs(history, string):\n",
        "  plt.plot(history.history[string])\n",
        "  plt.plot(history.history['val_'+string])\n",
        "  plt.xlabel(\"Epochs\")\n",
        "  plt.ylabel(string)\n",
        "  plt.legend([string, 'val_'+string])\n",
        "  plt.show()\n",
        "  \n",
        "plot_graphs(history, \"accuracy\")\n",
        "plot_graphs(history, \"loss\")"
      ],
      "metadata": {
        "colab": {
          "base_uri": "https://localhost:8080/",
          "height": 881
        },
        "id": "q6jaOvCVGKVg",
        "outputId": "06bcacc6-0ff5-45e7-d22e-7ec976229dee"
      },
      "execution_count": null,
      "outputs": [
        {
          "output_type": "display_data",
          "data": {
            "text/plain": [
              "<Figure size 640x480 with 1 Axes>"
            ],
            "image/png": "[encoded data removed]"
          },
          "metadata": {}
        },
        {
          "output_type": "display_data",
          "data": {
            "text/plain": [
              "<Figure size 640x480 with 1 Axes>"
            ],
            "image/png": "[encoded data removed]"
          },
          "metadata": {}
        }
      ]
    },
    {
      "cell_type": "code",
      "source": [
        "from sklearn.metrics import classification_report\n",
        "pred = model.predict(test_padded, batch_size=32, verbose=1)\n",
        "predicted = np.argmax(pred, axis=1)\n",
        "report = classification_report(test_labels, predicted)\n",
        "print(report)"
      ],
      "metadata": {
        "colab": {
          "base_uri": "https://localhost:8080/"
        },
        "id": "XsCzH9rtGF1i",
        "outputId": "9cfa5ca7-4746-4ef6-d9c1-9c6f05060edf"
      },
      "execution_count": null,
      "outputs": [
        {
          "output_type": "stream",
          "name": "stdout",
          "text": [
            "37/37 [==============================] - 0s 2ms/step\n",
            "              precision    recall  f1-score   support\n",
            "\n",
            "           0       1.00      1.00      1.00        24\n",
            "           1       0.94      1.00      0.97        17\n",
            "           2       1.00      1.00      1.00        35\n",
            "           3       1.00      1.00      1.00        20\n",
            "           4       0.96      1.00      0.98        26\n",
            "           5       1.00      1.00      1.00        34\n",
            "           6       1.00      0.97      0.99        34\n",
            "           7       1.00      0.97      0.99        34\n",
            "           8       0.95      0.97      0.96        36\n",
            "           9       1.00      1.00      1.00        20\n",
            "          10       1.00      0.97      0.98        32\n",
            "          11       0.97      0.97      0.97        34\n",
            "          12       1.00      1.00      1.00        20\n",
            "          13       1.00      1.00      1.00         6\n",
            "          14       1.00      1.00      1.00        29\n",
            "          15       1.00      1.00      1.00        22\n",
            "          16       0.94      1.00      0.97        30\n",
            "          17       1.00      1.00      1.00        21\n",
            "          18       1.00      1.00      1.00        19\n",
            "          19       1.00      1.00      1.00        28\n",
            "          20       1.00      1.00      1.00        28\n",
            "          21       1.00      1.00      1.00        28\n",
            "          22       1.00      1.00      1.00        28\n",
            "          23       1.00      1.00      1.00        27\n",
            "          24       0.83      1.00      0.91        10\n",
            "          25       1.00      1.00      1.00        25\n",
            "          26       1.00      1.00      1.00        20\n",
            "          27       1.00      1.00      1.00        14\n",
            "          28       1.00      1.00      1.00        30\n",
            "          29       1.00      0.86      0.92        21\n",
            "          30       1.00      1.00      1.00        39\n",
            "          31       0.96      1.00      0.98        25\n",
            "          32       1.00      1.00      1.00        38\n",
            "          33       1.00      1.00      1.00        24\n",
            "          34       1.00      1.00      1.00        28\n",
            "          35       1.00      1.00      1.00        20\n",
            "          36       1.00      1.00      1.00        33\n",
            "          37       1.00      1.00      1.00        37\n",
            "          38       1.00      1.00      1.00        28\n",
            "          39       1.00      0.95      0.97        37\n",
            "          40       1.00      1.00      1.00        33\n",
            "          41       0.89      1.00      0.94         8\n",
            "          42       1.00      1.00      1.00        28\n",
            "          46       1.00      0.92      0.96        12\n",
            "          47       1.00      1.00      1.00        32\n",
            "\n",
            "    accuracy                           0.99      1174\n",
            "   macro avg       0.99      0.99      0.99      1174\n",
            "weighted avg       0.99      0.99      0.99      1174\n",
            "\n"
          ]
        }
      ]
    },
    {
      "cell_type": "code",
      "source": [
        "test1 = [\"I have an itchy rash with red bumps resembling fluid-filled blisters that has spread all over my body. Along with the rash, I may have a fever, headache, sore throat, and reduced appetite.\"]"
      ],
      "metadata": {
        "id": "uBWFuTWoXYm6"
      },
      "execution_count": null,
      "outputs": []
    },
    {
      "cell_type": "code",
      "source": [
        "testing = []\n",
        "for i in test1:\n",
        "  testing.append(sen(keywords(i)))"
      ],
      "metadata": {
        "id": "hEIf4t7YXZKl"
      },
      "execution_count": null,
      "outputs": []
    },
    {
      "cell_type": "code",
      "source": [
        "testing"
      ],
      "metadata": {
        "colab": {
          "base_uri": "https://localhost:8080/"
        },
        "id": "K1tat8dWIrLK",
        "outputId": "19837a3f-d822-4fb7-ddbd-da4969384569"
      },
      "execution_count": null,
      "outputs": [
        {
          "output_type": "execute_result",
          "data": {
            "text/plain": [
              "['red bumps resembling fluid sore throat reduced appetite filled blisters itchy rash rash spread may headache fever body along']"
            ]
          },
          "metadata": {},
          "execution_count": 83
        }
      ]
    },
    {
      "cell_type": "code",
      "source": [
        "test_sequences = tokenizer.texts_to_sequences(testing)\n",
        "test_padded = pad_sequences(test_sequences, padding=padding_type, maxlen=max_length)"
      ],
      "metadata": {
        "id": "FK5h8LusXcQy"
      },
      "execution_count": null,
      "outputs": []
    },
    {
      "cell_type": "code",
      "source": [
        "prediction = model.predict_on_batch(\n",
        "    test_padded\n",
        ")"
      ],
      "metadata": {
        "id": "ARp8cbqlXeUv"
      },
      "execution_count": null,
      "outputs": []
    },
    {
      "cell_type": "code",
      "source": [
        "print(prediction)"
      ],
      "metadata": {
        "id": "IAjUPRT9TTM6",
        "outputId": "35c86374-8601-4e93-fe8d-df97ab79a09b",
        "colab": {
          "base_uri": "https://localhost:8080/"
        }
      },
      "execution_count": null,
      "outputs": [
        {
          "output_type": "stream",
          "name": "stdout",
          "text": [
            "[[8.76520592e-19 6.33336138e-04 1.22723611e-06 4.68215408e-16\n",
            "  1.29625907e-10 1.63538391e-10 3.03213201e-05 9.30697096e-21\n",
            "  5.67852876e-05 9.10393519e-14 4.85556690e-12 1.45627146e-08\n",
            "  3.25926542e-26 5.43617716e-14 1.10088066e-25 1.39916319e-05\n",
            "  3.52682546e-02 1.75675477e-17 7.94349617e-08 5.95885226e-08\n",
            "  6.72411639e-31 5.49763929e-16 4.36348281e-23 2.73027363e-24\n",
            "  1.09028189e-10 1.20720568e-24 1.06437898e-19 1.38058360e-30\n",
            "  4.07515698e-34 9.62362528e-01 1.65348213e-09 2.16620247e-05\n",
            "  5.98119780e-14 2.75220629e-13 7.52684807e-12 3.78084972e-15\n",
            "  1.99125694e-09 1.02227705e-03 6.63836231e-21 2.16043176e-07\n",
            "  5.73949684e-16 5.89109026e-04 1.11347674e-07 4.70830358e-16\n",
            "  2.37645972e-16 3.35734664e-16 9.61499547e-10 1.73790889e-20\n",
            "  1.41897788e-17 3.11348294e-16]]\n"
          ]
        }
      ]
    },
    {
      "cell_type": "code",
      "source": [
        "for i in prediction:\n",
        "  unsure=False\n",
        "  print(np.max(i))\n",
        "  if np.max(i)<0.55:\n",
        "    unsure=True\n",
        "    print(\"Can't be diagnosed\")\n",
        "  else:\n",
        "    top_3 = np.argsort(i)[-1:][::-1]\n",
        "    print(label_encoder.inverse_transform(top_3))\n",
        "    print(top_3)"
      ],
      "metadata": {
        "colab": {
          "base_uri": "https://localhost:8080/"
        },
        "id": "jgM16uWRXfv9",
        "outputId": "d5de3dc3-52af-4c61-9a13-4040e5079133"
      },
      "execution_count": null,
      "outputs": [
        {
          "output_type": "stream",
          "name": "stdout",
          "text": [
            "0.7412946\n",
            "['Chicken pox']\n",
            "[8]\n"
          ]
        }
      ]
    },
    {
      "cell_type": "code",
      "source": [
        "!pip install tensorflowjs"
      ],
      "metadata": {
        "id": "poR-3aUAcvg5",
        "colab": {
          "base_uri": "https://localhost:8080/",
          "height": 1000
        },
        "outputId": "4e9979c0-2863-4e53-8381-b7621e39d00d"
      },
      "execution_count": 87,
      "outputs": [
        {
          "output_type": "stream",
          "name": "stdout",
          "text": [
            "Looking in indexes: https://pypi.org/simple, https://us-python.pkg.dev/colab-wheels/public/simple/\n",
            "Collecting tensorflowjs\n",
            "  Downloading tensorflowjs-4.6.0-py3-none-any.whl (85 kB)\n",
            "\u001b[2K     \u001b[90m━━━━━━━━━━━━━━━━━━━━━━━━━━━━━━━━━━━━━━━━\u001b[0m \u001b[32m85.1/85.1 kB\u001b[0m \u001b[31m3.5 MB/s\u001b[0m eta \u001b[36m0:00:00\u001b[0m\n",
            "\u001b[?25hCollecting flax<0.6.3,>=0.6.2 (from tensorflowjs)\n",
            "  Downloading flax-0.6.2-py3-none-any.whl (189 kB)\n",
            "\u001b[2K     \u001b[90m━━━━━━━━━━━━━━━━━━━━━━━━━━━━━━━━━━━━━━\u001b[0m \u001b[32m189.9/189.9 kB\u001b[0m \u001b[31m14.5 MB/s\u001b[0m eta \u001b[36m0:00:00\u001b[0m\n",
            "\u001b[?25hRequirement already satisfied: importlib_resources>=5.9.0 in /usr/local/lib/python3.10/dist-packages (from tensorflowjs) (5.12.0)\n",
            "Requirement already satisfied: jax>=0.3.16 in /usr/local/lib/python3.10/dist-packages (from tensorflowjs) (0.4.10)\n",
            "Requirement already satisfied: tensorflow<3,>=2.12.0 in /usr/local/lib/python3.10/dist-packages (from tensorflowjs) (2.12.0)\n",
            "Collecting tensorflow-decision-forests>=1.3.0 (from tensorflowjs)\n",
            "  Downloading tensorflow_decision_forests-1.3.0-cp310-cp310-manylinux_2_17_x86_64.manylinux2014_x86_64.whl (16.4 MB)\n",
            "\u001b[2K     \u001b[90m━━━━━━━━━━━━━━━━━━━━━━━━━━━━━━━━━━━━━━━━\u001b[0m \u001b[32m16.4/16.4 MB\u001b[0m \u001b[31m13.9 MB/s\u001b[0m eta \u001b[36m0:00:00\u001b[0m\n",
            "\u001b[?25hRequirement already satisfied: six<2,>=1.12.0 in /usr/local/lib/python3.10/dist-packages (from tensorflowjs) (1.16.0)\n",
            "Requirement already satisfied: tensorflow-hub>=0.13.0 in /usr/local/lib/python3.10/dist-packages (from tensorflowjs) (0.13.0)\n",
            "Collecting packaging~=20.9 (from tensorflowjs)\n",
            "  Downloading packaging-20.9-py2.py3-none-any.whl (40 kB)\n",
            "\u001b[2K     \u001b[90m━━━━━━━━━━━━━━━━━━━━━━━━━━━━━━━━━━━━━━━━\u001b[0m \u001b[32m40.9/40.9 kB\u001b[0m \u001b[31m4.0 MB/s\u001b[0m eta \u001b[36m0:00:00\u001b[0m\n",
            "\u001b[?25hRequirement already satisfied: numpy>=1.12 in /usr/local/lib/python3.10/dist-packages (from flax<0.6.3,>=0.6.2->tensorflowjs) (1.22.4)\n",
            "Requirement already satisfied: matplotlib in /usr/local/lib/python3.10/dist-packages (from flax<0.6.3,>=0.6.2->tensorflowjs) (3.7.1)\n",
            "Requirement already satisfied: msgpack in /usr/local/lib/python3.10/dist-packages (from flax<0.6.3,>=0.6.2->tensorflowjs) (1.0.5)\n",
            "Requirement already satisfied: optax in /usr/local/lib/python3.10/dist-packages (from flax<0.6.3,>=0.6.2->tensorflowjs) (0.1.5)\n",
            "Requirement already satisfied: tensorstore in /usr/local/lib/python3.10/dist-packages (from flax<0.6.3,>=0.6.2->tensorflowjs) (0.1.36)\n",
            "Requirement already satisfied: rich>=11.1 in /usr/local/lib/python3.10/dist-packages (from flax<0.6.3,>=0.6.2->tensorflowjs) (13.3.4)\n",
            "Requirement already satisfied: typing-extensions>=4.1.1 in /usr/local/lib/python3.10/dist-packages (from flax<0.6.3,>=0.6.2->tensorflowjs) (4.5.0)\n",
            "Requirement already satisfied: PyYAML>=5.4.1 in /usr/local/lib/python3.10/dist-packages (from flax<0.6.3,>=0.6.2->tensorflowjs) (6.0)\n",
            "Requirement already satisfied: ml-dtypes>=0.1.0 in /usr/local/lib/python3.10/dist-packages (from jax>=0.3.16->tensorflowjs) (0.1.0)\n",
            "Requirement already satisfied: opt-einsum in /usr/local/lib/python3.10/dist-packages (from jax>=0.3.16->tensorflowjs) (3.3.0)\n",
            "Requirement already satisfied: scipy>=1.7 in /usr/local/lib/python3.10/dist-packages (from jax>=0.3.16->tensorflowjs) (1.10.1)\n",
            "Requirement already satisfied: pyparsing>=2.0.2 in /usr/local/lib/python3.10/dist-packages (from packaging~=20.9->tensorflowjs) (3.0.9)\n",
            "Requirement already satisfied: absl-py>=1.0.0 in /usr/local/lib/python3.10/dist-packages (from tensorflow<3,>=2.12.0->tensorflowjs) (1.4.0)\n",
            "Requirement already satisfied: astunparse>=1.6.0 in /usr/local/lib/python3.10/dist-packages (from tensorflow<3,>=2.12.0->tensorflowjs) (1.6.3)\n",
            "Requirement already satisfied: flatbuffers>=2.0 in /usr/local/lib/python3.10/dist-packages (from tensorflow<3,>=2.12.0->tensorflowjs) (23.3.3)\n",
            "Requirement already satisfied: gast<=0.4.0,>=0.2.1 in /usr/local/lib/python3.10/dist-packages (from tensorflow<3,>=2.12.0->tensorflowjs) (0.4.0)\n",
            "Requirement already satisfied: google-pasta>=0.1.1 in /usr/local/lib/python3.10/dist-packages (from tensorflow<3,>=2.12.0->tensorflowjs) (0.2.0)\n",
            "Requirement already satisfied: grpcio<2.0,>=1.24.3 in /usr/local/lib/python3.10/dist-packages (from tensorflow<3,>=2.12.0->tensorflowjs) (1.54.0)\n",
            "Requirement already satisfied: h5py>=2.9.0 in /usr/local/lib/python3.10/dist-packages (from tensorflow<3,>=2.12.0->tensorflowjs) (3.8.0)\n",
            "Requirement already satisfied: keras<2.13,>=2.12.0 in /usr/local/lib/python3.10/dist-packages (from tensorflow<3,>=2.12.0->tensorflowjs) (2.12.0)\n",
            "Requirement already satisfied: libclang>=13.0.0 in /usr/local/lib/python3.10/dist-packages (from tensorflow<3,>=2.12.0->tensorflowjs) (16.0.0)\n",
            "Requirement already satisfied: protobuf!=4.21.0,!=4.21.1,!=4.21.2,!=4.21.3,!=4.21.4,!=4.21.5,<5.0.0dev,>=3.20.3 in /usr/local/lib/python3.10/dist-packages (from tensorflow<3,>=2.12.0->tensorflowjs) (3.20.3)\n",
            "Requirement already satisfied: setuptools in /usr/local/lib/python3.10/dist-packages (from tensorflow<3,>=2.12.0->tensorflowjs) (67.7.2)\n",
            "Requirement already satisfied: tensorboard<2.13,>=2.12 in /usr/local/lib/python3.10/dist-packages (from tensorflow<3,>=2.12.0->tensorflowjs) (2.12.2)\n",
            "Requirement already satisfied: tensorflow-estimator<2.13,>=2.12.0 in /usr/local/lib/python3.10/dist-packages (from tensorflow<3,>=2.12.0->tensorflowjs) (2.12.0)\n",
            "Requirement already satisfied: termcolor>=1.1.0 in /usr/local/lib/python3.10/dist-packages (from tensorflow<3,>=2.12.0->tensorflowjs) (2.3.0)\n",
            "Requirement already satisfied: wrapt<1.15,>=1.11.0 in /usr/local/lib/python3.10/dist-packages (from tensorflow<3,>=2.12.0->tensorflowjs) (1.14.1)\n",
            "Requirement already satisfied: tensorflow-io-gcs-filesystem>=0.23.1 in /usr/local/lib/python3.10/dist-packages (from tensorflow<3,>=2.12.0->tensorflowjs) (0.32.0)\n",
            "Requirement already satisfied: pandas in /usr/local/lib/python3.10/dist-packages (from tensorflow-decision-forests>=1.3.0->tensorflowjs) (1.5.3)\n",
            "Requirement already satisfied: wheel in /usr/local/lib/python3.10/dist-packages (from tensorflow-decision-forests>=1.3.0->tensorflowjs) (0.40.0)\n",
            "Collecting wurlitzer (from tensorflow-decision-forests>=1.3.0->tensorflowjs)\n",
            "  Downloading wurlitzer-3.0.3-py3-none-any.whl (7.3 kB)\n",
            "Requirement already satisfied: markdown-it-py<3.0.0,>=2.2.0 in /usr/local/lib/python3.10/dist-packages (from rich>=11.1->flax<0.6.3,>=0.6.2->tensorflowjs) (2.2.0)\n",
            "Requirement already satisfied: pygments<3.0.0,>=2.13.0 in /usr/local/lib/python3.10/dist-packages (from rich>=11.1->flax<0.6.3,>=0.6.2->tensorflowjs) (2.14.0)\n",
            "Requirement already satisfied: google-auth<3,>=1.6.3 in /usr/local/lib/python3.10/dist-packages (from tensorboard<2.13,>=2.12->tensorflow<3,>=2.12.0->tensorflowjs) (2.17.3)\n",
            "Requirement already satisfied: google-auth-oauthlib<1.1,>=0.5 in /usr/local/lib/python3.10/dist-packages (from tensorboard<2.13,>=2.12->tensorflow<3,>=2.12.0->tensorflowjs) (1.0.0)\n",
            "Requirement already satisfied: markdown>=2.6.8 in /usr/local/lib/python3.10/dist-packages (from tensorboard<2.13,>=2.12->tensorflow<3,>=2.12.0->tensorflowjs) (3.4.3)\n",
            "Requirement already satisfied: requests<3,>=2.21.0 in /usr/local/lib/python3.10/dist-packages (from tensorboard<2.13,>=2.12->tensorflow<3,>=2.12.0->tensorflowjs) (2.27.1)\n",
            "Requirement already satisfied: tensorboard-data-server<0.8.0,>=0.7.0 in /usr/local/lib/python3.10/dist-packages (from tensorboard<2.13,>=2.12->tensorflow<3,>=2.12.0->tensorflowjs) (0.7.0)\n",
            "Requirement already satisfied: tensorboard-plugin-wit>=1.6.0 in /usr/local/lib/python3.10/dist-packages (from tensorboard<2.13,>=2.12->tensorflow<3,>=2.12.0->tensorflowjs) (1.8.1)\n",
            "Requirement already satisfied: werkzeug>=1.0.1 in /usr/local/lib/python3.10/dist-packages (from tensorboard<2.13,>=2.12->tensorflow<3,>=2.12.0->tensorflowjs) (2.3.0)\n",
            "Requirement already satisfied: contourpy>=1.0.1 in /usr/local/lib/python3.10/dist-packages (from matplotlib->flax<0.6.3,>=0.6.2->tensorflowjs) (1.0.7)\n",
            "Requirement already satisfied: cycler>=0.10 in /usr/local/lib/python3.10/dist-packages (from matplotlib->flax<0.6.3,>=0.6.2->tensorflowjs) (0.11.0)\n",
            "Requirement already satisfied: fonttools>=4.22.0 in /usr/local/lib/python3.10/dist-packages (from matplotlib->flax<0.6.3,>=0.6.2->tensorflowjs) (4.39.3)\n",
            "Requirement already satisfied: kiwisolver>=1.0.1 in /usr/local/lib/python3.10/dist-packages (from matplotlib->flax<0.6.3,>=0.6.2->tensorflowjs) (1.4.4)\n",
            "Requirement already satisfied: pillow>=6.2.0 in /usr/local/lib/python3.10/dist-packages (from matplotlib->flax<0.6.3,>=0.6.2->tensorflowjs) (8.4.0)\n",
            "Requirement already satisfied: python-dateutil>=2.7 in /usr/local/lib/python3.10/dist-packages (from matplotlib->flax<0.6.3,>=0.6.2->tensorflowjs) (2.8.2)\n",
            "Requirement already satisfied: chex>=0.1.5 in /usr/local/lib/python3.10/dist-packages (from optax->flax<0.6.3,>=0.6.2->tensorflowjs) (0.1.7)\n",
            "Requirement already satisfied: jaxlib>=0.1.37 in /usr/local/lib/python3.10/dist-packages (from optax->flax<0.6.3,>=0.6.2->tensorflowjs) (0.4.10+cuda11.cudnn86)\n",
            "Requirement already satisfied: pytz>=2020.1 in /usr/local/lib/python3.10/dist-packages (from pandas->tensorflow-decision-forests>=1.3.0->tensorflowjs) (2022.7.1)\n",
            "Requirement already satisfied: dm-tree>=0.1.5 in /usr/local/lib/python3.10/dist-packages (from chex>=0.1.5->optax->flax<0.6.3,>=0.6.2->tensorflowjs) (0.1.8)\n",
            "Requirement already satisfied: toolz>=0.9.0 in /usr/local/lib/python3.10/dist-packages (from chex>=0.1.5->optax->flax<0.6.3,>=0.6.2->tensorflowjs) (0.12.0)\n",
            "Requirement already satisfied: cachetools<6.0,>=2.0.0 in /usr/local/lib/python3.10/dist-packages (from google-auth<3,>=1.6.3->tensorboard<2.13,>=2.12->tensorflow<3,>=2.12.0->tensorflowjs) (5.3.0)\n",
            "Requirement already satisfied: pyasn1-modules>=0.2.1 in /usr/local/lib/python3.10/dist-packages (from google-auth<3,>=1.6.3->tensorboard<2.13,>=2.12->tensorflow<3,>=2.12.0->tensorflowjs) (0.3.0)\n",
            "Requirement already satisfied: rsa<5,>=3.1.4 in /usr/local/lib/python3.10/dist-packages (from google-auth<3,>=1.6.3->tensorboard<2.13,>=2.12->tensorflow<3,>=2.12.0->tensorflowjs) (4.9)\n",
            "Requirement already satisfied: requests-oauthlib>=0.7.0 in /usr/local/lib/python3.10/dist-packages (from google-auth-oauthlib<1.1,>=0.5->tensorboard<2.13,>=2.12->tensorflow<3,>=2.12.0->tensorflowjs) (1.3.1)\n",
            "Requirement already satisfied: mdurl~=0.1 in /usr/local/lib/python3.10/dist-packages (from markdown-it-py<3.0.0,>=2.2.0->rich>=11.1->flax<0.6.3,>=0.6.2->tensorflowjs) (0.1.2)\n",
            "Requirement already satisfied: urllib3<1.27,>=1.21.1 in /usr/local/lib/python3.10/dist-packages (from requests<3,>=2.21.0->tensorboard<2.13,>=2.12->tensorflow<3,>=2.12.0->tensorflowjs) (1.26.15)\n",
            "Requirement already satisfied: certifi>=2017.4.17 in /usr/local/lib/python3.10/dist-packages (from requests<3,>=2.21.0->tensorboard<2.13,>=2.12->tensorflow<3,>=2.12.0->tensorflowjs) (2022.12.7)\n",
            "Requirement already satisfied: charset-normalizer~=2.0.0 in /usr/local/lib/python3.10/dist-packages (from requests<3,>=2.21.0->tensorboard<2.13,>=2.12->tensorflow<3,>=2.12.0->tensorflowjs) (2.0.12)\n",
            "Requirement already satisfied: idna<4,>=2.5 in /usr/local/lib/python3.10/dist-packages (from requests<3,>=2.21.0->tensorboard<2.13,>=2.12->tensorflow<3,>=2.12.0->tensorflowjs) (3.4)\n",
            "Requirement already satisfied: MarkupSafe>=2.1.1 in /usr/local/lib/python3.10/dist-packages (from werkzeug>=1.0.1->tensorboard<2.13,>=2.12->tensorflow<3,>=2.12.0->tensorflowjs) (2.1.2)\n",
            "Requirement already satisfied: pyasn1<0.6.0,>=0.4.6 in /usr/local/lib/python3.10/dist-packages (from pyasn1-modules>=0.2.1->google-auth<3,>=1.6.3->tensorboard<2.13,>=2.12->tensorflow<3,>=2.12.0->tensorflowjs) (0.5.0)\n",
            "Requirement already satisfied: oauthlib>=3.0.0 in /usr/local/lib/python3.10/dist-packages (from requests-oauthlib>=0.7.0->google-auth-oauthlib<1.1,>=0.5->tensorboard<2.13,>=2.12->tensorflow<3,>=2.12.0->tensorflowjs) (3.2.2)\n",
            "Installing collected packages: wurlitzer, packaging, flax, tensorflow-decision-forests, tensorflowjs\n",
            "  Attempting uninstall: packaging\n",
            "    Found existing installation: packaging 23.1\n",
            "    Uninstalling packaging-23.1:\n",
            "      Successfully uninstalled packaging-23.1\n",
            "  Attempting uninstall: flax\n",
            "    Found existing installation: flax 0.6.9\n",
            "    Uninstalling flax-0.6.9:\n",
            "      Successfully uninstalled flax-0.6.9\n",
            "\u001b[31mERROR: pip's dependency resolver does not currently take into account all the packages that are installed. This behaviour is the source of the following dependency conflicts.\n",
            "statsmodels 0.13.5 requires packaging>=21.3, but you have packaging 20.9 which is incompatible.\n",
            "xarray 2022.12.0 requires packaging>=21.3, but you have packaging 20.9 which is incompatible.\u001b[0m\u001b[31m\n",
            "\u001b[0mSuccessfully installed flax-0.6.2 packaging-20.9 tensorflow-decision-forests-1.3.0 tensorflowjs-4.6.0 wurlitzer-3.0.3\n"
          ]
        },
        {
          "output_type": "display_data",
          "data": {
            "application/vnd.colab-display-data+json": {
              "pip_warning": {
                "packages": [
                  "packaging"
                ]
              }
            }
          },
          "metadata": {}
        }
      ]
    },
    {
      "cell_type": "code",
      "source": [
        "import tensorflowjs as tfjs\n",
        "filepath = \"/content/drive/MyDrive/capstone/ml code (celia iseng)/Eksperimen~~/model experimen 4/model.h5\"\n",
        "model.save(filepath, save_format='h5')\n",
        "tfjs.converters.save_keras_model(model, \"/content/drive/MyDrive/capstone/ml code (celia iseng)/Eksperimen~~/model experimen 4/\")"
      ],
      "metadata": {
        "id": "3c8V4j05YoLQ"
      },
      "execution_count": 89,
      "outputs": []
    },
    {
      "cell_type": "code",
      "source": [
        "word_index = tokenizer.word_index\n",
        "index_to_word = {index: word for word, index in word_index.items()}\n",
        "dict_input = pd.DataFrame.from_dict(index_to_word, orient='index', columns=['Word'])\n",
        "csv_filename = '/content/drive/MyDrive/capstone/ml code (celia iseng)/Eksperimen~~/model experimen 4/dict_input.csv'\n",
        "dict_input.to_csv(csv_filename)\n",
        "label_mapping = {label: encoded_label for label, encoded_label in zip(df['Diseases'].tolist(),df['label_encoded'].tolist())}\n",
        "dict_output = pd.DataFrame.from_dict(label_mapping, orient='index', columns=['EncodedLabel'])\n",
        "dict_output.index.name = 'OriginalLabel'\n",
        "csv_filename = '/content/drive/MyDrive/capstone/ml code (celia iseng)/Eksperimen~~/model experimen 4/dict_output.csv'\n",
        "dict_output.to_csv(csv_filename)"
      ],
      "metadata": {
        "id": "UAG2TGIsc19f"
      },
      "execution_count": 90,
      "outputs": []
    }
  ]
}