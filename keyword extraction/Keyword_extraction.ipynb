{
  "cells": [
    {
      "cell_type": "code",
      "execution_count": null,
      "metadata": {
        "colab": {
          "base_uri": "https://localhost:8080/"
        },
        "id": "HzmjNVT0Nq0h",
        "outputId": "063b1650-4858-41f3-dead-70a3b3db0421"
      },
      "outputs": [
        {
          "name": "stderr",
          "output_type": "stream",
          "text": [
            "[nltk_data] Downloading package stopwords to /root/nltk_data...\n",
            "[nltk_data]   Package stopwords is already up-to-date!\n",
            "[nltk_data] Downloading package punkt to /root/nltk_data...\n",
            "[nltk_data]   Package punkt is already up-to-date!\n"
          ]
        },
        {
          "data": {
            "text/plain": [
              "True"
            ]
          },
          "execution_count": 1,
          "metadata": {},
          "output_type": "execute_result"
        }
      ],
      "source": [
        "  import nltk\n",
        "  from rake_nltk import Rake\n",
        "  nltk.download('stopwords')\n",
        "  nltk.download('punkt')"
      ]
    },
    {
      "cell_type": "code",
      "execution_count": null,
      "metadata": {
        "id": "Qa5dLJgEO2Sv"
      },
      "outputs": [],
      "source": [
        "def keywords(text):\n",
        "  key_arr = []\n",
        "  r = Rake()\n",
        "  r.extract_keywords_from_text(text)\n",
        "  for rating, keyword in r.get_ranked_phrases_with_scores():\n",
        "    key_arr.append(keyword)\n",
        "  return key_arr"
      ]
    },
    {
      "cell_type": "code",
      "execution_count": null,
      "metadata": {
        "id": "7wAPsLRoQD3x"
      },
      "outputs": [],
      "source": [
        "def sen(arr):\n",
        "  s = \" \".join([str(item) for item in arr])\n",
        "  return s"
      ]
    },
    {
      "cell_type": "code",
      "execution_count": null,
      "metadata": {
        "colab": {
          "base_uri": "https://localhost:8080/",
          "height": 35
        },
        "id": "uhyPFFouQRVq",
        "outputId": "023a81cb-c47e-44c9-bed3-4f1804f0cc73"
      },
      "outputs": [
        {
          "data": {
            "application/vnd.google.colaboratory.intrinsic+json": {
              "type": "string"
            },
            "text/plain": [
              "'eyes pain back hurts back worried time rashes neck making lot health fever arms also'"
            ]
          },
          "execution_count": 4,
          "metadata": {},
          "output_type": "execute_result"
        }
      ],
      "source": [
        "sen(keywords(\"My back hurts all the time, and my arms and neck have rashes. The back of eyes pain a lot. I also have fever and it is making we worried about my health.\"))"
      ]
    },
    {
      "attachments": {},
      "cell_type": "markdown",
      "metadata": {
        "id": "SvX6cLXTRSRK"
      },
      "source": [
        "Gabungin sama materi week 2"
      ]
    },
    {
      "cell_type": "code",
      "execution_count": null,
      "metadata": {
        "id": "ODbm6CU5RVhI"
      },
      "outputs": [],
      "source": [
        "import csv\n",
        "import tensorflow as tf\n",
        "import numpy as np\n",
        "from tensorflow.keras.preprocessing.text import Tokenizer\n",
        "from tensorflow.keras.preprocessing.sequence import pad_sequences\n",
        "from tensorflow.keras import layers, models, optimizers\n",
        "import matplotlib.pyplot as plt"
      ]
    },
    {
      "cell_type": "code",
      "execution_count": null,
      "metadata": {
        "id": "P3xP3g-sRZ9K"
      },
      "outputs": [],
      "source": [
        "import pandas as pd\n",
        "path = \"Symptom2Disease (describe).csv\"\n",
        "df = pd.read_csv(path)"
      ]
    },
    {
      "cell_type": "code",
      "execution_count": null,
      "metadata": {
        "id": "r4GBBx7vRcED"
      },
      "outputs": [],
      "source": [
        "from sklearn.preprocessing import LabelEncoder\n",
        "label_encoder = LabelEncoder()\n",
        "def label_encode(labels):\n",
        "    label_encoder.fit(labels)\n",
        "    label_sequences = label_encoder.transform(labels)\n",
        "    return label_sequences\n",
        "\n",
        "df['label_encoded'] = label_encode(df['label'])"
      ]
    },
    {
      "cell_type": "code",
      "execution_count": null,
      "metadata": {
        "id": "kAFR74j2RfvT"
      },
      "outputs": [],
      "source": [
        "labels = df['label_encoded'].values.tolist()"
      ]
    },
    {
      "cell_type": "code",
      "execution_count": null,
      "metadata": {
        "id": "Cjcf6OiDSra1"
      },
      "outputs": [],
      "source": [
        "sentences = []\n",
        "for i in df['text'].values.tolist():\n",
        "  sentences.append(sen(keywords(i)))"
      ]
    },
    {
      "cell_type": "code",
      "execution_count": null,
      "metadata": {
        "colab": {
          "base_uri": "https://localhost:8080/"
        },
        "id": "a-7SrCuLTWWQ",
        "outputId": "770c8511-1642-49f6-b76c-ce121b704b8f"
      },
      "outputs": [
        {
          "name": "stdout",
          "output_type": "stream",
          "text": [
            "<class 'list'>\n",
            "<class 'list'>\n"
          ]
        }
      ],
      "source": [
        "print(type(sentences))\n",
        "print(type(labels))"
      ]
    },
    {
      "cell_type": "code",
      "execution_count": null,
      "metadata": {
        "id": "tMIbs9sbTt0J"
      },
      "outputs": [],
      "source": [
        "from sklearn.model_selection import train_test_split\n",
        "train_sentences,validation_sentences,train_labels,validation_labels = train_test_split(sentences,labels, test_size = 0.2, random_state=1)"
      ]
    },
    {
      "cell_type": "code",
      "execution_count": null,
      "metadata": {
        "id": "inMsTzU9Tv5k"
      },
      "outputs": [],
      "source": [
        "vocab_size = 1000\n",
        "embedding_dim = 16\n",
        "max_length = 120\n",
        "trunc_type='post'\n",
        "padding_type='post'\n",
        "oov_tok = \"<OOV>\"\n",
        "training_portion = .8"
      ]
    },
    {
      "cell_type": "code",
      "execution_count": null,
      "metadata": {
        "colab": {
          "base_uri": "https://localhost:8080/"
        },
        "id": "mPPvfYiRTzZj",
        "outputId": "822e2276-792f-4129-d699-9637416c96ce"
      },
      "outputs": [
        {
          "name": "stdout",
          "output_type": "stream",
          "text": [
            "<class 'numpy.ndarray'>\n",
            "<class 'numpy.ndarray'>\n",
            "[[  8 345 218 ...   0   0   0]\n",
            " [  8 142  13 ...   0   0   0]\n",
            " [232 138 128 ...   0   0   0]\n",
            " ...\n",
            " [129   1 418 ...   0   0   0]\n",
            " [ 21  23  77 ...   0   0   0]\n",
            " [393 844 230 ...   0   0   0]]\n"
          ]
        }
      ],
      "source": [
        "tokenizer = Tokenizer(num_words = vocab_size, oov_token=oov_tok)\n",
        "tokenizer.fit_on_texts(train_sentences)\n",
        "word_index = tokenizer.word_index\n",
        "\n",
        "train_sequences = tokenizer.texts_to_sequences(train_sentences)\n",
        "train_padded = pad_sequences(train_sequences, padding=padding_type, maxlen=max_length)\n",
        "\n",
        "validation_sequences = tokenizer.texts_to_sequences(validation_sentences)\n",
        "validation_padded = pad_sequences(validation_sequences, padding=padding_type, maxlen=max_length)\n",
        "\n",
        "print(type(train_padded))\n",
        "print(type(validation_padded))\n",
        "print(validation_padded)"
      ]
    },
    {
      "cell_type": "code",
      "execution_count": null,
      "metadata": {
        "id": "WMnF5HyOT12W"
      },
      "outputs": [],
      "source": [
        "def create_model(vocab_size, embedding_dim, max_length):\n",
        "  model = models.Sequential([\n",
        "  layers.Embedding(vocab_size, embedding_dim, input_length=max_length),\n",
        "  layers.GlobalAveragePooling1D(),\n",
        "  layers.Dense(24, activation='relu'),\n",
        "  layers.Dense(24, activation='softmax')\n",
        "  ])\n",
        "\n",
        "  model.compile(loss=tf.keras.losses.SparseCategoricalCrossentropy(),\n",
        "                optimizer=optimizers.Adam(),\n",
        "                metrics=['accuracy'])\n",
        "  \n",
        "  return model"
      ]
    },
    {
      "cell_type": "code",
      "execution_count": null,
      "metadata": {
        "colab": {
          "base_uri": "https://localhost:8080/"
        },
        "id": "MKKD3ahCT4DD",
        "outputId": "8149443a-e373-4951-96b8-73623eadf78e"
      },
      "outputs": [
        {
          "name": "stdout",
          "output_type": "stream",
          "text": [
            "Model: \"sequential\"\n",
            "_________________________________________________________________\n",
            " Layer (type)                Output Shape              Param #   \n",
            "=================================================================\n",
            " embedding (Embedding)       (None, 120, 16)           16000     \n",
            "                                                                 \n",
            " global_average_pooling1d (G  (None, 16)               0         \n",
            " lobalAveragePooling1D)                                          \n",
            "                                                                 \n",
            " dense (Dense)               (None, 24)                408       \n",
            "                                                                 \n",
            " dense_1 (Dense)             (None, 24)                600       \n",
            "                                                                 \n",
            "=================================================================\n",
            "Total params: 17,008\n",
            "Trainable params: 17,008\n",
            "Non-trainable params: 0\n",
            "_________________________________________________________________\n"
          ]
        }
      ],
      "source": [
        "model = create_model(vocab_size, embedding_dim, max_length)\n",
        "model.summary()"
      ]
    },
    {
      "cell_type": "code",
      "execution_count": null,
      "metadata": {
        "colab": {
          "base_uri": "https://localhost:8080/"
        },
        "id": "G892P-CCT6QC",
        "outputId": "6afb7dc5-3dbd-44c2-f797-bf7b66a3ec8c"
      },
      "outputs": [
        {
          "name": "stdout",
          "output_type": "stream",
          "text": [
            "<class 'numpy.ndarray'>\n",
            "<class 'list'>\n",
            "<class 'numpy.ndarray'>\n",
            "<class 'list'>\n"
          ]
        }
      ],
      "source": [
        "print(type(train_padded))\n",
        "print(type(train_labels))\n",
        "print(type(validation_padded))\n",
        "print(type(validation_labels))"
      ]
    },
    {
      "cell_type": "code",
      "execution_count": null,
      "metadata": {
        "id": "DsWy7CHJT8e5"
      },
      "outputs": [],
      "source": [
        "train_labels = np.array(train_labels)\n",
        "validation_labels = np.array(validation_labels)"
      ]
    },
    {
      "cell_type": "code",
      "execution_count": null,
      "metadata": {
        "colab": {
          "base_uri": "https://localhost:8080/"
        },
        "id": "M8-C0fOmT987",
        "outputId": "3118a0f5-f559-4ce3-d0cf-f6c5b02947bd"
      },
      "outputs": [
        {
          "name": "stdout",
          "output_type": "stream",
          "text": [
            "<class 'numpy.ndarray'>\n",
            "<class 'numpy.ndarray'>\n",
            "<class 'numpy.ndarray'>\n",
            "<class 'numpy.ndarray'>\n"
          ]
        }
      ],
      "source": [
        "print(type(train_padded))\n",
        "print(type(train_labels))\n",
        "print(type(validation_padded))\n",
        "print(type(validation_labels))"
      ]
    },
    {
      "cell_type": "code",
      "execution_count": null,
      "metadata": {
        "id": "KXzD5daJUAik"
      },
      "outputs": [],
      "source": [
        "train_labels = train_labels.reshape(len(train_labels), 1)\n",
        "validation_labels = validation_labels.reshape(len(validation_labels), 1)"
      ]
    },
    {
      "cell_type": "code",
      "execution_count": null,
      "metadata": {
        "colab": {
          "base_uri": "https://localhost:8080/"
        },
        "id": "tfNtDKsIUCzv",
        "outputId": "c31343f2-4a93-4cc7-9974-0f137bbcc85b"
      },
      "outputs": [
        {
          "name": "stdout",
          "output_type": "stream",
          "text": [
            "Epoch 1/100\n",
            "30/30 [==============================] - 2s 25ms/step - loss: 3.1779 - accuracy: 0.0417 - val_loss: 3.1783 - val_accuracy: 0.0167\n",
            "Epoch 2/100\n",
            "30/30 [==============================] - 0s 9ms/step - loss: 3.1752 - accuracy: 0.0479 - val_loss: 3.1773 - val_accuracy: 0.0167\n",
            "Epoch 3/100\n",
            "30/30 [==============================] - 0s 7ms/step - loss: 3.1721 - accuracy: 0.0479 - val_loss: 3.1746 - val_accuracy: 0.0167\n",
            "Epoch 4/100\n",
            "30/30 [==============================] - 0s 6ms/step - loss: 3.1679 - accuracy: 0.0479 - val_loss: 3.1717 - val_accuracy: 0.0167\n",
            "Epoch 5/100\n",
            "30/30 [==============================] - 0s 7ms/step - loss: 3.1628 - accuracy: 0.0479 - val_loss: 3.1673 - val_accuracy: 0.0167\n",
            "Epoch 6/100\n",
            "30/30 [==============================] - 0s 11ms/step - loss: 3.1541 - accuracy: 0.0656 - val_loss: 3.1592 - val_accuracy: 0.0833\n",
            "Epoch 7/100\n",
            "30/30 [==============================] - 0s 13ms/step - loss: 3.1426 - accuracy: 0.1302 - val_loss: 3.1488 - val_accuracy: 0.0667\n",
            "Epoch 8/100\n",
            "30/30 [==============================] - 0s 8ms/step - loss: 3.1256 - accuracy: 0.1479 - val_loss: 3.1326 - val_accuracy: 0.1333\n",
            "Epoch 9/100\n",
            "30/30 [==============================] - 0s 7ms/step - loss: 3.1019 - accuracy: 0.1708 - val_loss: 3.1094 - val_accuracy: 0.1792\n",
            "Epoch 10/100\n",
            "30/30 [==============================] - 0s 6ms/step - loss: 3.0698 - accuracy: 0.2073 - val_loss: 3.0796 - val_accuracy: 0.1750\n",
            "Epoch 11/100\n",
            "30/30 [==============================] - 0s 10ms/step - loss: 3.0286 - accuracy: 0.2250 - val_loss: 3.0412 - val_accuracy: 0.1500\n",
            "Epoch 12/100\n",
            "30/30 [==============================] - 0s 9ms/step - loss: 2.9771 - accuracy: 0.1948 - val_loss: 2.9930 - val_accuracy: 0.1542\n",
            "Epoch 13/100\n",
            "30/30 [==============================] - 0s 9ms/step - loss: 2.9150 - accuracy: 0.2458 - val_loss: 2.9362 - val_accuracy: 0.1833\n",
            "Epoch 14/100\n",
            "30/30 [==============================] - 0s 6ms/step - loss: 2.8454 - accuracy: 0.2500 - val_loss: 2.8740 - val_accuracy: 0.1833\n",
            "Epoch 15/100\n",
            "30/30 [==============================] - 0s 10ms/step - loss: 2.7695 - accuracy: 0.2729 - val_loss: 2.8035 - val_accuracy: 0.2125\n",
            "Epoch 16/100\n",
            "30/30 [==============================] - 0s 10ms/step - loss: 2.6912 - accuracy: 0.2958 - val_loss: 2.7323 - val_accuracy: 0.2333\n",
            "Epoch 17/100\n",
            "30/30 [==============================] - 0s 9ms/step - loss: 2.6096 - accuracy: 0.3115 - val_loss: 2.6560 - val_accuracy: 0.2333\n",
            "Epoch 18/100\n",
            "30/30 [==============================] - 0s 13ms/step - loss: 2.5264 - accuracy: 0.3438 - val_loss: 2.5824 - val_accuracy: 0.2958\n",
            "Epoch 19/100\n",
            "30/30 [==============================] - 0s 14ms/step - loss: 2.4429 - accuracy: 0.3708 - val_loss: 2.5069 - val_accuracy: 0.3167\n",
            "Epoch 20/100\n",
            "30/30 [==============================] - 0s 14ms/step - loss: 2.3609 - accuracy: 0.3990 - val_loss: 2.4308 - val_accuracy: 0.3333\n",
            "Epoch 21/100\n",
            "30/30 [==============================] - 0s 14ms/step - loss: 2.2805 - accuracy: 0.3979 - val_loss: 2.3614 - val_accuracy: 0.3375\n",
            "Epoch 22/100\n",
            "30/30 [==============================] - 0s 16ms/step - loss: 2.2018 - accuracy: 0.4354 - val_loss: 2.2886 - val_accuracy: 0.3667\n",
            "Epoch 23/100\n",
            "30/30 [==============================] - 1s 17ms/step - loss: 2.1288 - accuracy: 0.4521 - val_loss: 2.2219 - val_accuracy: 0.3792\n",
            "Epoch 24/100\n",
            "30/30 [==============================] - 1s 20ms/step - loss: 2.0523 - accuracy: 0.4719 - val_loss: 2.1528 - val_accuracy: 0.4208\n",
            "Epoch 25/100\n",
            "30/30 [==============================] - 0s 16ms/step - loss: 1.9847 - accuracy: 0.4896 - val_loss: 2.0878 - val_accuracy: 0.4667\n",
            "Epoch 26/100\n",
            "30/30 [==============================] - 0s 16ms/step - loss: 1.9201 - accuracy: 0.5708 - val_loss: 2.0298 - val_accuracy: 0.5125\n",
            "Epoch 27/100\n",
            "30/30 [==============================] - 0s 13ms/step - loss: 1.8579 - accuracy: 0.5729 - val_loss: 1.9722 - val_accuracy: 0.5292\n",
            "Epoch 28/100\n",
            "30/30 [==============================] - 0s 9ms/step - loss: 1.8023 - accuracy: 0.6135 - val_loss: 1.9214 - val_accuracy: 0.5875\n",
            "Epoch 29/100\n",
            "30/30 [==============================] - 0s 9ms/step - loss: 1.7466 - accuracy: 0.6458 - val_loss: 1.8655 - val_accuracy: 0.6375\n",
            "Epoch 30/100\n",
            "30/30 [==============================] - 0s 9ms/step - loss: 1.6949 - accuracy: 0.6812 - val_loss: 1.8154 - val_accuracy: 0.6750\n",
            "Epoch 31/100\n",
            "30/30 [==============================] - 0s 7ms/step - loss: 1.6453 - accuracy: 0.7302 - val_loss: 1.7692 - val_accuracy: 0.6833\n",
            "Epoch 32/100\n",
            "30/30 [==============================] - 0s 8ms/step - loss: 1.5990 - accuracy: 0.7479 - val_loss: 1.7250 - val_accuracy: 0.6583\n",
            "Epoch 33/100\n",
            "30/30 [==============================] - 0s 9ms/step - loss: 1.5545 - accuracy: 0.7458 - val_loss: 1.6805 - val_accuracy: 0.7125\n",
            "Epoch 34/100\n",
            "30/30 [==============================] - 0s 9ms/step - loss: 1.5114 - accuracy: 0.7740 - val_loss: 1.6396 - val_accuracy: 0.7250\n",
            "Epoch 35/100\n",
            "30/30 [==============================] - 0s 7ms/step - loss: 1.4686 - accuracy: 0.7875 - val_loss: 1.5967 - val_accuracy: 0.7375\n",
            "Epoch 36/100\n",
            "30/30 [==============================] - 0s 10ms/step - loss: 1.4300 - accuracy: 0.7948 - val_loss: 1.5605 - val_accuracy: 0.7542\n",
            "Epoch 37/100\n",
            "30/30 [==============================] - 0s 13ms/step - loss: 1.3912 - accuracy: 0.8188 - val_loss: 1.5220 - val_accuracy: 0.7458\n",
            "Epoch 38/100\n",
            "30/30 [==============================] - 0s 10ms/step - loss: 1.3554 - accuracy: 0.7948 - val_loss: 1.4882 - val_accuracy: 0.7458\n",
            "Epoch 39/100\n",
            "30/30 [==============================] - 0s 9ms/step - loss: 1.3156 - accuracy: 0.8385 - val_loss: 1.4525 - val_accuracy: 0.7542\n",
            "Epoch 40/100\n",
            "30/30 [==============================] - 0s 8ms/step - loss: 1.2809 - accuracy: 0.8333 - val_loss: 1.4158 - val_accuracy: 0.7583\n",
            "Epoch 41/100\n",
            "30/30 [==============================] - 0s 9ms/step - loss: 1.2485 - accuracy: 0.8417 - val_loss: 1.3847 - val_accuracy: 0.7708\n",
            "Epoch 42/100\n",
            "30/30 [==============================] - 0s 10ms/step - loss: 1.2127 - accuracy: 0.8385 - val_loss: 1.3528 - val_accuracy: 0.7708\n",
            "Epoch 43/100\n",
            "30/30 [==============================] - 0s 8ms/step - loss: 1.1822 - accuracy: 0.8479 - val_loss: 1.3213 - val_accuracy: 0.8042\n",
            "Epoch 44/100\n",
            "30/30 [==============================] - 0s 8ms/step - loss: 1.1481 - accuracy: 0.8542 - val_loss: 1.2919 - val_accuracy: 0.7792\n",
            "Epoch 45/100\n",
            "30/30 [==============================] - 1s 17ms/step - loss: 1.1146 - accuracy: 0.8833 - val_loss: 1.2556 - val_accuracy: 0.8083\n",
            "Epoch 46/100\n",
            "30/30 [==============================] - 0s 15ms/step - loss: 1.0844 - accuracy: 0.8750 - val_loss: 1.2249 - val_accuracy: 0.8083\n",
            "Epoch 47/100\n",
            "30/30 [==============================] - 0s 6ms/step - loss: 1.0529 - accuracy: 0.8833 - val_loss: 1.2001 - val_accuracy: 0.8125\n",
            "Epoch 48/100\n",
            "30/30 [==============================] - 0s 8ms/step - loss: 1.0242 - accuracy: 0.8865 - val_loss: 1.1725 - val_accuracy: 0.8000\n",
            "Epoch 49/100\n",
            "30/30 [==============================] - 0s 14ms/step - loss: 0.9965 - accuracy: 0.8896 - val_loss: 1.1443 - val_accuracy: 0.7958\n",
            "Epoch 50/100\n",
            "30/30 [==============================] - 0s 10ms/step - loss: 0.9656 - accuracy: 0.8938 - val_loss: 1.1154 - val_accuracy: 0.8292\n",
            "Epoch 51/100\n",
            "30/30 [==============================] - 0s 11ms/step - loss: 0.9392 - accuracy: 0.9052 - val_loss: 1.0886 - val_accuracy: 0.8208\n",
            "Epoch 52/100\n",
            "30/30 [==============================] - 0s 13ms/step - loss: 0.9104 - accuracy: 0.9115 - val_loss: 1.0642 - val_accuracy: 0.8250\n",
            "Epoch 53/100\n",
            "30/30 [==============================] - 0s 4ms/step - loss: 0.8843 - accuracy: 0.9104 - val_loss: 1.0399 - val_accuracy: 0.8250\n",
            "Epoch 54/100\n",
            "30/30 [==============================] - 0s 4ms/step - loss: 0.8598 - accuracy: 0.9115 - val_loss: 1.0144 - val_accuracy: 0.8375\n",
            "Epoch 55/100\n",
            "30/30 [==============================] - 0s 4ms/step - loss: 0.8349 - accuracy: 0.9177 - val_loss: 0.9960 - val_accuracy: 0.8375\n",
            "Epoch 56/100\n",
            "30/30 [==============================] - 0s 4ms/step - loss: 0.8091 - accuracy: 0.9156 - val_loss: 0.9718 - val_accuracy: 0.8333\n",
            "Epoch 57/100\n",
            "30/30 [==============================] - 0s 4ms/step - loss: 0.7887 - accuracy: 0.9198 - val_loss: 0.9536 - val_accuracy: 0.8292\n",
            "Epoch 58/100\n",
            "30/30 [==============================] - 0s 4ms/step - loss: 0.7642 - accuracy: 0.9187 - val_loss: 0.9320 - val_accuracy: 0.8417\n",
            "Epoch 59/100\n",
            "30/30 [==============================] - 0s 4ms/step - loss: 0.7425 - accuracy: 0.9271 - val_loss: 0.9096 - val_accuracy: 0.8375\n",
            "Epoch 60/100\n",
            "30/30 [==============================] - 0s 4ms/step - loss: 0.7179 - accuracy: 0.9354 - val_loss: 0.8905 - val_accuracy: 0.8375\n",
            "Epoch 61/100\n",
            "30/30 [==============================] - 0s 4ms/step - loss: 0.6975 - accuracy: 0.9323 - val_loss: 0.8735 - val_accuracy: 0.8333\n",
            "Epoch 62/100\n",
            "30/30 [==============================] - 0s 4ms/step - loss: 0.6766 - accuracy: 0.9333 - val_loss: 0.8575 - val_accuracy: 0.8417\n",
            "Epoch 63/100\n",
            "30/30 [==============================] - 0s 4ms/step - loss: 0.6564 - accuracy: 0.9427 - val_loss: 0.8349 - val_accuracy: 0.8542\n",
            "Epoch 64/100\n",
            "30/30 [==============================] - 0s 4ms/step - loss: 0.6352 - accuracy: 0.9365 - val_loss: 0.8190 - val_accuracy: 0.8500\n",
            "Epoch 65/100\n",
            "30/30 [==============================] - 0s 5ms/step - loss: 0.6157 - accuracy: 0.9396 - val_loss: 0.7993 - val_accuracy: 0.8417\n",
            "Epoch 66/100\n",
            "30/30 [==============================] - 0s 4ms/step - loss: 0.5964 - accuracy: 0.9458 - val_loss: 0.7886 - val_accuracy: 0.8583\n",
            "Epoch 67/100\n",
            "30/30 [==============================] - 0s 5ms/step - loss: 0.5777 - accuracy: 0.9542 - val_loss: 0.7693 - val_accuracy: 0.8500\n",
            "Epoch 68/100\n",
            "30/30 [==============================] - 0s 4ms/step - loss: 0.5605 - accuracy: 0.9448 - val_loss: 0.7540 - val_accuracy: 0.8500\n",
            "Epoch 69/100\n",
            "30/30 [==============================] - 0s 5ms/step - loss: 0.5413 - accuracy: 0.9604 - val_loss: 0.7349 - val_accuracy: 0.8500\n",
            "Epoch 70/100\n",
            "30/30 [==============================] - 0s 4ms/step - loss: 0.5249 - accuracy: 0.9615 - val_loss: 0.7234 - val_accuracy: 0.8500\n",
            "Epoch 71/100\n",
            "30/30 [==============================] - 0s 4ms/step - loss: 0.5084 - accuracy: 0.9604 - val_loss: 0.7095 - val_accuracy: 0.8542\n",
            "Epoch 72/100\n",
            "30/30 [==============================] - 0s 4ms/step - loss: 0.4924 - accuracy: 0.9615 - val_loss: 0.6934 - val_accuracy: 0.8542\n",
            "Epoch 73/100\n",
            "30/30 [==============================] - 0s 4ms/step - loss: 0.4749 - accuracy: 0.9635 - val_loss: 0.6821 - val_accuracy: 0.8500\n",
            "Epoch 74/100\n",
            "30/30 [==============================] - 0s 5ms/step - loss: 0.4616 - accuracy: 0.9646 - val_loss: 0.6673 - val_accuracy: 0.8583\n",
            "Epoch 75/100\n",
            "30/30 [==============================] - 0s 5ms/step - loss: 0.4458 - accuracy: 0.9667 - val_loss: 0.6559 - val_accuracy: 0.8542\n",
            "Epoch 76/100\n",
            "30/30 [==============================] - 0s 7ms/step - loss: 0.4334 - accuracy: 0.9646 - val_loss: 0.6450 - val_accuracy: 0.8500\n",
            "Epoch 77/100\n",
            "30/30 [==============================] - 0s 9ms/step - loss: 0.4179 - accuracy: 0.9708 - val_loss: 0.6332 - val_accuracy: 0.8625\n",
            "Epoch 78/100\n",
            "30/30 [==============================] - 0s 8ms/step - loss: 0.4064 - accuracy: 0.9677 - val_loss: 0.6224 - val_accuracy: 0.8667\n",
            "Epoch 79/100\n",
            "30/30 [==============================] - 0s 8ms/step - loss: 0.3926 - accuracy: 0.9667 - val_loss: 0.6097 - val_accuracy: 0.8667\n",
            "Epoch 80/100\n",
            "30/30 [==============================] - 0s 6ms/step - loss: 0.3810 - accuracy: 0.9698 - val_loss: 0.5995 - val_accuracy: 0.8792\n",
            "Epoch 81/100\n",
            "30/30 [==============================] - 0s 7ms/step - loss: 0.3693 - accuracy: 0.9729 - val_loss: 0.5906 - val_accuracy: 0.8708\n",
            "Epoch 82/100\n",
            "30/30 [==============================] - 0s 7ms/step - loss: 0.3581 - accuracy: 0.9740 - val_loss: 0.5802 - val_accuracy: 0.8750\n",
            "Epoch 83/100\n",
            "30/30 [==============================] - 0s 8ms/step - loss: 0.3468 - accuracy: 0.9792 - val_loss: 0.5714 - val_accuracy: 0.8875\n",
            "Epoch 84/100\n",
            "30/30 [==============================] - 0s 6ms/step - loss: 0.3372 - accuracy: 0.9760 - val_loss: 0.5628 - val_accuracy: 0.8708\n",
            "Epoch 85/100\n",
            "30/30 [==============================] - 0s 6ms/step - loss: 0.3261 - accuracy: 0.9781 - val_loss: 0.5526 - val_accuracy: 0.8833\n",
            "Epoch 86/100\n",
            "30/30 [==============================] - 0s 6ms/step - loss: 0.3160 - accuracy: 0.9792 - val_loss: 0.5441 - val_accuracy: 0.8792\n",
            "Epoch 87/100\n",
            "30/30 [==============================] - 0s 6ms/step - loss: 0.3072 - accuracy: 0.9802 - val_loss: 0.5370 - val_accuracy: 0.8792\n",
            "Epoch 88/100\n",
            "30/30 [==============================] - 0s 6ms/step - loss: 0.2980 - accuracy: 0.9802 - val_loss: 0.5310 - val_accuracy: 0.8750\n",
            "Epoch 89/100\n",
            "30/30 [==============================] - 0s 8ms/step - loss: 0.2893 - accuracy: 0.9771 - val_loss: 0.5205 - val_accuracy: 0.8875\n",
            "Epoch 90/100\n",
            "30/30 [==============================] - 0s 6ms/step - loss: 0.2811 - accuracy: 0.9802 - val_loss: 0.5138 - val_accuracy: 0.8833\n",
            "Epoch 91/100\n",
            "30/30 [==============================] - 0s 6ms/step - loss: 0.2724 - accuracy: 0.9823 - val_loss: 0.5060 - val_accuracy: 0.9083\n",
            "Epoch 92/100\n",
            "30/30 [==============================] - 0s 6ms/step - loss: 0.2652 - accuracy: 0.9833 - val_loss: 0.4996 - val_accuracy: 0.8833\n",
            "Epoch 93/100\n",
            "30/30 [==============================] - 0s 6ms/step - loss: 0.2570 - accuracy: 0.9812 - val_loss: 0.4927 - val_accuracy: 0.8875\n",
            "Epoch 94/100\n",
            "30/30 [==============================] - 0s 6ms/step - loss: 0.2497 - accuracy: 0.9812 - val_loss: 0.4861 - val_accuracy: 0.8917\n",
            "Epoch 95/100\n",
            "30/30 [==============================] - 0s 6ms/step - loss: 0.2419 - accuracy: 0.9833 - val_loss: 0.4789 - val_accuracy: 0.9083\n",
            "Epoch 96/100\n",
            "30/30 [==============================] - 0s 6ms/step - loss: 0.2345 - accuracy: 0.9823 - val_loss: 0.4751 - val_accuracy: 0.8958\n",
            "Epoch 97/100\n",
            "30/30 [==============================] - 0s 6ms/step - loss: 0.2278 - accuracy: 0.9833 - val_loss: 0.4689 - val_accuracy: 0.9000\n",
            "Epoch 98/100\n",
            "30/30 [==============================] - 0s 5ms/step - loss: 0.2216 - accuracy: 0.9854 - val_loss: 0.4630 - val_accuracy: 0.8917\n",
            "Epoch 99/100\n",
            "30/30 [==============================] - 0s 5ms/step - loss: 0.2155 - accuracy: 0.9854 - val_loss: 0.4601 - val_accuracy: 0.9000\n",
            "Epoch 100/100\n",
            "30/30 [==============================] - 0s 5ms/step - loss: 0.2105 - accuracy: 0.9833 - val_loss: 0.4507 - val_accuracy: 0.8875\n"
          ]
        }
      ],
      "source": [
        "num_epochs = 100\n",
        "history = model.fit(train_padded, train_labels, \n",
        "                    epochs=num_epochs, \n",
        "                    validation_data=(validation_padded, validation_labels))"
      ]
    },
    {
      "cell_type": "code",
      "execution_count": null,
      "metadata": {
        "colab": {
          "base_uri": "https://localhost:8080/",
          "height": 881
        },
        "id": "PMUeRYy-ULAp",
        "outputId": "e77f6eb8-d26c-418f-8b45-a8fb7d8367af"
      },
      "outputs": [
        {
          "data": {
            "image/png": "[encoded data removed]",
            "text/plain": [
              "<Figure size 640x480 with 1 Axes>"
            ]
          },
          "metadata": {},
          "output_type": "display_data"
        },
        {
          "data": {
            "image/png": "[encoded data removed]",
            "text/plain": [
              "<Figure size 640x480 with 1 Axes>"
            ]
          },
          "metadata": {},
          "output_type": "display_data"
        }
      ],
      "source": [
        "def plot_graphs(history, string):\n",
        "  plt.plot(history.history[string])\n",
        "  plt.plot(history.history['val_'+string])\n",
        "  plt.xlabel(\"Epochs\")\n",
        "  plt.ylabel(string)\n",
        "  plt.legend([string, 'val_'+string])\n",
        "  plt.show()\n",
        "  \n",
        "plot_graphs(history, \"accuracy\")\n",
        "plot_graphs(history, \"loss\")"
      ]
    },
    {
      "cell_type": "code",
      "execution_count": null,
      "metadata": {
        "id": "TBUP3ydzW4ra"
      },
      "outputs": [],
      "source": [
        "test = train_padded[10:15]\n",
        "test_label = train_labels[10:15]"
      ]
    },
    {
      "cell_type": "code",
      "execution_count": null,
      "metadata": {
        "id": "5PHHzNaUXInB"
      },
      "outputs": [],
      "source": [
        "prediction = model.predict_on_batch(\n",
        "    test\n",
        ")"
      ]
    },
    {
      "cell_type": "code",
      "execution_count": null,
      "metadata": {
        "colab": {
          "base_uri": "https://localhost:8080/"
        },
        "id": "rNagPy8PbIwr",
        "outputId": "c038c5d8-524b-44eb-a297-de087df18bda"
      },
      "outputs": [
        {
          "data": {
            "text/plain": [
              "array([[1.08868612e-07, 1.64618536e-13, 1.46581539e-10, 9.96147054e-10,\n",
              "        5.53797139e-03, 4.23295266e-09, 6.33497490e-03, 8.07835132e-09,\n",
              "        2.41584761e-08, 3.84807481e-06, 8.40042921e-05, 2.66103027e-03,\n",
              "        9.65996921e-01, 1.16323427e-07, 4.43735066e-12, 1.65821129e-05,\n",
              "        1.83302034e-02, 1.01058499e-03, 6.84938994e-10, 5.19981825e-07,\n",
              "        2.21049413e-05, 1.18089793e-09, 8.09510937e-07, 1.30035744e-07],\n",
              "       [4.69577099e-10, 3.61820618e-08, 6.12791744e-04, 1.51405763e-03,\n",
              "        3.34087992e-04, 6.49465146e-05, 4.22500400e-03, 2.14004672e-07,\n",
              "        2.19598284e-10, 3.50718736e-04, 1.35139388e-07, 9.04686048e-11,\n",
              "        2.73619549e-09, 2.69381985e-06, 5.89987758e-05, 1.72945519e-03,\n",
              "        1.22723141e-04, 1.23438920e-04, 5.72240306e-03, 1.87873410e-03,\n",
              "        8.04544315e-02, 1.98297482e-03, 4.81024534e-02, 8.52719724e-01],\n",
              "       [3.80119862e-04, 2.08262782e-06, 4.45965416e-04, 1.18038704e-04,\n",
              "        1.22430220e-01, 6.90109155e-04, 1.69565231e-02, 1.28938467e-03,\n",
              "        1.05730828e-06, 6.92962157e-03, 1.32021392e-02, 7.66852281e-06,\n",
              "        2.00046902e-03, 1.30878296e-04, 6.36627465e-06, 1.27706733e-02,\n",
              "        6.99932754e-01, 5.74224815e-02, 2.03572982e-03, 2.96254866e-02,\n",
              "        2.49953382e-02, 1.68474056e-04, 7.97917135e-03, 4.79372276e-04],\n",
              "       [3.88155562e-19, 1.01765590e-05, 3.31007314e-12, 5.91926691e-05,\n",
              "        3.80729553e-14, 3.02164130e-21, 8.98800825e-11, 9.14593123e-11,\n",
              "        1.13490395e-29, 3.67261932e-09, 5.09091969e-09, 1.64244769e-23,\n",
              "        9.23357853e-13, 9.98150349e-01, 1.96624843e-22, 5.53009143e-14,\n",
              "        1.94783939e-10, 8.58050538e-04, 3.16518339e-11, 2.00505820e-05,\n",
              "        1.33057000e-07, 8.98952305e-04, 3.06121865e-06, 9.95896143e-10],\n",
              "       [1.37048196e-13, 5.68420393e-04, 2.31402481e-07, 5.35428245e-03,\n",
              "        3.31273120e-09, 6.92904257e-14, 3.67618696e-07, 5.98743100e-07,\n",
              "        1.38533578e-21, 7.46263277e-06, 2.39198675e-06, 4.84307631e-18,\n",
              "        5.90119897e-10, 8.96543622e-01, 6.74888197e-15, 5.54428992e-09,\n",
              "        1.80832876e-06, 3.43926176e-02, 1.45077036e-06, 9.79060959e-03,\n",
              "        2.31301121e-04, 5.03909402e-02, 2.70712702e-03, 6.80001631e-06]],\n",
              "      dtype=float32)"
            ]
          },
          "execution_count": 25,
          "metadata": {},
          "output_type": "execute_result"
        }
      ],
      "source": [
        "prediction"
      ]
    },
    {
      "cell_type": "code",
      "execution_count": null,
      "metadata": {
        "colab": {
          "base_uri": "https://localhost:8080/"
        },
        "id": "bUvFSDI-bMbP",
        "outputId": "46c274af-6a7b-4447-9df4-38d7eab3d491"
      },
      "outputs": [
        {
          "data": {
            "text/plain": [
              "array([[ 1, 14,  2, 18,  3, 21,  5,  7,  8,  0, 13, 23, 19, 22,  9, 15,\n",
              "        20, 10, 17, 11,  4,  6, 16, 12],\n",
              "       [11,  8,  0, 12,  1, 10,  7, 13, 14,  5, 16, 17,  4,  9,  2,  3,\n",
              "        15, 19, 21,  6, 18, 22, 20, 23],\n",
              "       [ 8,  1, 14, 11,  3, 13, 21,  0,  2, 23,  5,  7, 12, 18,  9, 22,\n",
              "        15, 10,  6, 20, 19, 17,  4, 16],\n",
              "       [ 8, 11, 14,  5,  0,  4, 15, 12,  2, 18,  6,  7, 16, 23,  9, 10,\n",
              "        20, 22,  1, 19,  3, 17, 21, 13],\n",
              "       [ 8, 11, 14,  5,  0, 12,  4, 15,  2,  6,  7, 18, 16, 10, 23,  9,\n",
              "        20,  1, 22,  3, 19, 17, 21, 13]])"
            ]
          },
          "execution_count": 26,
          "metadata": {},
          "output_type": "execute_result"
        }
      ],
      "source": [
        "np.argsort(prediction)"
      ]
    },
    {
      "cell_type": "code",
      "execution_count": null,
      "metadata": {
        "colab": {
          "base_uri": "https://localhost:8080/"
        },
        "id": "1FAvHit7bWGt",
        "outputId": "7a7a09eb-90c1-4b30-8506-f75614ca00b6"
      },
      "outputs": [
        {
          "data": {
            "text/plain": [
              "array(['urinary tract infection'], dtype=object)"
            ]
          },
          "execution_count": 27,
          "metadata": {},
          "output_type": "execute_result"
        }
      ],
      "source": [
        "label_encoder.inverse_transform(np.argsort(prediction[1])[-1:][::-1])"
      ]
    },
    {
      "cell_type": "code",
      "execution_count": null,
      "metadata": {
        "colab": {
          "base_uri": "https://localhost:8080/"
        },
        "id": "K5J_mQv0Yv8p",
        "outputId": "2a7caaa1-1a40-4e1f-8b8d-0fa368013b91"
      },
      "outputs": [
        {
          "name": "stdout",
          "output_type": "stream",
          "text": [
            "['Malaria']\n",
            "['urinary tract infection']\n",
            "['Typhoid']\n",
            "['Migraine']\n",
            "['Migraine']\n"
          ]
        }
      ],
      "source": [
        "for i in prediction:\n",
        "  top_3 = np.argsort(i)[-1:][::-1]\n",
        "  print(label_encoder.inverse_transform(top_3))"
      ]
    },
    {
      "cell_type": "code",
      "execution_count": null,
      "metadata": {
        "colab": {
          "base_uri": "https://localhost:8080/"
        },
        "id": "X2KVhMJjXccr",
        "outputId": "f18047d7-5278-4fe4-f4d8-32fba102d684"
      },
      "outputs": [
        {
          "data": {
            "text/plain": [
              "array([[12],\n",
              "       [23],\n",
              "       [16],\n",
              "       [13],\n",
              "       [13]])"
            ]
          },
          "execution_count": 29,
          "metadata": {},
          "output_type": "execute_result"
        }
      ],
      "source": [
        "test_label"
      ]
    },
    {
      "cell_type": "code",
      "execution_count": null,
      "metadata": {
        "colab": {
          "base_uri": "https://localhost:8080/"
        },
        "id": "hG_Hqw1bZVoO",
        "outputId": "fc8c7982-691e-4fe9-ae55-062db8288303"
      },
      "outputs": [
        {
          "name": "stderr",
          "output_type": "stream",
          "text": [
            "/usr/local/lib/python3.10/dist-packages/sklearn/preprocessing/_label.py:155: DataConversionWarning: A column-vector y was passed when a 1d array was expected. Please change the shape of y to (n_samples, ), for example using ravel().\n",
            "  y = column_or_1d(y, warn=True)\n"
          ]
        },
        {
          "data": {
            "text/plain": [
              "array(['Malaria', 'urinary tract infection', 'Typhoid', 'Migraine',\n",
              "       'Migraine'], dtype=object)"
            ]
          },
          "execution_count": 30,
          "metadata": {},
          "output_type": "execute_result"
        }
      ],
      "source": [
        "label_encoder.inverse_transform(test_label)"
      ]
    },
    {
      "cell_type": "code",
      "execution_count": null,
      "metadata": {
        "id": "pWFe8m-TdVl9"
      },
      "outputs": [],
      "source": [
        "filepath = \"keyword extraction/model.h5\""
      ]
    },
    {
      "cell_type": "code",
      "execution_count": null,
      "metadata": {
        "id": "6MOlBl4odFkx"
      },
      "outputs": [],
      "source": [
        "model.save(filepath, save_format='h5')"
      ]
    },
    {
      "cell_type": "code",
      "execution_count": null,
      "metadata": {},
      "outputs": [],
      "source": [
        "import tensorflowjs as tfjs"
      ]
    },
    {
      "cell_type": "code",
      "execution_count": null,
      "metadata": {},
      "outputs": [],
      "source": [
        "tfjs.converters.save_keras_model(model, \"keyword extraction/\")"
      ]
    },
    {
      "cell_type": "code",
      "execution_count": null,
      "metadata": {
        "id": "U90tA3NqhY3P"
      },
      "outputs": [],
      "source": [
        "test1 = [\"My nails have small dents or pits in them, and they often feel inflammatory and tender to the touch. Even there are minor rashes on my arms.\", \"The swelling in my legs is causing me to have difficulty fitting into my shoes. I can't sprint or stand for long periods of time. I can see some swollen blood vessels.\"]"
      ]
    },
    {
      "cell_type": "code",
      "execution_count": null,
      "metadata": {
        "colab": {
          "base_uri": "https://localhost:8080/"
        },
        "id": "TcsAUdhFj5z_",
        "outputId": "2881722b-cf9f-4d05-9050-75deb047da43"
      },
      "outputs": [
        {
          "name": "stdout",
          "output_type": "stream",
          "text": [
            "['My nails have small dents or pits in them, and they often feel inflammatory and tender to the touch. Even there are minor rashes on my arms.', \"The swelling in my legs is causing me to have difficulty fitting into my shoes. I can't sprint or stand for long periods of time. I can see some swollen blood vessels.\"]\n"
          ]
        }
      ],
      "source": [
        "print(test1)"
      ]
    },
    {
      "cell_type": "code",
      "execution_count": null,
      "metadata": {
        "id": "H6FBjp8IhhqX"
      },
      "outputs": [],
      "source": [
        "testing = []\n",
        "for i in test1:\n",
        "  testing.append(sen(keywords(i)))"
      ]
    },
    {
      "cell_type": "code",
      "execution_count": null,
      "metadata": {
        "colab": {
          "base_uri": "https://localhost:8080/"
        },
        "id": "FMAyBDI-j01T",
        "outputId": "089523b4-2243-4c1f-f172-6326d56f5b71"
      },
      "outputs": [
        {
          "name": "stdout",
          "output_type": "stream",
          "text": [
            "['often feel inflammatory small dents minor rashes touch tender pits nails even arms', 'swollen blood vessels long periods difficulty fitting time swelling stand sprint shoes see legs causing']\n"
          ]
        }
      ],
      "source": [
        "print(testing)"
      ]
    },
    {
      "cell_type": "code",
      "execution_count": null,
      "metadata": {
        "id": "77z84m5wiSwm"
      },
      "outputs": [],
      "source": [
        "test_sequences = tokenizer.texts_to_sequences(testing)\n",
        "test_padded = pad_sequences(test_sequences, padding=padding_type, maxlen=max_length)"
      ]
    },
    {
      "cell_type": "code",
      "execution_count": null,
      "metadata": {
        "id": "L31xBA-xiiE3"
      },
      "outputs": [],
      "source": [
        "prediction = model.predict_on_batch(\n",
        "    test_padded\n",
        ")"
      ]
    },
    {
      "cell_type": "code",
      "execution_count": null,
      "metadata": {
        "colab": {
          "base_uri": "https://localhost:8080/"
        },
        "id": "-6WAhbfXi-7C",
        "outputId": "275bf394-3d38-4ff8-ed71-f42233e6de22"
      },
      "outputs": [
        {
          "name": "stdout",
          "output_type": "stream",
          "text": [
            "['Psoriasis']\n",
            "['Varicose Veins']\n"
          ]
        }
      ],
      "source": [
        "for i in prediction:\n",
        "  top_3 = np.argsort(i)[-1:][::-1]\n",
        "  print(label_encoder.inverse_transform(top_3))"
      ]
    },
    {
      "attachments": {},
      "cell_type": "markdown",
      "metadata": {
        "id": "PF4XD0L-kjf1"
      },
      "source": [
        "untuk pake modelnya: teks di ekstrak dulu keywordnya, trus di padding\n",
        "\n",
        "Masih menjadi pertanyaan: kenapa modelnya cuma mau nerima input 2d?"
      ]
    }
  ],
  "metadata": {
    "colab": {
      "provenance": []
    },
    "kernelspec": {
      "display_name": "Python 3",
      "name": "python3"
    },
    "language_info": {
      "name": "python"
    }
  },
  "nbformat": 4,
  "nbformat_minor": 0
}
